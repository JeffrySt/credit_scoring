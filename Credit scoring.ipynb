{
  "cells": [
    {
      "cell_type": "code",
      "execution_count": null,
      "metadata": {
        "id": "amOJTJAXsRS6"
      },
      "outputs": [],
      "source": [
        "\n",
        "\n",
        "\n",
        "df=pd.read_csv('/datasets/credit_scoring_eng.csv')# Muat datanya\n"
      ]
    },
    {
      "cell_type": "code",
      "execution_count": null,
      "metadata": {
        "id": "xTvTtPG4sRS7",
        "outputId": "63d60d55-ffd7-4d90-e8eb-d4dafb0bd5f0"
      },
      "outputs": [
        {
          "data": {
            "text/html": [
              "<div>\n",
              "<style scoped>\n",
              "    .dataframe tbody tr th:only-of-type {\n",
              "        vertical-align: middle;\n",
              "    }\n",
              "\n",
              "    .dataframe tbody tr th {\n",
              "        vertical-align: top;\n",
              "    }\n",
              "\n",
              "    .dataframe thead th {\n",
              "        text-align: right;\n",
              "    }\n",
              "</style>\n",
              "<table border=\"1\" class=\"dataframe\">\n",
              "  <thead>\n",
              "    <tr style=\"text-align: right;\">\n",
              "      <th></th>\n",
              "      <th>children</th>\n",
              "      <th>days_employed</th>\n",
              "      <th>dob_years</th>\n",
              "      <th>education</th>\n",
              "      <th>education_id</th>\n",
              "      <th>family_status</th>\n",
              "      <th>family_status_id</th>\n",
              "      <th>gender</th>\n",
              "      <th>income_type</th>\n",
              "      <th>debt</th>\n",
              "      <th>total_income</th>\n",
              "      <th>purpose</th>\n",
              "    </tr>\n",
              "  </thead>\n",
              "  <tbody>\n",
              "    <tr>\n",
              "      <th>0</th>\n",
              "      <td>1</td>\n",
              "      <td>-8437.673028</td>\n",
              "      <td>42</td>\n",
              "      <td>bachelor's degree</td>\n",
              "      <td>0</td>\n",
              "      <td>married</td>\n",
              "      <td>0</td>\n",
              "      <td>F</td>\n",
              "      <td>employee</td>\n",
              "      <td>0</td>\n",
              "      <td>40620.102</td>\n",
              "      <td>purchase of the house</td>\n",
              "    </tr>\n",
              "    <tr>\n",
              "      <th>1</th>\n",
              "      <td>1</td>\n",
              "      <td>-4024.803754</td>\n",
              "      <td>36</td>\n",
              "      <td>secondary education</td>\n",
              "      <td>1</td>\n",
              "      <td>married</td>\n",
              "      <td>0</td>\n",
              "      <td>F</td>\n",
              "      <td>employee</td>\n",
              "      <td>0</td>\n",
              "      <td>17932.802</td>\n",
              "      <td>car purchase</td>\n",
              "    </tr>\n",
              "    <tr>\n",
              "      <th>2</th>\n",
              "      <td>0</td>\n",
              "      <td>-5623.422610</td>\n",
              "      <td>33</td>\n",
              "      <td>Secondary Education</td>\n",
              "      <td>1</td>\n",
              "      <td>married</td>\n",
              "      <td>0</td>\n",
              "      <td>M</td>\n",
              "      <td>employee</td>\n",
              "      <td>0</td>\n",
              "      <td>23341.752</td>\n",
              "      <td>purchase of the house</td>\n",
              "    </tr>\n",
              "    <tr>\n",
              "      <th>3</th>\n",
              "      <td>3</td>\n",
              "      <td>-4124.747207</td>\n",
              "      <td>32</td>\n",
              "      <td>secondary education</td>\n",
              "      <td>1</td>\n",
              "      <td>married</td>\n",
              "      <td>0</td>\n",
              "      <td>M</td>\n",
              "      <td>employee</td>\n",
              "      <td>0</td>\n",
              "      <td>42820.568</td>\n",
              "      <td>supplementary education</td>\n",
              "    </tr>\n",
              "    <tr>\n",
              "      <th>4</th>\n",
              "      <td>0</td>\n",
              "      <td>340266.072047</td>\n",
              "      <td>53</td>\n",
              "      <td>secondary education</td>\n",
              "      <td>1</td>\n",
              "      <td>civil partnership</td>\n",
              "      <td>1</td>\n",
              "      <td>F</td>\n",
              "      <td>retiree</td>\n",
              "      <td>0</td>\n",
              "      <td>25378.572</td>\n",
              "      <td>to have a wedding</td>\n",
              "    </tr>\n",
              "    <tr>\n",
              "      <th>...</th>\n",
              "      <td>...</td>\n",
              "      <td>...</td>\n",
              "      <td>...</td>\n",
              "      <td>...</td>\n",
              "      <td>...</td>\n",
              "      <td>...</td>\n",
              "      <td>...</td>\n",
              "      <td>...</td>\n",
              "      <td>...</td>\n",
              "      <td>...</td>\n",
              "      <td>...</td>\n",
              "      <td>...</td>\n",
              "    </tr>\n",
              "    <tr>\n",
              "      <th>21520</th>\n",
              "      <td>1</td>\n",
              "      <td>-4529.316663</td>\n",
              "      <td>43</td>\n",
              "      <td>secondary education</td>\n",
              "      <td>1</td>\n",
              "      <td>civil partnership</td>\n",
              "      <td>1</td>\n",
              "      <td>F</td>\n",
              "      <td>business</td>\n",
              "      <td>0</td>\n",
              "      <td>35966.698</td>\n",
              "      <td>housing transactions</td>\n",
              "    </tr>\n",
              "    <tr>\n",
              "      <th>21521</th>\n",
              "      <td>0</td>\n",
              "      <td>343937.404131</td>\n",
              "      <td>67</td>\n",
              "      <td>secondary education</td>\n",
              "      <td>1</td>\n",
              "      <td>married</td>\n",
              "      <td>0</td>\n",
              "      <td>F</td>\n",
              "      <td>retiree</td>\n",
              "      <td>0</td>\n",
              "      <td>24959.969</td>\n",
              "      <td>purchase of a car</td>\n",
              "    </tr>\n",
              "    <tr>\n",
              "      <th>21522</th>\n",
              "      <td>1</td>\n",
              "      <td>-2113.346888</td>\n",
              "      <td>38</td>\n",
              "      <td>secondary education</td>\n",
              "      <td>1</td>\n",
              "      <td>civil partnership</td>\n",
              "      <td>1</td>\n",
              "      <td>M</td>\n",
              "      <td>employee</td>\n",
              "      <td>1</td>\n",
              "      <td>14347.610</td>\n",
              "      <td>property</td>\n",
              "    </tr>\n",
              "    <tr>\n",
              "      <th>21523</th>\n",
              "      <td>3</td>\n",
              "      <td>-3112.481705</td>\n",
              "      <td>38</td>\n",
              "      <td>secondary education</td>\n",
              "      <td>1</td>\n",
              "      <td>married</td>\n",
              "      <td>0</td>\n",
              "      <td>M</td>\n",
              "      <td>employee</td>\n",
              "      <td>1</td>\n",
              "      <td>39054.888</td>\n",
              "      <td>buying my own car</td>\n",
              "    </tr>\n",
              "    <tr>\n",
              "      <th>21524</th>\n",
              "      <td>2</td>\n",
              "      <td>-1984.507589</td>\n",
              "      <td>40</td>\n",
              "      <td>secondary education</td>\n",
              "      <td>1</td>\n",
              "      <td>married</td>\n",
              "      <td>0</td>\n",
              "      <td>F</td>\n",
              "      <td>employee</td>\n",
              "      <td>0</td>\n",
              "      <td>13127.587</td>\n",
              "      <td>to buy a car</td>\n",
              "    </tr>\n",
              "  </tbody>\n",
              "</table>\n",
              "<p>21525 rows × 12 columns</p>\n",
              "</div>"
            ],
            "text/plain": [
              "       children  days_employed  dob_years            education  education_id  \\\n",
              "0             1   -8437.673028         42    bachelor's degree             0   \n",
              "1             1   -4024.803754         36  secondary education             1   \n",
              "2             0   -5623.422610         33  Secondary Education             1   \n",
              "3             3   -4124.747207         32  secondary education             1   \n",
              "4             0  340266.072047         53  secondary education             1   \n",
              "...         ...            ...        ...                  ...           ...   \n",
              "21520         1   -4529.316663         43  secondary education             1   \n",
              "21521         0  343937.404131         67  secondary education             1   \n",
              "21522         1   -2113.346888         38  secondary education             1   \n",
              "21523         3   -3112.481705         38  secondary education             1   \n",
              "21524         2   -1984.507589         40  secondary education             1   \n",
              "\n",
              "           family_status  family_status_id gender income_type  debt  \\\n",
              "0                married                 0      F    employee     0   \n",
              "1                married                 0      F    employee     0   \n",
              "2                married                 0      M    employee     0   \n",
              "3                married                 0      M    employee     0   \n",
              "4      civil partnership                 1      F     retiree     0   \n",
              "...                  ...               ...    ...         ...   ...   \n",
              "21520  civil partnership                 1      F    business     0   \n",
              "21521            married                 0      F     retiree     0   \n",
              "21522  civil partnership                 1      M    employee     1   \n",
              "21523            married                 0      M    employee     1   \n",
              "21524            married                 0      F    employee     0   \n",
              "\n",
              "       total_income                  purpose  \n",
              "0         40620.102    purchase of the house  \n",
              "1         17932.802             car purchase  \n",
              "2         23341.752    purchase of the house  \n",
              "3         42820.568  supplementary education  \n",
              "4         25378.572        to have a wedding  \n",
              "...             ...                      ...  \n",
              "21520     35966.698     housing transactions  \n",
              "21521     24959.969        purchase of a car  \n",
              "21522     14347.610                 property  \n",
              "21523     39054.888        buying my own car  \n",
              "21524     13127.587             to buy a car  \n",
              "\n",
              "[21525 rows x 12 columns]"
            ]
          },
          "execution_count": 2,
          "metadata": {},
          "output_type": "execute_result"
        }
      ],
      "source": [
        "df"
      ]
    },
    {
      "cell_type": "code",
      "execution_count": null,
      "metadata": {
        "id": "LllfCrWfsRS8",
        "outputId": "5e57d17e-ba83-4996-a9ba-cfa8daae0c0a"
      },
      "outputs": [
        {
          "data": {
            "text/plain": [
              "(21525, 12)"
            ]
          },
          "execution_count": 3,
          "metadata": {},
          "output_type": "execute_result"
        }
      ],
      "source": [
        "df.shape\n",
        "\n"
      ]
    },
    {
      "cell_type": "code",
      "execution_count": null,
      "metadata": {
        "scrolled": true,
        "id": "PWJUt3DHsRS9",
        "outputId": "212e00e7-3592-486d-cceb-37cf5de497c5"
      },
      "outputs": [
        {
          "data": {
            "text/html": [
              "<div>\n",
              "<style scoped>\n",
              "    .dataframe tbody tr th:only-of-type {\n",
              "        vertical-align: middle;\n",
              "    }\n",
              "\n",
              "    .dataframe tbody tr th {\n",
              "        vertical-align: top;\n",
              "    }\n",
              "\n",
              "    .dataframe thead th {\n",
              "        text-align: right;\n",
              "    }\n",
              "</style>\n",
              "<table border=\"1\" class=\"dataframe\">\n",
              "  <thead>\n",
              "    <tr style=\"text-align: right;\">\n",
              "      <th></th>\n",
              "      <th>children</th>\n",
              "      <th>days_employed</th>\n",
              "      <th>dob_years</th>\n",
              "      <th>education</th>\n",
              "      <th>education_id</th>\n",
              "      <th>family_status</th>\n",
              "      <th>family_status_id</th>\n",
              "      <th>gender</th>\n",
              "      <th>income_type</th>\n",
              "      <th>debt</th>\n",
              "      <th>total_income</th>\n",
              "      <th>purpose</th>\n",
              "    </tr>\n",
              "  </thead>\n",
              "  <tbody>\n",
              "    <tr>\n",
              "      <th>0</th>\n",
              "      <td>1</td>\n",
              "      <td>-8437.673028</td>\n",
              "      <td>42</td>\n",
              "      <td>bachelor's degree</td>\n",
              "      <td>0</td>\n",
              "      <td>married</td>\n",
              "      <td>0</td>\n",
              "      <td>F</td>\n",
              "      <td>employee</td>\n",
              "      <td>0</td>\n",
              "      <td>40620.102</td>\n",
              "      <td>purchase of the house</td>\n",
              "    </tr>\n",
              "    <tr>\n",
              "      <th>1</th>\n",
              "      <td>1</td>\n",
              "      <td>-4024.803754</td>\n",
              "      <td>36</td>\n",
              "      <td>secondary education</td>\n",
              "      <td>1</td>\n",
              "      <td>married</td>\n",
              "      <td>0</td>\n",
              "      <td>F</td>\n",
              "      <td>employee</td>\n",
              "      <td>0</td>\n",
              "      <td>17932.802</td>\n",
              "      <td>car purchase</td>\n",
              "    </tr>\n",
              "    <tr>\n",
              "      <th>2</th>\n",
              "      <td>0</td>\n",
              "      <td>-5623.422610</td>\n",
              "      <td>33</td>\n",
              "      <td>Secondary Education</td>\n",
              "      <td>1</td>\n",
              "      <td>married</td>\n",
              "      <td>0</td>\n",
              "      <td>M</td>\n",
              "      <td>employee</td>\n",
              "      <td>0</td>\n",
              "      <td>23341.752</td>\n",
              "      <td>purchase of the house</td>\n",
              "    </tr>\n",
              "    <tr>\n",
              "      <th>3</th>\n",
              "      <td>3</td>\n",
              "      <td>-4124.747207</td>\n",
              "      <td>32</td>\n",
              "      <td>secondary education</td>\n",
              "      <td>1</td>\n",
              "      <td>married</td>\n",
              "      <td>0</td>\n",
              "      <td>M</td>\n",
              "      <td>employee</td>\n",
              "      <td>0</td>\n",
              "      <td>42820.568</td>\n",
              "      <td>supplementary education</td>\n",
              "    </tr>\n",
              "    <tr>\n",
              "      <th>4</th>\n",
              "      <td>0</td>\n",
              "      <td>340266.072047</td>\n",
              "      <td>53</td>\n",
              "      <td>secondary education</td>\n",
              "      <td>1</td>\n",
              "      <td>civil partnership</td>\n",
              "      <td>1</td>\n",
              "      <td>F</td>\n",
              "      <td>retiree</td>\n",
              "      <td>0</td>\n",
              "      <td>25378.572</td>\n",
              "      <td>to have a wedding</td>\n",
              "    </tr>\n",
              "  </tbody>\n",
              "</table>\n",
              "</div>"
            ],
            "text/plain": [
              "   children  days_employed  dob_years            education  education_id  \\\n",
              "0         1   -8437.673028         42    bachelor's degree             0   \n",
              "1         1   -4024.803754         36  secondary education             1   \n",
              "2         0   -5623.422610         33  Secondary Education             1   \n",
              "3         3   -4124.747207         32  secondary education             1   \n",
              "4         0  340266.072047         53  secondary education             1   \n",
              "\n",
              "       family_status  family_status_id gender income_type  debt  total_income  \\\n",
              "0            married                 0      F    employee     0     40620.102   \n",
              "1            married                 0      F    employee     0     17932.802   \n",
              "2            married                 0      M    employee     0     23341.752   \n",
              "3            married                 0      M    employee     0     42820.568   \n",
              "4  civil partnership                 1      F     retiree     0     25378.572   \n",
              "\n",
              "                   purpose  \n",
              "0    purchase of the house  \n",
              "1             car purchase  \n",
              "2    purchase of the house  \n",
              "3  supplementary education  \n",
              "4        to have a wedding  "
            ]
          },
          "execution_count": 4,
          "metadata": {},
          "output_type": "execute_result"
        }
      ],
      "source": [
        "df.head()\n",
        "\n"
      ]
    },
    {
      "cell_type": "code",
      "execution_count": null,
      "metadata": {
        "scrolled": false,
        "id": "8cz8As-asRS9",
        "outputId": "185397e9-7221-46f3-dec8-0af7a0a39103"
      },
      "outputs": [
        {
          "name": "stdout",
          "output_type": "stream",
          "text": [
            "<class 'pandas.core.frame.DataFrame'>\n",
            "RangeIndex: 21525 entries, 0 to 21524\n",
            "Data columns (total 12 columns):\n",
            " #   Column            Non-Null Count  Dtype  \n",
            "---  ------            --------------  -----  \n",
            " 0   children          21525 non-null  int64  \n",
            " 1   days_employed     19351 non-null  float64\n",
            " 2   dob_years         21525 non-null  int64  \n",
            " 3   education         21525 non-null  object \n",
            " 4   education_id      21525 non-null  int64  \n",
            " 5   family_status     21525 non-null  object \n",
            " 6   family_status_id  21525 non-null  int64  \n",
            " 7   gender            21525 non-null  object \n",
            " 8   income_type       21525 non-null  object \n",
            " 9   debt              21525 non-null  int64  \n",
            " 10  total_income      19351 non-null  float64\n",
            " 11  purpose           21525 non-null  object \n",
            "dtypes: float64(2), int64(5), object(5)\n",
            "memory usage: 2.0+ MB\n"
          ]
        }
      ],
      "source": [
        "df.info()\n"
      ]
    },
    {
      "cell_type": "code",
      "execution_count": null,
      "metadata": {
        "id": "s1NjKt5MsRS9",
        "outputId": "08fcaf5c-f09a-4c66-b568-ccbb733f27da"
      },
      "outputs": [
        {
          "data": {
            "text/html": [
              "<div>\n",
              "<style scoped>\n",
              "    .dataframe tbody tr th:only-of-type {\n",
              "        vertical-align: middle;\n",
              "    }\n",
              "\n",
              "    .dataframe tbody tr th {\n",
              "        vertical-align: top;\n",
              "    }\n",
              "\n",
              "    .dataframe thead th {\n",
              "        text-align: right;\n",
              "    }\n",
              "</style>\n",
              "<table border=\"1\" class=\"dataframe\">\n",
              "  <thead>\n",
              "    <tr style=\"text-align: right;\">\n",
              "      <th></th>\n",
              "      <th>children</th>\n",
              "      <th>days_employed</th>\n",
              "      <th>dob_years</th>\n",
              "      <th>education_id</th>\n",
              "      <th>family_status_id</th>\n",
              "      <th>debt</th>\n",
              "      <th>total_income</th>\n",
              "    </tr>\n",
              "  </thead>\n",
              "  <tbody>\n",
              "    <tr>\n",
              "      <th>count</th>\n",
              "      <td>21525.000000</td>\n",
              "      <td>19351.000000</td>\n",
              "      <td>21525.000000</td>\n",
              "      <td>21525.000000</td>\n",
              "      <td>21525.000000</td>\n",
              "      <td>21525.000000</td>\n",
              "      <td>19351.000000</td>\n",
              "    </tr>\n",
              "    <tr>\n",
              "      <th>mean</th>\n",
              "      <td>0.538908</td>\n",
              "      <td>63046.497661</td>\n",
              "      <td>43.293380</td>\n",
              "      <td>0.817236</td>\n",
              "      <td>0.972544</td>\n",
              "      <td>0.080883</td>\n",
              "      <td>26787.568355</td>\n",
              "    </tr>\n",
              "    <tr>\n",
              "      <th>std</th>\n",
              "      <td>1.381587</td>\n",
              "      <td>140827.311974</td>\n",
              "      <td>12.574584</td>\n",
              "      <td>0.548138</td>\n",
              "      <td>1.420324</td>\n",
              "      <td>0.272661</td>\n",
              "      <td>16475.450632</td>\n",
              "    </tr>\n",
              "    <tr>\n",
              "      <th>min</th>\n",
              "      <td>-1.000000</td>\n",
              "      <td>-18388.949901</td>\n",
              "      <td>0.000000</td>\n",
              "      <td>0.000000</td>\n",
              "      <td>0.000000</td>\n",
              "      <td>0.000000</td>\n",
              "      <td>3306.762000</td>\n",
              "    </tr>\n",
              "    <tr>\n",
              "      <th>25%</th>\n",
              "      <td>0.000000</td>\n",
              "      <td>-2747.423625</td>\n",
              "      <td>33.000000</td>\n",
              "      <td>1.000000</td>\n",
              "      <td>0.000000</td>\n",
              "      <td>0.000000</td>\n",
              "      <td>16488.504500</td>\n",
              "    </tr>\n",
              "    <tr>\n",
              "      <th>50%</th>\n",
              "      <td>0.000000</td>\n",
              "      <td>-1203.369529</td>\n",
              "      <td>42.000000</td>\n",
              "      <td>1.000000</td>\n",
              "      <td>0.000000</td>\n",
              "      <td>0.000000</td>\n",
              "      <td>23202.870000</td>\n",
              "    </tr>\n",
              "    <tr>\n",
              "      <th>75%</th>\n",
              "      <td>1.000000</td>\n",
              "      <td>-291.095954</td>\n",
              "      <td>53.000000</td>\n",
              "      <td>1.000000</td>\n",
              "      <td>1.000000</td>\n",
              "      <td>0.000000</td>\n",
              "      <td>32549.611000</td>\n",
              "    </tr>\n",
              "    <tr>\n",
              "      <th>max</th>\n",
              "      <td>20.000000</td>\n",
              "      <td>401755.400475</td>\n",
              "      <td>75.000000</td>\n",
              "      <td>4.000000</td>\n",
              "      <td>4.000000</td>\n",
              "      <td>1.000000</td>\n",
              "      <td>362496.645000</td>\n",
              "    </tr>\n",
              "  </tbody>\n",
              "</table>\n",
              "</div>"
            ],
            "text/plain": [
              "           children  days_employed     dob_years  education_id  \\\n",
              "count  21525.000000   19351.000000  21525.000000  21525.000000   \n",
              "mean       0.538908   63046.497661     43.293380      0.817236   \n",
              "std        1.381587  140827.311974     12.574584      0.548138   \n",
              "min       -1.000000  -18388.949901      0.000000      0.000000   \n",
              "25%        0.000000   -2747.423625     33.000000      1.000000   \n",
              "50%        0.000000   -1203.369529     42.000000      1.000000   \n",
              "75%        1.000000    -291.095954     53.000000      1.000000   \n",
              "max       20.000000  401755.400475     75.000000      4.000000   \n",
              "\n",
              "       family_status_id          debt   total_income  \n",
              "count      21525.000000  21525.000000   19351.000000  \n",
              "mean           0.972544      0.080883   26787.568355  \n",
              "std            1.420324      0.272661   16475.450632  \n",
              "min            0.000000      0.000000    3306.762000  \n",
              "25%            0.000000      0.000000   16488.504500  \n",
              "50%            0.000000      0.000000   23202.870000  \n",
              "75%            1.000000      0.000000   32549.611000  \n",
              "max            4.000000      1.000000  362496.645000  "
            ]
          },
          "execution_count": 6,
          "metadata": {},
          "output_type": "execute_result"
        }
      ],
      "source": [
        "df.describe()"
      ]
    },
    {
      "cell_type": "code",
      "execution_count": null,
      "metadata": {
        "scrolled": true,
        "id": "bf4kuse8sRS-",
        "outputId": "59227dbb-6212-4a06-e458-35b8f36e64be"
      },
      "outputs": [
        {
          "data": {
            "text/html": [
              "<div>\n",
              "<style scoped>\n",
              "    .dataframe tbody tr th:only-of-type {\n",
              "        vertical-align: middle;\n",
              "    }\n",
              "\n",
              "    .dataframe tbody tr th {\n",
              "        vertical-align: top;\n",
              "    }\n",
              "\n",
              "    .dataframe thead th {\n",
              "        text-align: right;\n",
              "    }\n",
              "</style>\n",
              "<table border=\"1\" class=\"dataframe\">\n",
              "  <thead>\n",
              "    <tr style=\"text-align: right;\">\n",
              "      <th></th>\n",
              "      <th>children</th>\n",
              "      <th>days_employed</th>\n",
              "      <th>dob_years</th>\n",
              "      <th>education</th>\n",
              "      <th>education_id</th>\n",
              "      <th>family_status</th>\n",
              "      <th>family_status_id</th>\n",
              "      <th>gender</th>\n",
              "      <th>income_type</th>\n",
              "      <th>debt</th>\n",
              "      <th>total_income</th>\n",
              "      <th>purpose</th>\n",
              "    </tr>\n",
              "  </thead>\n",
              "  <tbody>\n",
              "    <tr>\n",
              "      <th>12</th>\n",
              "      <td>0</td>\n",
              "      <td>NaN</td>\n",
              "      <td>65</td>\n",
              "      <td>secondary education</td>\n",
              "      <td>1</td>\n",
              "      <td>civil partnership</td>\n",
              "      <td>1</td>\n",
              "      <td>M</td>\n",
              "      <td>retiree</td>\n",
              "      <td>0</td>\n",
              "      <td>NaN</td>\n",
              "      <td>to have a wedding</td>\n",
              "    </tr>\n",
              "    <tr>\n",
              "      <th>26</th>\n",
              "      <td>0</td>\n",
              "      <td>NaN</td>\n",
              "      <td>41</td>\n",
              "      <td>secondary education</td>\n",
              "      <td>1</td>\n",
              "      <td>married</td>\n",
              "      <td>0</td>\n",
              "      <td>M</td>\n",
              "      <td>civil servant</td>\n",
              "      <td>0</td>\n",
              "      <td>NaN</td>\n",
              "      <td>education</td>\n",
              "    </tr>\n",
              "    <tr>\n",
              "      <th>29</th>\n",
              "      <td>0</td>\n",
              "      <td>NaN</td>\n",
              "      <td>63</td>\n",
              "      <td>secondary education</td>\n",
              "      <td>1</td>\n",
              "      <td>unmarried</td>\n",
              "      <td>4</td>\n",
              "      <td>F</td>\n",
              "      <td>retiree</td>\n",
              "      <td>0</td>\n",
              "      <td>NaN</td>\n",
              "      <td>building a real estate</td>\n",
              "    </tr>\n",
              "    <tr>\n",
              "      <th>41</th>\n",
              "      <td>0</td>\n",
              "      <td>NaN</td>\n",
              "      <td>50</td>\n",
              "      <td>secondary education</td>\n",
              "      <td>1</td>\n",
              "      <td>married</td>\n",
              "      <td>0</td>\n",
              "      <td>F</td>\n",
              "      <td>civil servant</td>\n",
              "      <td>0</td>\n",
              "      <td>NaN</td>\n",
              "      <td>second-hand car purchase</td>\n",
              "    </tr>\n",
              "    <tr>\n",
              "      <th>55</th>\n",
              "      <td>0</td>\n",
              "      <td>NaN</td>\n",
              "      <td>54</td>\n",
              "      <td>secondary education</td>\n",
              "      <td>1</td>\n",
              "      <td>civil partnership</td>\n",
              "      <td>1</td>\n",
              "      <td>F</td>\n",
              "      <td>retiree</td>\n",
              "      <td>1</td>\n",
              "      <td>NaN</td>\n",
              "      <td>to have a wedding</td>\n",
              "    </tr>\n",
              "    <tr>\n",
              "      <th>...</th>\n",
              "      <td>...</td>\n",
              "      <td>...</td>\n",
              "      <td>...</td>\n",
              "      <td>...</td>\n",
              "      <td>...</td>\n",
              "      <td>...</td>\n",
              "      <td>...</td>\n",
              "      <td>...</td>\n",
              "      <td>...</td>\n",
              "      <td>...</td>\n",
              "      <td>...</td>\n",
              "      <td>...</td>\n",
              "    </tr>\n",
              "    <tr>\n",
              "      <th>21489</th>\n",
              "      <td>2</td>\n",
              "      <td>NaN</td>\n",
              "      <td>47</td>\n",
              "      <td>Secondary Education</td>\n",
              "      <td>1</td>\n",
              "      <td>married</td>\n",
              "      <td>0</td>\n",
              "      <td>M</td>\n",
              "      <td>business</td>\n",
              "      <td>0</td>\n",
              "      <td>NaN</td>\n",
              "      <td>purchase of a car</td>\n",
              "    </tr>\n",
              "    <tr>\n",
              "      <th>21495</th>\n",
              "      <td>1</td>\n",
              "      <td>NaN</td>\n",
              "      <td>50</td>\n",
              "      <td>secondary education</td>\n",
              "      <td>1</td>\n",
              "      <td>civil partnership</td>\n",
              "      <td>1</td>\n",
              "      <td>F</td>\n",
              "      <td>employee</td>\n",
              "      <td>0</td>\n",
              "      <td>NaN</td>\n",
              "      <td>wedding ceremony</td>\n",
              "    </tr>\n",
              "    <tr>\n",
              "      <th>21497</th>\n",
              "      <td>0</td>\n",
              "      <td>NaN</td>\n",
              "      <td>48</td>\n",
              "      <td>BACHELOR'S DEGREE</td>\n",
              "      <td>0</td>\n",
              "      <td>married</td>\n",
              "      <td>0</td>\n",
              "      <td>F</td>\n",
              "      <td>business</td>\n",
              "      <td>0</td>\n",
              "      <td>NaN</td>\n",
              "      <td>building a property</td>\n",
              "    </tr>\n",
              "    <tr>\n",
              "      <th>21502</th>\n",
              "      <td>1</td>\n",
              "      <td>NaN</td>\n",
              "      <td>42</td>\n",
              "      <td>secondary education</td>\n",
              "      <td>1</td>\n",
              "      <td>married</td>\n",
              "      <td>0</td>\n",
              "      <td>F</td>\n",
              "      <td>employee</td>\n",
              "      <td>0</td>\n",
              "      <td>NaN</td>\n",
              "      <td>building a real estate</td>\n",
              "    </tr>\n",
              "    <tr>\n",
              "      <th>21510</th>\n",
              "      <td>2</td>\n",
              "      <td>NaN</td>\n",
              "      <td>28</td>\n",
              "      <td>secondary education</td>\n",
              "      <td>1</td>\n",
              "      <td>married</td>\n",
              "      <td>0</td>\n",
              "      <td>F</td>\n",
              "      <td>employee</td>\n",
              "      <td>0</td>\n",
              "      <td>NaN</td>\n",
              "      <td>car purchase</td>\n",
              "    </tr>\n",
              "  </tbody>\n",
              "</table>\n",
              "<p>2174 rows × 12 columns</p>\n",
              "</div>"
            ],
            "text/plain": [
              "       children  days_employed  dob_years            education  education_id  \\\n",
              "12            0            NaN         65  secondary education             1   \n",
              "26            0            NaN         41  secondary education             1   \n",
              "29            0            NaN         63  secondary education             1   \n",
              "41            0            NaN         50  secondary education             1   \n",
              "55            0            NaN         54  secondary education             1   \n",
              "...         ...            ...        ...                  ...           ...   \n",
              "21489         2            NaN         47  Secondary Education             1   \n",
              "21495         1            NaN         50  secondary education             1   \n",
              "21497         0            NaN         48    BACHELOR'S DEGREE             0   \n",
              "21502         1            NaN         42  secondary education             1   \n",
              "21510         2            NaN         28  secondary education             1   \n",
              "\n",
              "           family_status  family_status_id gender    income_type  debt  \\\n",
              "12     civil partnership                 1      M        retiree     0   \n",
              "26               married                 0      M  civil servant     0   \n",
              "29             unmarried                 4      F        retiree     0   \n",
              "41               married                 0      F  civil servant     0   \n",
              "55     civil partnership                 1      F        retiree     1   \n",
              "...                  ...               ...    ...            ...   ...   \n",
              "21489            married                 0      M       business     0   \n",
              "21495  civil partnership                 1      F       employee     0   \n",
              "21497            married                 0      F       business     0   \n",
              "21502            married                 0      F       employee     0   \n",
              "21510            married                 0      F       employee     0   \n",
              "\n",
              "       total_income                   purpose  \n",
              "12              NaN         to have a wedding  \n",
              "26              NaN                 education  \n",
              "29              NaN    building a real estate  \n",
              "41              NaN  second-hand car purchase  \n",
              "55              NaN         to have a wedding  \n",
              "...             ...                       ...  \n",
              "21489           NaN         purchase of a car  \n",
              "21495           NaN          wedding ceremony  \n",
              "21497           NaN       building a property  \n",
              "21502           NaN    building a real estate  \n",
              "21510           NaN              car purchase  \n",
              "\n",
              "[2174 rows x 12 columns]"
            ]
          },
          "execution_count": 7,
          "metadata": {},
          "output_type": "execute_result"
        }
      ],
      "source": [
        "\n",
        "df[df['days_employed'].isnull()]\n"
      ]
    },
    {
      "cell_type": "markdown",
      "metadata": {
        "id": "mhw2yWqSsRS-"
      },
      "source": [
        "\n",
        "If we only look at the number of missing rows, which is 2174 when summed with 19351, the result is 21525, meaning it is symmetrical. But there are some data in the 'days_employed' column with strange values (minus and large), so it needs to be investigated further. "
      ]
    },
    {
      "cell_type": "code",
      "execution_count": null,
      "metadata": {
        "id": "cyOHvILusRS-",
        "outputId": "37359808-3083-4ba8-e8d7-eea0dcd4ef4e"
      },
      "outputs": [
        {
          "data": {
            "text/plain": [
              "(2174, 12)"
            ]
          },
          "execution_count": 8,
          "metadata": {},
          "output_type": "execute_result"
        }
      ],
      "source": [
        "\n",
        "df.loc[(df['days_employed'].isna()) & (df['total_income'].isna())].shape\n"
      ]
    },
    {
      "cell_type": "code",
      "execution_count": null,
      "metadata": {
        "id": "XKvd-C84sRS-",
        "outputId": "fcf7f1aa-3fa1-47d6-b321-e8d2dea20a5d"
      },
      "outputs": [
        {
          "data": {
            "text/html": [
              "<div>\n",
              "<style scoped>\n",
              "    .dataframe tbody tr th:only-of-type {\n",
              "        vertical-align: middle;\n",
              "    }\n",
              "\n",
              "    .dataframe tbody tr th {\n",
              "        vertical-align: top;\n",
              "    }\n",
              "\n",
              "    .dataframe thead th {\n",
              "        text-align: right;\n",
              "    }\n",
              "</style>\n",
              "<table border=\"1\" class=\"dataframe\">\n",
              "  <thead>\n",
              "    <tr style=\"text-align: right;\">\n",
              "      <th></th>\n",
              "      <th>children</th>\n",
              "      <th>days_employed</th>\n",
              "      <th>dob_years</th>\n",
              "      <th>education</th>\n",
              "      <th>education_id</th>\n",
              "      <th>family_status</th>\n",
              "      <th>family_status_id</th>\n",
              "      <th>gender</th>\n",
              "      <th>income_type</th>\n",
              "      <th>debt</th>\n",
              "      <th>total_income</th>\n",
              "      <th>purpose</th>\n",
              "    </tr>\n",
              "  </thead>\n",
              "  <tbody>\n",
              "    <tr>\n",
              "      <th>12</th>\n",
              "      <td>0</td>\n",
              "      <td>NaN</td>\n",
              "      <td>65</td>\n",
              "      <td>secondary education</td>\n",
              "      <td>1</td>\n",
              "      <td>civil partnership</td>\n",
              "      <td>1</td>\n",
              "      <td>M</td>\n",
              "      <td>retiree</td>\n",
              "      <td>0</td>\n",
              "      <td>NaN</td>\n",
              "      <td>to have a wedding</td>\n",
              "    </tr>\n",
              "    <tr>\n",
              "      <th>26</th>\n",
              "      <td>0</td>\n",
              "      <td>NaN</td>\n",
              "      <td>41</td>\n",
              "      <td>secondary education</td>\n",
              "      <td>1</td>\n",
              "      <td>married</td>\n",
              "      <td>0</td>\n",
              "      <td>M</td>\n",
              "      <td>civil servant</td>\n",
              "      <td>0</td>\n",
              "      <td>NaN</td>\n",
              "      <td>education</td>\n",
              "    </tr>\n",
              "    <tr>\n",
              "      <th>29</th>\n",
              "      <td>0</td>\n",
              "      <td>NaN</td>\n",
              "      <td>63</td>\n",
              "      <td>secondary education</td>\n",
              "      <td>1</td>\n",
              "      <td>unmarried</td>\n",
              "      <td>4</td>\n",
              "      <td>F</td>\n",
              "      <td>retiree</td>\n",
              "      <td>0</td>\n",
              "      <td>NaN</td>\n",
              "      <td>building a real estate</td>\n",
              "    </tr>\n",
              "    <tr>\n",
              "      <th>41</th>\n",
              "      <td>0</td>\n",
              "      <td>NaN</td>\n",
              "      <td>50</td>\n",
              "      <td>secondary education</td>\n",
              "      <td>1</td>\n",
              "      <td>married</td>\n",
              "      <td>0</td>\n",
              "      <td>F</td>\n",
              "      <td>civil servant</td>\n",
              "      <td>0</td>\n",
              "      <td>NaN</td>\n",
              "      <td>second-hand car purchase</td>\n",
              "    </tr>\n",
              "    <tr>\n",
              "      <th>55</th>\n",
              "      <td>0</td>\n",
              "      <td>NaN</td>\n",
              "      <td>54</td>\n",
              "      <td>secondary education</td>\n",
              "      <td>1</td>\n",
              "      <td>civil partnership</td>\n",
              "      <td>1</td>\n",
              "      <td>F</td>\n",
              "      <td>retiree</td>\n",
              "      <td>1</td>\n",
              "      <td>NaN</td>\n",
              "      <td>to have a wedding</td>\n",
              "    </tr>\n",
              "    <tr>\n",
              "      <th>65</th>\n",
              "      <td>0</td>\n",
              "      <td>NaN</td>\n",
              "      <td>21</td>\n",
              "      <td>secondary education</td>\n",
              "      <td>1</td>\n",
              "      <td>unmarried</td>\n",
              "      <td>4</td>\n",
              "      <td>M</td>\n",
              "      <td>business</td>\n",
              "      <td>0</td>\n",
              "      <td>NaN</td>\n",
              "      <td>transactions with commercial real estate</td>\n",
              "    </tr>\n",
              "    <tr>\n",
              "      <th>67</th>\n",
              "      <td>0</td>\n",
              "      <td>NaN</td>\n",
              "      <td>52</td>\n",
              "      <td>bachelor's degree</td>\n",
              "      <td>0</td>\n",
              "      <td>married</td>\n",
              "      <td>0</td>\n",
              "      <td>F</td>\n",
              "      <td>retiree</td>\n",
              "      <td>0</td>\n",
              "      <td>NaN</td>\n",
              "      <td>purchase of the house for my family</td>\n",
              "    </tr>\n",
              "    <tr>\n",
              "      <th>72</th>\n",
              "      <td>1</td>\n",
              "      <td>NaN</td>\n",
              "      <td>32</td>\n",
              "      <td>bachelor's degree</td>\n",
              "      <td>0</td>\n",
              "      <td>married</td>\n",
              "      <td>0</td>\n",
              "      <td>M</td>\n",
              "      <td>civil servant</td>\n",
              "      <td>0</td>\n",
              "      <td>NaN</td>\n",
              "      <td>transactions with commercial real estate</td>\n",
              "    </tr>\n",
              "    <tr>\n",
              "      <th>82</th>\n",
              "      <td>2</td>\n",
              "      <td>NaN</td>\n",
              "      <td>50</td>\n",
              "      <td>bachelor's degree</td>\n",
              "      <td>0</td>\n",
              "      <td>married</td>\n",
              "      <td>0</td>\n",
              "      <td>F</td>\n",
              "      <td>employee</td>\n",
              "      <td>0</td>\n",
              "      <td>NaN</td>\n",
              "      <td>housing</td>\n",
              "    </tr>\n",
              "    <tr>\n",
              "      <th>83</th>\n",
              "      <td>0</td>\n",
              "      <td>NaN</td>\n",
              "      <td>52</td>\n",
              "      <td>secondary education</td>\n",
              "      <td>1</td>\n",
              "      <td>married</td>\n",
              "      <td>0</td>\n",
              "      <td>M</td>\n",
              "      <td>employee</td>\n",
              "      <td>0</td>\n",
              "      <td>NaN</td>\n",
              "      <td>housing</td>\n",
              "    </tr>\n",
              "    <tr>\n",
              "      <th>90</th>\n",
              "      <td>2</td>\n",
              "      <td>NaN</td>\n",
              "      <td>35</td>\n",
              "      <td>bachelor's degree</td>\n",
              "      <td>0</td>\n",
              "      <td>married</td>\n",
              "      <td>0</td>\n",
              "      <td>F</td>\n",
              "      <td>employee</td>\n",
              "      <td>0</td>\n",
              "      <td>NaN</td>\n",
              "      <td>housing transactions</td>\n",
              "    </tr>\n",
              "    <tr>\n",
              "      <th>94</th>\n",
              "      <td>1</td>\n",
              "      <td>NaN</td>\n",
              "      <td>34</td>\n",
              "      <td>bachelor's degree</td>\n",
              "      <td>0</td>\n",
              "      <td>civil partnership</td>\n",
              "      <td>1</td>\n",
              "      <td>F</td>\n",
              "      <td>business</td>\n",
              "      <td>0</td>\n",
              "      <td>NaN</td>\n",
              "      <td>having a wedding</td>\n",
              "    </tr>\n",
              "    <tr>\n",
              "      <th>96</th>\n",
              "      <td>0</td>\n",
              "      <td>NaN</td>\n",
              "      <td>44</td>\n",
              "      <td>SECONDARY EDUCATION</td>\n",
              "      <td>1</td>\n",
              "      <td>married</td>\n",
              "      <td>0</td>\n",
              "      <td>F</td>\n",
              "      <td>employee</td>\n",
              "      <td>0</td>\n",
              "      <td>NaN</td>\n",
              "      <td>buy residential real estate</td>\n",
              "    </tr>\n",
              "    <tr>\n",
              "      <th>97</th>\n",
              "      <td>0</td>\n",
              "      <td>NaN</td>\n",
              "      <td>47</td>\n",
              "      <td>bachelor's degree</td>\n",
              "      <td>0</td>\n",
              "      <td>married</td>\n",
              "      <td>0</td>\n",
              "      <td>F</td>\n",
              "      <td>employee</td>\n",
              "      <td>0</td>\n",
              "      <td>NaN</td>\n",
              "      <td>profile education</td>\n",
              "    </tr>\n",
              "    <tr>\n",
              "      <th>120</th>\n",
              "      <td>0</td>\n",
              "      <td>NaN</td>\n",
              "      <td>46</td>\n",
              "      <td>secondary education</td>\n",
              "      <td>1</td>\n",
              "      <td>married</td>\n",
              "      <td>0</td>\n",
              "      <td>F</td>\n",
              "      <td>employee</td>\n",
              "      <td>0</td>\n",
              "      <td>NaN</td>\n",
              "      <td>university education</td>\n",
              "    </tr>\n",
              "    <tr>\n",
              "      <th>121</th>\n",
              "      <td>0</td>\n",
              "      <td>NaN</td>\n",
              "      <td>29</td>\n",
              "      <td>bachelor's degree</td>\n",
              "      <td>0</td>\n",
              "      <td>married</td>\n",
              "      <td>0</td>\n",
              "      <td>F</td>\n",
              "      <td>business</td>\n",
              "      <td>0</td>\n",
              "      <td>NaN</td>\n",
              "      <td>car</td>\n",
              "    </tr>\n",
              "    <tr>\n",
              "      <th>135</th>\n",
              "      <td>0</td>\n",
              "      <td>NaN</td>\n",
              "      <td>27</td>\n",
              "      <td>secondary education</td>\n",
              "      <td>1</td>\n",
              "      <td>married</td>\n",
              "      <td>0</td>\n",
              "      <td>M</td>\n",
              "      <td>business</td>\n",
              "      <td>0</td>\n",
              "      <td>NaN</td>\n",
              "      <td>housing</td>\n",
              "    </tr>\n",
              "    <tr>\n",
              "      <th>141</th>\n",
              "      <td>0</td>\n",
              "      <td>NaN</td>\n",
              "      <td>39</td>\n",
              "      <td>secondary education</td>\n",
              "      <td>1</td>\n",
              "      <td>civil partnership</td>\n",
              "      <td>1</td>\n",
              "      <td>M</td>\n",
              "      <td>employee</td>\n",
              "      <td>0</td>\n",
              "      <td>NaN</td>\n",
              "      <td>wedding ceremony</td>\n",
              "    </tr>\n",
              "    <tr>\n",
              "      <th>145</th>\n",
              "      <td>0</td>\n",
              "      <td>NaN</td>\n",
              "      <td>62</td>\n",
              "      <td>secondary education</td>\n",
              "      <td>1</td>\n",
              "      <td>married</td>\n",
              "      <td>0</td>\n",
              "      <td>M</td>\n",
              "      <td>retiree</td>\n",
              "      <td>0</td>\n",
              "      <td>NaN</td>\n",
              "      <td>building a property</td>\n",
              "    </tr>\n",
              "    <tr>\n",
              "      <th>174</th>\n",
              "      <td>0</td>\n",
              "      <td>NaN</td>\n",
              "      <td>55</td>\n",
              "      <td>bachelor's degree</td>\n",
              "      <td>0</td>\n",
              "      <td>widow / widower</td>\n",
              "      <td>2</td>\n",
              "      <td>F</td>\n",
              "      <td>business</td>\n",
              "      <td>0</td>\n",
              "      <td>NaN</td>\n",
              "      <td>to own a car</td>\n",
              "    </tr>\n",
              "  </tbody>\n",
              "</table>\n",
              "</div>"
            ],
            "text/plain": [
              "     children  days_employed  dob_years            education  education_id  \\\n",
              "12          0            NaN         65  secondary education             1   \n",
              "26          0            NaN         41  secondary education             1   \n",
              "29          0            NaN         63  secondary education             1   \n",
              "41          0            NaN         50  secondary education             1   \n",
              "55          0            NaN         54  secondary education             1   \n",
              "65          0            NaN         21  secondary education             1   \n",
              "67          0            NaN         52    bachelor's degree             0   \n",
              "72          1            NaN         32    bachelor's degree             0   \n",
              "82          2            NaN         50    bachelor's degree             0   \n",
              "83          0            NaN         52  secondary education             1   \n",
              "90          2            NaN         35    bachelor's degree             0   \n",
              "94          1            NaN         34    bachelor's degree             0   \n",
              "96          0            NaN         44  SECONDARY EDUCATION             1   \n",
              "97          0            NaN         47    bachelor's degree             0   \n",
              "120         0            NaN         46  secondary education             1   \n",
              "121         0            NaN         29    bachelor's degree             0   \n",
              "135         0            NaN         27  secondary education             1   \n",
              "141         0            NaN         39  secondary education             1   \n",
              "145         0            NaN         62  secondary education             1   \n",
              "174         0            NaN         55    bachelor's degree             0   \n",
              "\n",
              "         family_status  family_status_id gender    income_type  debt  \\\n",
              "12   civil partnership                 1      M        retiree     0   \n",
              "26             married                 0      M  civil servant     0   \n",
              "29           unmarried                 4      F        retiree     0   \n",
              "41             married                 0      F  civil servant     0   \n",
              "55   civil partnership                 1      F        retiree     1   \n",
              "65           unmarried                 4      M       business     0   \n",
              "67             married                 0      F        retiree     0   \n",
              "72             married                 0      M  civil servant     0   \n",
              "82             married                 0      F       employee     0   \n",
              "83             married                 0      M       employee     0   \n",
              "90             married                 0      F       employee     0   \n",
              "94   civil partnership                 1      F       business     0   \n",
              "96             married                 0      F       employee     0   \n",
              "97             married                 0      F       employee     0   \n",
              "120            married                 0      F       employee     0   \n",
              "121            married                 0      F       business     0   \n",
              "135            married                 0      M       business     0   \n",
              "141  civil partnership                 1      M       employee     0   \n",
              "145            married                 0      M        retiree     0   \n",
              "174    widow / widower                 2      F       business     0   \n",
              "\n",
              "     total_income                                   purpose  \n",
              "12            NaN                         to have a wedding  \n",
              "26            NaN                                 education  \n",
              "29            NaN                    building a real estate  \n",
              "41            NaN                  second-hand car purchase  \n",
              "55            NaN                         to have a wedding  \n",
              "65            NaN  transactions with commercial real estate  \n",
              "67            NaN       purchase of the house for my family  \n",
              "72            NaN  transactions with commercial real estate  \n",
              "82            NaN                                   housing  \n",
              "83            NaN                                   housing  \n",
              "90            NaN                      housing transactions  \n",
              "94            NaN                          having a wedding  \n",
              "96            NaN               buy residential real estate  \n",
              "97            NaN                         profile education  \n",
              "120           NaN                      university education  \n",
              "121           NaN                                       car  \n",
              "135           NaN                                   housing  \n",
              "141           NaN                          wedding ceremony  \n",
              "145           NaN                       building a property  \n",
              "174           NaN                              to own a car  "
            ]
          },
          "execution_count": 9,
          "metadata": {},
          "output_type": "execute_result"
        }
      ],
      "source": [
        "\n",
        "\n",
        "df_null = df[(df['days_employed'].isnull()) & (df['total_income'].isnull())]\n",
        "df_null.head(20)"
      ]
    },
    {
      "cell_type": "code",
      "execution_count": null,
      "metadata": {
        "id": "T6TaGPcqsRS-",
        "outputId": "729e9b76-2d26-449a-9b93-bc6ac09723e2"
      },
      "outputs": [
        {
          "name": "stdout",
          "output_type": "stream",
          "text": [
            "Distribusi nilai yang hilang sebesar: 10.099884%\n"
          ]
        }
      ],
      "source": [
        "\n",
        "df_null = df_null.shape[0] / df.shape[0] \n",
        "print(f'Distribusi nilai yang hilang sebesar: {df_null:0%}')"
      ]
    },
    {
      "cell_type": "code",
      "execution_count": null,
      "metadata": {
        "id": "cdbzs9_wsRS-"
      },
      "outputs": [],
      "source": [
        "df_null = df[(df['days_employed'].isnull()) & (df['total_income'].isnull())]"
      ]
    },
    {
      "cell_type": "markdown",
      "metadata": {
        "id": "SSVFqZMusRS_"
      },
      "source": [
        "Possible causes of missing values in the data:\n",
        "Looking at the distribution of the data, from a total of 2174 rows or about 10% of the total 21252 rows, where the missing values are not only in certain income_type or purpose or family_status, but spread out. I see that the missing values seem to be random.\n",
        "\n",
        "\n"
      ]
    },
    {
      "cell_type": "code",
      "execution_count": null,
      "metadata": {
        "id": "Gw5_cCH_sRS_",
        "outputId": "8070c98d-4a0e-4b36-f438-4f962333e5e9"
      },
      "outputs": [
        {
          "data": {
            "text/plain": [
              "children             0.000000\n",
              "days_employed       10.099884\n",
              "dob_years            0.000000\n",
              "education            0.000000\n",
              "education_id         0.000000\n",
              "family_status        0.000000\n",
              "family_status_id     0.000000\n",
              "gender               0.000000\n",
              "income_type          0.000000\n",
              "debt                 0.000000\n",
              "total_income        10.099884\n",
              "purpose              0.000000\n",
              "dtype: float64"
            ]
          },
          "execution_count": 12,
          "metadata": {},
          "output_type": "execute_result"
        }
      ],
      "source": [
        "\n",
        "\n",
        "df.isna().sum() / df.shape[0] * 100"
      ]
    },
    {
      "cell_type": "markdown",
      "metadata": {
        "id": "ktw-ChAPsRS_"
      },
      "source": [
        "There is a similarity between the original dataset and the filtered table distribution. This means that the missing values are random, not dependent on just 1 or 2 columns. \n",
        "\n"
      ]
    },
    {
      "cell_type": "code",
      "execution_count": null,
      "metadata": {
        "id": "D7vskTmGsRS_",
        "outputId": "9b2720f3-a373-4f0d-b2ef-92a3fde523a0"
      },
      "outputs": [
        {
          "data": {
            "text/plain": [
              "employee         50.827967\n",
              "business         23.367065\n",
              "retiree          18.997240\n",
              "civil servant     6.761730\n",
              "entrepreneur      0.045998\n",
              "Name: income_type, dtype: float64"
            ]
          },
          "execution_count": 13,
          "metadata": {},
          "output_type": "execute_result"
        }
      ],
      "source": [
        "\n",
        "df_null['income_type'].value_counts(normalize=True)*100"
      ]
    },
    {
      "cell_type": "code",
      "execution_count": null,
      "metadata": {
        "id": "cqo8uPC7sRS_",
        "outputId": "dbe5d43d-3201-4abf-dbd5-4ba0e7c128f2"
      },
      "outputs": [
        {
          "data": {
            "text/plain": [
              "having a wedding                            4.231831\n",
              "to have a wedding                           3.725851\n",
              "wedding ceremony                            3.495860\n",
              "construction of own property                3.449862\n",
              "housing transactions                        3.403864\n",
              "buy real estate                             3.311868\n",
              "transactions with my real estate            3.265869\n",
              "purchase of the house for my family         3.265869\n",
              "housing renovation                          3.219871\n",
              "transactions with commercial real estate    3.219871\n",
              "buy commercial real estate                  3.081877\n",
              "buying property for renting out             2.989880\n",
              "property                                    2.851886\n",
              "real estate transactions                    2.805888\n",
              "buy residential real estate                 2.805888\n",
              "housing                                     2.759890\n",
              "building a property                         2.713891\n",
              "cars                                        2.621895\n",
              "going to university                         2.575897\n",
              "to become educated                          2.529899\n",
              "second-hand car purchase                    2.483901\n",
              "buying my own car                           2.437902\n",
              "to own a car                                2.391904\n",
              "purchase of the house                       2.391904\n",
              "to get a supplementary education            2.345906\n",
              "getting an education                        2.299908\n",
              "supplementary education                     2.207912\n",
              "profile education                           2.161914\n",
              "purchase of my own house                    2.115915\n",
              "building a real estate                      2.115915\n",
              "purchase of a car                           2.115915\n",
              "car purchase                                1.977921\n",
              "education                                   1.931923\n",
              "buying a second-hand car                    1.931923\n",
              "car                                         1.885925\n",
              "university education                        1.839926\n",
              "getting higher education                    1.655934\n",
              "to buy a car                                1.379945\n",
              "Name: purpose, dtype: float64"
            ]
          },
          "execution_count": 14,
          "metadata": {},
          "output_type": "execute_result"
        }
      ],
      "source": [
        "df_null['purpose'].value_counts(normalize=True)*100"
      ]
    },
    {
      "cell_type": "code",
      "execution_count": null,
      "metadata": {
        "id": "HCatyxR1sRS_",
        "outputId": "1922f7a0-d51e-496e-f79b-01974f85a448"
      },
      "outputs": [
        {
          "data": {
            "text/plain": [
              "married              56.899724\n",
              "civil partnership    20.331187\n",
              "unmarried            13.247470\n",
              "divorced              5.151794\n",
              "widow / widower       4.369825\n",
              "Name: family_status, dtype: float64"
            ]
          },
          "execution_count": 15,
          "metadata": {},
          "output_type": "execute_result"
        }
      ],
      "source": [
        "df_null['family_status'].value_counts(normalize=True)*100"
      ]
    },
    {
      "cell_type": "code",
      "execution_count": null,
      "metadata": {
        "id": "ctzcjraysRS_",
        "outputId": "8ff84c0e-0c55-4de5-b843-7c29ff3e7d78"
      },
      "outputs": [
        {
          "data": {
            "text/plain": [
              " 0     66.191352\n",
              " 1     21.849126\n",
              " 2      9.383625\n",
              " 3      1.655934\n",
              " 20     0.413983\n",
              " 4      0.321987\n",
              "-1      0.137994\n",
              " 5      0.045998\n",
              "Name: children, dtype: float64"
            ]
          },
          "execution_count": 16,
          "metadata": {},
          "output_type": "execute_result"
        }
      ],
      "source": [
        "df_null['children'].value_counts(normalize=True)*100"
      ]
    },
    {
      "cell_type": "markdown",
      "metadata": {
        "id": "ooRBB0MisRS_"
      },
      "source": [
        "Looking at some of the columns where there are missing values in the days_employed and total_income columns, the ones with the most missing values are the productive group BUT no children or only 1 child. \n",
        "most missing values are productive groups BUT have no children or only 1 child.\n",
        "The purpose of people applying for credit is dominated by wedding and property issues. \n",
        "By looking at the things above, it seems to be patterned, but the basis of the missing values in the days_employed and total_income columns is not certain. \n",
        "My temporary guess: days_employed and total_income are sensitive data that most people are reluctant to disclose even to the lender. The existence of data manipulation to achieve goals is also often the reason for lenders to choose to analyze the current account of a prospective debtor's checking or savings account. "
      ]
    },
    {
      "cell_type": "code",
      "execution_count": null,
      "metadata": {
        "id": "6J5-55DgsRTA"
      },
      "outputs": [],
      "source": [
        "#df.loc[df['days_employed'].isna(),'education'].str.lower().unique()"
      ]
    },
    {
      "cell_type": "code",
      "execution_count": null,
      "metadata": {
        "id": "BFbYjSeWsRTA"
      },
      "outputs": [],
      "source": [
        "#df['education'].str.lower().unique()"
      ]
    },
    {
      "cell_type": "code",
      "execution_count": null,
      "metadata": {
        "id": "2Slm9sh8sRTA"
      },
      "outputs": [],
      "source": [
        "#df['education'].str.lower().value_counts(normalize=True)"
      ]
    },
    {
      "cell_type": "code",
      "execution_count": null,
      "metadata": {
        "id": "zCcoU7nbsRTA"
      },
      "outputs": [],
      "source": [
        "#df['purpose'].value_counts(normalize=True).reset_index()"
      ]
    },
    {
      "cell_type": "code",
      "execution_count": null,
      "metadata": {
        "id": "CIgmTAAwsRTA"
      },
      "outputs": [],
      "source": [
        "#df.loc[df['total_income'].isna(),'purpose'].unique().shape"
      ]
    },
    {
      "cell_type": "code",
      "execution_count": null,
      "metadata": {
        "scrolled": true,
        "id": "x-GmeLY1sRTA",
        "outputId": "33583360-2c5a-45a9-c485-9b58c552f9f2"
      },
      "outputs": [
        {
          "data": {
            "text/plain": [
              "F    68.26127\n",
              "M    31.73873\n",
              "Name: gender, dtype: float64"
            ]
          },
          "execution_count": 22,
          "metadata": {},
          "output_type": "execute_result"
        }
      ],
      "source": [
        "\n",
        "df_null['gender'].value_counts(normalize=True)*100"
      ]
    },
    {
      "cell_type": "markdown",
      "metadata": {
        "id": "vkduz-02sRTA"
      },
      "source": [
        "\n",
        "The missing values in days_employed and total_income columns can be described as follows:\n",
        "Credit applicants are predominantly female (almost 70%) with married or civil partnership status where they have jobs mainly as employees, with the purpose mainly for wedding (probably for civil partnership) and property (probably for both married and civil partnership). \n",
        "\n"
      ]
    },
    {
      "cell_type": "code",
      "execution_count": null,
      "metadata": {
        "id": "fD_r9DARsRTB",
        "outputId": "2f7cf18b-6a16-4f64-f346-687132eac586"
      },
      "outputs": [
        {
          "data": {
            "text/plain": [
              "array([\"bachelor's degree\", 'secondary education', 'Secondary Education',\n",
              "       'SECONDARY EDUCATION', \"BACHELOR'S DEGREE\", 'some college',\n",
              "       'primary education', \"Bachelor's Degree\", 'SOME COLLEGE',\n",
              "       'Some College', 'PRIMARY EDUCATION', 'Primary Education',\n",
              "       'Graduate Degree', 'GRADUATE DEGREE', 'graduate degree'],\n",
              "      dtype=object)"
            ]
          },
          "execution_count": 23,
          "metadata": {},
          "output_type": "execute_result"
        }
      ],
      "source": [
        "\n",
        "df['education'].unique()"
      ]
    },
    {
      "cell_type": "code",
      "execution_count": null,
      "metadata": {
        "scrolled": true,
        "id": "lO5a1WzKsRTB"
      },
      "outputs": [],
      "source": [
        "\n",
        "df['education']=df['education'].str.lower()"
      ]
    },
    {
      "cell_type": "code",
      "execution_count": null,
      "metadata": {
        "id": "iHXUtnTAsRTB",
        "outputId": "1660b538-af7f-4493-f501-34f215fda825"
      },
      "outputs": [
        {
          "data": {
            "text/plain": [
              " 0     65.732869\n",
              " 1     22.383275\n",
              " 2      9.547038\n",
              " 3      1.533101\n",
              " 20     0.353078\n",
              "-1      0.218351\n",
              " 4      0.190476\n",
              " 5      0.041812\n",
              "Name: children, dtype: float64"
            ]
          },
          "execution_count": 26,
          "metadata": {},
          "output_type": "execute_result"
        }
      ],
      "source": [
        "\n",
        "df['children'].value_counts(normalize=True)*100"
      ]
    },
    {
      "cell_type": "code",
      "execution_count": null,
      "metadata": {
        "id": "F_TvhO8VsRTB",
        "outputId": "7e64bf68-011b-4d18-8dea-bc83c44a9534"
      },
      "outputs": [
        {
          "data": {
            "text/plain": [
              "array([ 1,  0,  3,  2, -1,  4, 20,  5])"
            ]
          },
          "execution_count": 27,
          "metadata": {},
          "output_type": "execute_result"
        }
      ],
      "source": [
        "df['children'].unique()"
      ]
    },
    {
      "cell_type": "code",
      "execution_count": null,
      "metadata": {
        "id": "VqbG4j7KsRTB",
        "outputId": "d83246b9-c95c-40c3-f1d6-26cf2a2351b4"
      },
      "outputs": [
        {
          "data": {
            "text/plain": [
              "children  income_type  purpose                                 \n",
              " 20       employee     buying a second-hand car                    4\n",
              "                       buy commercial real estate                  3\n",
              "                       transactions with commercial real estate    3\n",
              "                       to own a car                                3\n",
              "          business     university education                        3\n",
              "                                                                  ..\n",
              "-1        employee     to have a wedding                           1\n",
              "                       supplementary education                     1\n",
              "                       second-hand car purchase                    1\n",
              "                       real estate transactions                    1\n",
              " 20       retiree      transactions with commercial real estate    1\n",
              "Length: 94, dtype: int64"
            ]
          },
          "execution_count": 28,
          "metadata": {},
          "output_type": "execute_result"
        }
      ],
      "source": [
        "df[(df['children']==-1)|(df['children']==20)][['children','income_type','purpose']].value_counts()\n",
        "    "
      ]
    },
    {
      "cell_type": "code",
      "execution_count": null,
      "metadata": {
        "id": "Njuw1pMgsRTB"
      },
      "outputs": [],
      "source": [
        "#df.loc[(df['children']==-1)|(df['children']==20),'children']=df['children'].median()"
      ]
    },
    {
      "cell_type": "code",
      "execution_count": null,
      "metadata": {
        "id": "DyIsF1oAsRTB"
      },
      "outputs": [],
      "source": [
        "#df['children'].value_counts(normalize=True)"
      ]
    },
    {
      "cell_type": "code",
      "execution_count": null,
      "metadata": {
        "id": "sfjzdE7msRTB"
      },
      "outputs": [],
      "source": [
        "\n",
        "df.loc[(df['children']==-1)|(df['children']==20),'children']=df['children'].median()"
      ]
    },
    {
      "cell_type": "markdown",
      "metadata": {
        "id": "H1FFtRPhsRTB"
      },
      "source": [
        "There is no data to support removing the number of children -1 and 20 EVEN though they are obvious to me as outliers.\n",
        "So changing the -1 and 20 values to the median is a moderate decision that does not change the distribution of the data significantly. "
      ]
    },
    {
      "cell_type": "code",
      "execution_count": null,
      "metadata": {
        "id": "gW48Za-isRTC",
        "outputId": "122d47cd-f6c7-4588-8b90-8cc7416dd3d9"
      },
      "outputs": [
        {
          "data": {
            "text/plain": [
              "0.0    66.304297\n",
              "1.0    22.383275\n",
              "2.0     9.547038\n",
              "3.0     1.533101\n",
              "4.0     0.190476\n",
              "5.0     0.041812\n",
              "Name: children, dtype: float64"
            ]
          },
          "execution_count": 32,
          "metadata": {},
          "output_type": "execute_result"
        }
      ],
      "source": [
        "df['children'].value_counts(normalize=True)*100"
      ]
    },
    {
      "cell_type": "code",
      "execution_count": null,
      "metadata": {
        "id": "bEfqZnZxsRTC"
      },
      "outputs": [],
      "source": [
        "#df = df[(df.children != -1) & (df.children != 20)]\n",
        "#df['children'].value_counts()"
      ]
    },
    {
      "cell_type": "code",
      "execution_count": null,
      "metadata": {
        "id": "UeatpyI1sRTC"
      },
      "outputs": [],
      "source": [
        "\n",
        "#df['children'].value_counts(normalize=True)"
      ]
    },
    {
      "cell_type": "code",
      "execution_count": null,
      "metadata": {
        "id": "ICJDFDMGsRTC",
        "outputId": "b80cbbc7-992c-4822-d614-f60006ef83e4"
      },
      "outputs": [
        {
          "data": {
            "text/plain": [
              "0         -8437.673028\n",
              "1         -4024.803754\n",
              "2         -5623.422610\n",
              "3         -4124.747207\n",
              "4        340266.072047\n",
              "             ...      \n",
              "21520     -4529.316663\n",
              "21521    343937.404131\n",
              "21522     -2113.346888\n",
              "21523     -3112.481705\n",
              "21524     -1984.507589\n",
              "Name: days_employed, Length: 21525, dtype: float64"
            ]
          },
          "execution_count": 35,
          "metadata": {},
          "output_type": "execute_result"
        }
      ],
      "source": [
        "\n",
        "df['days_employed']"
      ]
    },
    {
      "cell_type": "code",
      "execution_count": null,
      "metadata": {
        "id": "Fq7cT5vSsRTC",
        "outputId": "b42e3d95-a473-419c-e4fb-3dc526a8bf88"
      },
      "outputs": [
        {
          "data": {
            "text/plain": [
              "count     19351.000000\n",
              "mean      63046.497661\n",
              "std      140827.311974\n",
              "min      -18388.949901\n",
              "25%       -2747.423625\n",
              "50%       -1203.369529\n",
              "75%        -291.095954\n",
              "max      401755.400475\n",
              "Name: days_employed, dtype: float64"
            ]
          },
          "execution_count": 36,
          "metadata": {},
          "output_type": "execute_result"
        }
      ],
      "source": [
        "df['days_employed'].describe()"
      ]
    },
    {
      "cell_type": "code",
      "execution_count": null,
      "metadata": {
        "id": "5bzXtpAhsRTC",
        "outputId": "a28e2614-e32f-4444-92eb-59da52c5b1a4"
      },
      "outputs": [
        {
          "data": {
            "text/plain": [
              "(15906, 12)"
            ]
          },
          "execution_count": 37,
          "metadata": {},
          "output_type": "execute_result"
        }
      ],
      "source": [
        "df[df['days_employed']<0].shape"
      ]
    },
    {
      "cell_type": "code",
      "execution_count": null,
      "metadata": {
        "id": "5RD90cansRTC",
        "outputId": "9ee0507e-c20a-449b-f492-0920ef4233f3"
      },
      "outputs": [
        {
          "data": {
            "text/plain": [
              "employee                       62.957375\n",
              "business                       28.775305\n",
              "civil servant                   8.248460\n",
              "entrepreneur                    0.006287\n",
              "paternity / maternity leave     0.006287\n",
              "student                         0.006287\n",
              "Name: income_type, dtype: float64"
            ]
          },
          "execution_count": 38,
          "metadata": {},
          "output_type": "execute_result"
        }
      ],
      "source": [
        "df[(df['days_employed']<0)]['income_type'].value_counts(normalize=True)*100"
      ]
    },
    {
      "cell_type": "code",
      "execution_count": null,
      "metadata": {
        "id": "Rk0WNvC5sRTC",
        "outputId": "920b4300-61e1-4204-dff6-82fd93070354"
      },
      "outputs": [
        {
          "data": {
            "text/plain": [
              "retiree       99.941945\n",
              "unemployed     0.058055\n",
              "Name: income_type, dtype: float64"
            ]
          },
          "execution_count": 39,
          "metadata": {},
          "output_type": "execute_result"
        }
      ],
      "source": [
        "df[(df['days_employed']>0)]['income_type'].value_counts(normalize=True)*100"
      ]
    },
    {
      "cell_type": "code",
      "execution_count": null,
      "metadata": {
        "id": "nxUlU4IpsRTD",
        "outputId": "e40a77b5-3122-4ef5-c9f5-6b364b60c1a2"
      },
      "outputs": [
        {
          "data": {
            "text/plain": [
              "0       -8437.673028\n",
              "1       -4024.803754\n",
              "2       -5623.422610\n",
              "3       -4124.747207\n",
              "4        -926.185831\n",
              "            ...     \n",
              "15901   -2351.431934\n",
              "15902   -4529.316663\n",
              "15903   -2113.346888\n",
              "15904   -3112.481705\n",
              "15905   -1984.507589\n",
              "Name: days_employed, Length: 15906, dtype: float64"
            ]
          },
          "execution_count": 40,
          "metadata": {},
          "output_type": "execute_result"
        }
      ],
      "source": [
        "wrong_data_days = df[df['days_employed']<0]\n",
        "wrong_data_days['days_employed'].reset_index(drop=True)"
      ]
    },
    {
      "cell_type": "code",
      "execution_count": null,
      "metadata": {
        "id": "UYCKqjjksRTD",
        "outputId": "b540b496-8bbc-4a29-977b-aa8430d00152"
      },
      "outputs": [
        {
          "name": "stdout",
          "output_type": "stream",
          "text": [
            "Persentase data yang bermasalah pada kolom 'days_employed' yaitu:82% dari keseluruhan data.\n"
          ]
        }
      ],
      "source": [
        "percentage_days = wrong_data_days['days_employed'].count() / df['days_employed'].count()\n",
        "print(\"Persentase data yang bermasalah pada kolom 'days_employed' yaitu:{:.0%} dari keseluruhan data.\".format(percentage_days))"
      ]
    },
    {
      "cell_type": "markdown",
      "metadata": {
        "id": "PLn5XadOsRTD"
      },
      "source": [
        "\n",
        "It is likely that the value in days_employed is a code from credit scoring where minus values are given to productive groups such as employee and business, while positive values are given to retiree and unemployed. But for ease of analysis in this context, let's change all values in the days_employed column to positive. "
      ]
    },
    {
      "cell_type": "code",
      "execution_count": null,
      "metadata": {
        "id": "aX-57U7ssRTD"
      },
      "outputs": [],
      "source": [
        "\n",
        "df['days_employed'] = df['days_employed'].abs()"
      ]
    },
    {
      "cell_type": "code",
      "execution_count": null,
      "metadata": {
        "id": "Wdy7I58asRTD",
        "outputId": "777088f5-e364-4a73-b2f6-e014e7a03fa9"
      },
      "outputs": [
        {
          "data": {
            "text/plain": [
              "count     19351.000000\n",
              "mean      66914.728907\n",
              "std      139030.880527\n",
              "min          24.141633\n",
              "25%         927.009265\n",
              "50%        2194.220567\n",
              "75%        5537.882441\n",
              "max      401755.400475\n",
              "Name: days_employed, dtype: float64"
            ]
          },
          "execution_count": 43,
          "metadata": {},
          "output_type": "execute_result"
        }
      ],
      "source": [
        "\n",
        "df['days_employed'].describe()"
      ]
    },
    {
      "cell_type": "code",
      "execution_count": null,
      "metadata": {
        "id": "npwSItlDsRTD"
      },
      "outputs": [],
      "source": [
        "#min(df['days_employed'])"
      ]
    },
    {
      "cell_type": "code",
      "execution_count": null,
      "metadata": {
        "scrolled": true,
        "id": "JemWMoNJsRTD",
        "outputId": "52c1d8c5-ee58-416f-d951-37e8fbe2c489"
      },
      "outputs": [
        {
          "data": {
            "text/plain": [
              "count    21525.000000\n",
              "mean        43.293380\n",
              "std         12.574584\n",
              "min          0.000000\n",
              "25%         33.000000\n",
              "50%         42.000000\n",
              "75%         53.000000\n",
              "max         75.000000\n",
              "Name: dob_years, dtype: float64"
            ]
          },
          "execution_count": 45,
          "metadata": {},
          "output_type": "execute_result"
        }
      ],
      "source": [
        "\n",
        "df['dob_years'].describe()"
      ]
    },
    {
      "cell_type": "code",
      "execution_count": null,
      "metadata": {
        "id": "eRE-tWrasRTD",
        "outputId": "b42ef26b-51dc-487f-e3be-80d70d927e28"
      },
      "outputs": [
        {
          "data": {
            "text/plain": [
              "42.0"
            ]
          },
          "execution_count": 46,
          "metadata": {},
          "output_type": "execute_result"
        }
      ],
      "source": [
        "df['dob_years'].median()"
      ]
    },
    {
      "cell_type": "code",
      "execution_count": null,
      "metadata": {
        "id": "_Yzu1VjxsRTD",
        "outputId": "2b247033-65e7-4679-c07a-9df0b776ac08"
      },
      "outputs": [
        {
          "data": {
            "text/plain": [
              "35    2.866434\n",
              "40    2.829268\n",
              "41    2.819977\n",
              "34    2.801394\n",
              "38    2.778165\n",
              "42    2.773519\n",
              "33    2.699187\n",
              "39    2.662021\n",
              "31    2.601626\n",
              "36    2.578397\n",
              "44    2.541231\n",
              "29    2.531940\n",
              "30    2.508711\n",
              "48    2.499419\n",
              "37    2.494774\n",
              "50    2.387921\n",
              "43    2.383275\n",
              "32    2.369338\n",
              "49    2.360046\n",
              "28    2.336818\n",
              "45    2.308943\n",
              "27    2.290360\n",
              "56    2.262485\n",
              "52    2.248548\n",
              "47    2.229965\n",
              "54    2.225319\n",
              "46    2.206736\n",
              "58    2.141696\n",
              "57    2.137050\n",
              "53    2.132404\n",
              "51    2.081301\n",
              "59    2.062718\n",
              "55    2.058072\n",
              "26    1.895470\n",
              "60    1.751452\n",
              "25    1.658537\n",
              "61    1.649245\n",
              "62    1.635308\n",
              "63    1.249710\n",
              "64    1.231127\n",
              "24    1.226481\n",
              "23    1.180023\n",
              "65    0.901278\n",
              "66    0.850174\n",
              "22    0.850174\n",
              "67    0.775842\n",
              "21    0.515679\n",
              "0     0.469222\n",
              "68    0.459930\n",
              "69    0.394890\n",
              "70    0.301974\n",
              "71    0.269454\n",
              "20    0.236934\n",
              "72    0.153310\n",
              "19    0.065041\n",
              "73    0.037166\n",
              "74    0.027875\n",
              "75    0.004646\n",
              "Name: dob_years, dtype: float64"
            ]
          },
          "execution_count": 47,
          "metadata": {},
          "output_type": "execute_result"
        }
      ],
      "source": [
        "df['dob_years'].value_counts(normalize=True)*100"
      ]
    },
    {
      "cell_type": "code",
      "execution_count": null,
      "metadata": {
        "id": "mRveIyIFsRTD",
        "outputId": "903ea87c-7d9c-47d1-a877-d99422704a19"
      },
      "outputs": [
        {
          "data": {
            "text/plain": [
              "(101, 12)"
            ]
          },
          "execution_count": 48,
          "metadata": {},
          "output_type": "execute_result"
        }
      ],
      "source": [
        "df.loc[df['dob_years']==0].shape"
      ]
    },
    {
      "cell_type": "code",
      "execution_count": null,
      "metadata": {
        "id": "HjY9SzllsRTD",
        "outputId": "404b57d3-fe5c-4877-e930-b166394ed80e"
      },
      "outputs": [
        {
          "data": {
            "text/plain": [
              "employee         55\n",
              "retiree          20\n",
              "business         20\n",
              "civil servant     6\n",
              "Name: income_type, dtype: int64"
            ]
          },
          "execution_count": 49,
          "metadata": {},
          "output_type": "execute_result"
        }
      ],
      "source": [
        "df.loc[df['dob_years']==0]['income_type'].value_counts()"
      ]
    },
    {
      "cell_type": "code",
      "execution_count": null,
      "metadata": {
        "id": "VQ1IlWsGsRTD",
        "outputId": "0cb48dae-12bf-4ccb-9b5c-ad6b35940696"
      },
      "outputs": [
        {
          "data": {
            "text/plain": [
              "married              49\n",
              "civil partnership    21\n",
              "unmarried            16\n",
              "divorced             10\n",
              "widow / widower       5\n",
              "Name: family_status, dtype: int64"
            ]
          },
          "execution_count": 50,
          "metadata": {},
          "output_type": "execute_result"
        }
      ],
      "source": [
        "df.loc[df['dob_years']==0]['family_status'].value_counts()"
      ]
    },
    {
      "cell_type": "code",
      "execution_count": null,
      "metadata": {
        "id": "52kC6LcAsRTE",
        "outputId": "3cd76b2f-df41-4109-f6b1-329d610d0a5a"
      },
      "outputs": [
        {
          "data": {
            "text/html": [
              "<div>\n",
              "<style scoped>\n",
              "    .dataframe tbody tr th:only-of-type {\n",
              "        vertical-align: middle;\n",
              "    }\n",
              "\n",
              "    .dataframe tbody tr th {\n",
              "        vertical-align: top;\n",
              "    }\n",
              "\n",
              "    .dataframe thead th {\n",
              "        text-align: right;\n",
              "    }\n",
              "</style>\n",
              "<table border=\"1\" class=\"dataframe\">\n",
              "  <thead>\n",
              "    <tr style=\"text-align: right;\">\n",
              "      <th></th>\n",
              "      <th>0</th>\n",
              "      <th>19</th>\n",
              "      <th>20</th>\n",
              "      <th>21</th>\n",
              "      <th>22</th>\n",
              "      <th>23</th>\n",
              "      <th>24</th>\n",
              "      <th>25</th>\n",
              "      <th>26</th>\n",
              "      <th>27</th>\n",
              "      <th>...</th>\n",
              "      <th>66</th>\n",
              "      <th>67</th>\n",
              "      <th>68</th>\n",
              "      <th>69</th>\n",
              "      <th>70</th>\n",
              "      <th>71</th>\n",
              "      <th>72</th>\n",
              "      <th>73</th>\n",
              "      <th>74</th>\n",
              "      <th>75</th>\n",
              "    </tr>\n",
              "  </thead>\n",
              "  <tbody>\n",
              "    <tr>\n",
              "      <th>dob_years</th>\n",
              "      <td>0.004692</td>\n",
              "      <td>0.00065</td>\n",
              "      <td>0.002369</td>\n",
              "      <td>0.005157</td>\n",
              "      <td>0.008502</td>\n",
              "      <td>0.0118</td>\n",
              "      <td>0.012265</td>\n",
              "      <td>0.016585</td>\n",
              "      <td>0.018955</td>\n",
              "      <td>0.022904</td>\n",
              "      <td>...</td>\n",
              "      <td>0.008502</td>\n",
              "      <td>0.007758</td>\n",
              "      <td>0.004599</td>\n",
              "      <td>0.003949</td>\n",
              "      <td>0.00302</td>\n",
              "      <td>0.002695</td>\n",
              "      <td>0.001533</td>\n",
              "      <td>0.000372</td>\n",
              "      <td>0.000279</td>\n",
              "      <td>0.000046</td>\n",
              "    </tr>\n",
              "  </tbody>\n",
              "</table>\n",
              "<p>1 rows × 58 columns</p>\n",
              "</div>"
            ],
            "text/plain": [
              "                 0        19        20        21        22      23        24  \\\n",
              "dob_years  0.004692  0.00065  0.002369  0.005157  0.008502  0.0118  0.012265   \n",
              "\n",
              "                 25        26        27  ...        66        67        68  \\\n",
              "dob_years  0.016585  0.018955  0.022904  ...  0.008502  0.007758  0.004599   \n",
              "\n",
              "                 69       70        71        72        73        74        75  \n",
              "dob_years  0.003949  0.00302  0.002695  0.001533  0.000372  0.000279  0.000046  \n",
              "\n",
              "[1 rows x 58 columns]"
            ]
          },
          "execution_count": 51,
          "metadata": {},
          "output_type": "execute_result"
        }
      ],
      "source": [
        "pd.DataFrame(df['dob_years'].value_counts(normalize=True).sort_index()).T"
      ]
    },
    {
      "cell_type": "code",
      "execution_count": null,
      "metadata": {
        "id": "7a8iGowysRTE",
        "outputId": "74fee120-ae9e-4f80-f93a-ce04a7ced311"
      },
      "outputs": [
        {
          "name": "stdout",
          "output_type": "stream",
          "text": [
            "Persentase data yang bermasalah adalah: 0.47%\n"
          ]
        }
      ],
      "source": [
        "\n",
        "df_days_employed_prob_percent = (df['dob_years'] == 0).sum() / df.shape[0]\n",
        "print(f'Persentase data yang bermasalah adalah: {df_days_employed_prob_percent:.2%}')"
      ]
    },
    {
      "cell_type": "code",
      "execution_count": null,
      "metadata": {
        "id": "mtFJJo68sRTE"
      },
      "outputs": [],
      "source": [
        "df.loc[(df['dob_years']==0),'dob_years']=df['dob_years'].median()"
      ]
    },
    {
      "cell_type": "markdown",
      "metadata": {
        "id": "WPSVlWLbsRTE"
      },
      "source": [
        "With the distribution of the average dob_years data evenly distributed in 0-2% (see value_counts) and the problematic data is 'only' <0.5%, I think placing the median value on the problematic data will not damage the overall data information and can be accounted for. "
      ]
    },
    {
      "cell_type": "code",
      "execution_count": null,
      "metadata": {
        "id": "DiuHLHFWsRTE",
        "outputId": "cd08724a-b342-481a-be9d-b39bff8851be"
      },
      "outputs": [
        {
          "data": {
            "text/plain": [
              "(0, 12)"
            ]
          },
          "execution_count": 54,
          "metadata": {},
          "output_type": "execute_result"
        }
      ],
      "source": [
        "\n",
        "df.loc[(df['dob_years'].isna())].shape"
      ]
    },
    {
      "cell_type": "code",
      "execution_count": null,
      "metadata": {
        "id": "FokdXUHGsRTE",
        "outputId": "12d94cca-79e3-4d93-9402-6601243db6f7"
      },
      "outputs": [
        {
          "data": {
            "text/plain": [
              "married              57.514518\n",
              "civil partnership    19.405343\n",
              "unmarried            13.068525\n",
              "divorced              5.551684\n",
              "widow / widower       4.459930\n",
              "Name: family_status, dtype: float64"
            ]
          },
          "execution_count": 55,
          "metadata": {},
          "output_type": "execute_result"
        }
      ],
      "source": [
        "\n",
        "df['family_status'].value_counts(normalize=True)*100\n"
      ]
    },
    {
      "cell_type": "code",
      "execution_count": null,
      "metadata": {
        "id": "KuosZp-msRTE",
        "outputId": "77fa80fa-0007-4fbd-e545-6cc94da48a3b"
      },
      "outputs": [
        {
          "data": {
            "text/plain": [
              "count       21525\n",
              "unique          5\n",
              "top       married\n",
              "freq        12380\n",
              "Name: family_status, dtype: object"
            ]
          },
          "execution_count": 56,
          "metadata": {},
          "output_type": "execute_result"
        }
      ],
      "source": [
        "df['family_status'].describe()"
      ]
    },
    {
      "cell_type": "code",
      "execution_count": null,
      "metadata": {
        "id": "ZgBaB26BsRTE",
        "outputId": "4fe7a59a-039c-4d7c-95b2-a41fa3d47a4f"
      },
      "outputs": [
        {
          "data": {
            "text/plain": [
              "(0, 12)"
            ]
          },
          "execution_count": 57,
          "metadata": {},
          "output_type": "execute_result"
        }
      ],
      "source": [
        "df.loc[(df['family_status'].isna())].shape"
      ]
    },
    {
      "cell_type": "code",
      "execution_count": null,
      "metadata": {
        "id": "ck4e03xCsRTF",
        "outputId": "cd9fbf91-a0f8-48a3-90db-8f6934b29e29"
      },
      "outputs": [
        {
          "data": {
            "text/plain": [
              "array(['F', 'M', 'XNA'], dtype=object)"
            ]
          },
          "execution_count": 60,
          "metadata": {},
          "output_type": "execute_result"
        }
      ],
      "source": [
        "\n",
        "df['gender'].unique()"
      ]
    },
    {
      "cell_type": "code",
      "execution_count": null,
      "metadata": {
        "id": "w1p2M41PsRTF",
        "outputId": "c0e4d0e6-7e60-43db-859b-676bee5d2708"
      },
      "outputs": [
        {
          "data": {
            "text/plain": [
              "F      66.137050\n",
              "M      33.858304\n",
              "XNA     0.004646\n",
              "Name: gender, dtype: float64"
            ]
          },
          "execution_count": 61,
          "metadata": {},
          "output_type": "execute_result"
        }
      ],
      "source": [
        "df['gender'].value_counts(normalize=True)*100"
      ]
    },
    {
      "cell_type": "code",
      "execution_count": null,
      "metadata": {
        "id": "xoSZG3W5sRTF",
        "outputId": "3f11997b-452d-4127-a329-efe78fd88482"
      },
      "outputs": [
        {
          "data": {
            "text/html": [
              "<div>\n",
              "<style scoped>\n",
              "    .dataframe tbody tr th:only-of-type {\n",
              "        vertical-align: middle;\n",
              "    }\n",
              "\n",
              "    .dataframe tbody tr th {\n",
              "        vertical-align: top;\n",
              "    }\n",
              "\n",
              "    .dataframe thead th {\n",
              "        text-align: right;\n",
              "    }\n",
              "</style>\n",
              "<table border=\"1\" class=\"dataframe\">\n",
              "  <thead>\n",
              "    <tr style=\"text-align: right;\">\n",
              "      <th>purpose</th>\n",
              "      <th>building a property</th>\n",
              "      <th>building a real estate</th>\n",
              "      <th>buy commercial real estate</th>\n",
              "      <th>buy real estate</th>\n",
              "      <th>buy residential real estate</th>\n",
              "      <th>buying a second-hand car</th>\n",
              "      <th>buying my own car</th>\n",
              "      <th>buying property for renting out</th>\n",
              "      <th>car</th>\n",
              "      <th>car purchase</th>\n",
              "      <th>...</th>\n",
              "      <th>supplementary education</th>\n",
              "      <th>to become educated</th>\n",
              "      <th>to buy a car</th>\n",
              "      <th>to get a supplementary education</th>\n",
              "      <th>to have a wedding</th>\n",
              "      <th>to own a car</th>\n",
              "      <th>transactions with commercial real estate</th>\n",
              "      <th>transactions with my real estate</th>\n",
              "      <th>university education</th>\n",
              "      <th>wedding ceremony</th>\n",
              "    </tr>\n",
              "    <tr>\n",
              "      <th>gender</th>\n",
              "      <th></th>\n",
              "      <th></th>\n",
              "      <th></th>\n",
              "      <th></th>\n",
              "      <th></th>\n",
              "      <th></th>\n",
              "      <th></th>\n",
              "      <th></th>\n",
              "      <th></th>\n",
              "      <th></th>\n",
              "      <th></th>\n",
              "      <th></th>\n",
              "      <th></th>\n",
              "      <th></th>\n",
              "      <th></th>\n",
              "      <th></th>\n",
              "      <th></th>\n",
              "      <th></th>\n",
              "      <th></th>\n",
              "      <th></th>\n",
              "      <th></th>\n",
              "    </tr>\n",
              "  </thead>\n",
              "  <tbody>\n",
              "    <tr>\n",
              "      <th>F</th>\n",
              "      <td>412.0</td>\n",
              "      <td>417.0</td>\n",
              "      <td>447.0</td>\n",
              "      <td>395.0</td>\n",
              "      <td>407.0</td>\n",
              "      <td>324.0</td>\n",
              "      <td>338.0</td>\n",
              "      <td>443.0</td>\n",
              "      <td>339.0</td>\n",
              "      <td>320.0</td>\n",
              "      <td>...</td>\n",
              "      <td>311.0</td>\n",
              "      <td>266.0</td>\n",
              "      <td>295.0</td>\n",
              "      <td>304.0</td>\n",
              "      <td>506.0</td>\n",
              "      <td>313.0</td>\n",
              "      <td>427.0</td>\n",
              "      <td>408.0</td>\n",
              "      <td>298.0</td>\n",
              "      <td>547.0</td>\n",
              "    </tr>\n",
              "    <tr>\n",
              "      <th>M</th>\n",
              "      <td>208.0</td>\n",
              "      <td>209.0</td>\n",
              "      <td>217.0</td>\n",
              "      <td>228.0</td>\n",
              "      <td>200.0</td>\n",
              "      <td>155.0</td>\n",
              "      <td>167.0</td>\n",
              "      <td>210.0</td>\n",
              "      <td>156.0</td>\n",
              "      <td>142.0</td>\n",
              "      <td>...</td>\n",
              "      <td>151.0</td>\n",
              "      <td>146.0</td>\n",
              "      <td>177.0</td>\n",
              "      <td>143.0</td>\n",
              "      <td>268.0</td>\n",
              "      <td>167.0</td>\n",
              "      <td>224.0</td>\n",
              "      <td>222.0</td>\n",
              "      <td>155.0</td>\n",
              "      <td>250.0</td>\n",
              "    </tr>\n",
              "    <tr>\n",
              "      <th>XNA</th>\n",
              "      <td>NaN</td>\n",
              "      <td>NaN</td>\n",
              "      <td>NaN</td>\n",
              "      <td>1.0</td>\n",
              "      <td>NaN</td>\n",
              "      <td>NaN</td>\n",
              "      <td>NaN</td>\n",
              "      <td>NaN</td>\n",
              "      <td>NaN</td>\n",
              "      <td>NaN</td>\n",
              "      <td>...</td>\n",
              "      <td>NaN</td>\n",
              "      <td>NaN</td>\n",
              "      <td>NaN</td>\n",
              "      <td>NaN</td>\n",
              "      <td>NaN</td>\n",
              "      <td>NaN</td>\n",
              "      <td>NaN</td>\n",
              "      <td>NaN</td>\n",
              "      <td>NaN</td>\n",
              "      <td>NaN</td>\n",
              "    </tr>\n",
              "  </tbody>\n",
              "</table>\n",
              "<p>3 rows × 38 columns</p>\n",
              "</div>"
            ],
            "text/plain": [
              "purpose  building a property  building a real estate  \\\n",
              "gender                                                 \n",
              "F                      412.0                   417.0   \n",
              "M                      208.0                   209.0   \n",
              "XNA                      NaN                     NaN   \n",
              "\n",
              "purpose  buy commercial real estate  buy real estate  \\\n",
              "gender                                                 \n",
              "F                             447.0            395.0   \n",
              "M                             217.0            228.0   \n",
              "XNA                             NaN              1.0   \n",
              "\n",
              "purpose  buy residential real estate  buying a second-hand car  \\\n",
              "gender                                                           \n",
              "F                              407.0                     324.0   \n",
              "M                              200.0                     155.0   \n",
              "XNA                              NaN                       NaN   \n",
              "\n",
              "purpose  buying my own car  buying property for renting out    car  \\\n",
              "gender                                                               \n",
              "F                    338.0                            443.0  339.0   \n",
              "M                    167.0                            210.0  156.0   \n",
              "XNA                    NaN                              NaN    NaN   \n",
              "\n",
              "purpose  car purchase  ...  supplementary education  to become educated  \\\n",
              "gender                 ...                                                \n",
              "F               320.0  ...                    311.0               266.0   \n",
              "M               142.0  ...                    151.0               146.0   \n",
              "XNA               NaN  ...                      NaN                 NaN   \n",
              "\n",
              "purpose  to buy a car  to get a supplementary education  to have a wedding  \\\n",
              "gender                                                                       \n",
              "F               295.0                             304.0              506.0   \n",
              "M               177.0                             143.0              268.0   \n",
              "XNA               NaN                               NaN                NaN   \n",
              "\n",
              "purpose  to own a car  transactions with commercial real estate  \\\n",
              "gender                                                            \n",
              "F               313.0                                     427.0   \n",
              "M               167.0                                     224.0   \n",
              "XNA               NaN                                       NaN   \n",
              "\n",
              "purpose  transactions with my real estate  university education  \\\n",
              "gender                                                            \n",
              "F                                   408.0                 298.0   \n",
              "M                                   222.0                 155.0   \n",
              "XNA                                   NaN                   NaN   \n",
              "\n",
              "purpose  wedding ceremony  \n",
              "gender                     \n",
              "F                   547.0  \n",
              "M                   250.0  \n",
              "XNA                   NaN  \n",
              "\n",
              "[3 rows x 38 columns]"
            ]
          },
          "execution_count": 62,
          "metadata": {},
          "output_type": "execute_result"
        }
      ],
      "source": [
        "# XNA gender is just dropped because the distribution is less than 0.5% and there are many NaNs\n",
        "df_gender_value = df.pivot_table(index='gender', values='family_status', columns='purpose', aggfunc= 'count')\n",
        "df_gender_value"
      ]
    },
    {
      "cell_type": "code",
      "execution_count": null,
      "metadata": {
        "id": "QFT5XYMKsRTF",
        "outputId": "5b054f69-d0f4-4ff4-920b-6b50d7edfde4"
      },
      "outputs": [
        {
          "data": {
            "text/plain": [
              "F    14236\n",
              "M     7288\n",
              "Name: gender, dtype: int64"
            ]
          },
          "execution_count": 63,
          "metadata": {},
          "output_type": "execute_result"
        }
      ],
      "source": [
        "df = df[(df.gender != 'XNA')]\n",
        "df['gender'].value_counts()"
      ]
    },
    {
      "cell_type": "code",
      "execution_count": null,
      "metadata": {
        "id": "EBmVzk7ssRTF",
        "outputId": "ddc29a77-ea7b-46ef-d449-244e9ff0e714"
      },
      "outputs": [
        {
          "data": {
            "text/plain": [
              "array(['employee', 'retiree', 'business', 'civil servant', 'unemployed',\n",
              "       'entrepreneur', 'student', 'paternity / maternity leave'],\n",
              "      dtype=object)"
            ]
          },
          "execution_count": 65,
          "metadata": {},
          "output_type": "execute_result"
        }
      ],
      "source": [
        "\n",
        "df['income_type'].unique()"
      ]
    },
    {
      "cell_type": "code",
      "execution_count": null,
      "metadata": {
        "id": "ON9aiPtesRTF",
        "outputId": "bddce2d3-e9f5-475e-93ba-0de0ab8a3cc4"
      },
      "outputs": [
        {
          "data": {
            "text/plain": [
              "employee                       51.658614\n",
              "business                       23.620145\n",
              "retiree                        17.914886\n",
              "civil servant                   6.778480\n",
              "unemployed                      0.009292\n",
              "entrepreneur                    0.009292\n",
              "paternity / maternity leave     0.004646\n",
              "student                         0.004646\n",
              "Name: income_type, dtype: float64"
            ]
          },
          "execution_count": 66,
          "metadata": {},
          "output_type": "execute_result"
        }
      ],
      "source": [
        "df['income_type'].value_counts(normalize=True)*100"
      ]
    },
    {
      "cell_type": "code",
      "execution_count": null,
      "metadata": {
        "id": "xyCh2VFYsRTF",
        "outputId": "b2d2388c-3f59-4fb5-c9b2-ccab639d0f08"
      },
      "outputs": [
        {
          "data": {
            "text/plain": [
              "children               0\n",
              "days_employed       2174\n",
              "dob_years              0\n",
              "education              0\n",
              "education_id           0\n",
              "family_status          0\n",
              "family_status_id       0\n",
              "gender                 0\n",
              "income_type            0\n",
              "debt                   0\n",
              "total_income        2174\n",
              "purpose                0\n",
              "dtype: int64"
            ]
          },
          "execution_count": 69,
          "metadata": {},
          "output_type": "execute_result"
        }
      ],
      "source": [
        "df.isna().sum()"
      ]
    },
    {
      "cell_type": "code",
      "execution_count": null,
      "metadata": {
        "id": "5HVipyn5sRTF",
        "outputId": "3a44c8b2-c9ff-4a32-dfd3-3b2aa14d9f57"
      },
      "outputs": [
        {
          "name": "stdout",
          "output_type": "stream",
          "text": [
            "72\n",
            "Distribusi nilai duplikat sebesar: 0.33%\n"
          ]
        }
      ],
      "source": [
        "\n",
        "print(df.duplicated().sum())\n",
        "\n",
        "df_duplicated_percent = df.duplicated().sum() / df.shape[0] \n",
        "print(f'Distribusi nilai duplikat sebesar: {df_duplicated_percent:.2%}')"
      ]
    },
    {
      "cell_type": "code",
      "execution_count": null,
      "metadata": {
        "id": "iobYSY9BsRTG"
      },
      "outputs": [],
      "source": [
        "\n",
        "df = df.drop_duplicates().reset_index(drop=True)\n"
      ]
    },
    {
      "cell_type": "code",
      "execution_count": null,
      "metadata": {
        "id": "FxOXwLglsRTG",
        "outputId": "2072bf4d-ceb9-4ee7-a829-623817f235ab"
      },
      "outputs": [
        {
          "data": {
            "text/plain": [
              "0"
            ]
          },
          "execution_count": 72,
          "metadata": {},
          "output_type": "execute_result"
        }
      ],
      "source": [
        "\n",
        "df.duplicated().sum()"
      ]
    },
    {
      "cell_type": "code",
      "execution_count": null,
      "metadata": {
        "id": "c0UaRDjqsRTG",
        "outputId": "cdd0e509-0910-4787-de2c-335f5a17630f"
      },
      "outputs": [
        {
          "data": {
            "text/html": [
              "<div>\n",
              "<style scoped>\n",
              "    .dataframe tbody tr th:only-of-type {\n",
              "        vertical-align: middle;\n",
              "    }\n",
              "\n",
              "    .dataframe tbody tr th {\n",
              "        vertical-align: top;\n",
              "    }\n",
              "\n",
              "    .dataframe thead th {\n",
              "        text-align: right;\n",
              "    }\n",
              "</style>\n",
              "<table border=\"1\" class=\"dataframe\">\n",
              "  <thead>\n",
              "    <tr style=\"text-align: right;\">\n",
              "      <th></th>\n",
              "      <th>children</th>\n",
              "      <th>days_employed</th>\n",
              "      <th>dob_years</th>\n",
              "      <th>education</th>\n",
              "      <th>education_id</th>\n",
              "      <th>family_status</th>\n",
              "      <th>family_status_id</th>\n",
              "      <th>gender</th>\n",
              "      <th>income_type</th>\n",
              "      <th>debt</th>\n",
              "      <th>total_income</th>\n",
              "      <th>purpose</th>\n",
              "    </tr>\n",
              "  </thead>\n",
              "  <tbody>\n",
              "    <tr>\n",
              "      <th>0</th>\n",
              "      <td>1.0</td>\n",
              "      <td>8437.673028</td>\n",
              "      <td>42.0</td>\n",
              "      <td>bachelor's degree</td>\n",
              "      <td>0</td>\n",
              "      <td>married</td>\n",
              "      <td>0</td>\n",
              "      <td>F</td>\n",
              "      <td>employee</td>\n",
              "      <td>0</td>\n",
              "      <td>40620.102</td>\n",
              "      <td>purchase of the house</td>\n",
              "    </tr>\n",
              "    <tr>\n",
              "      <th>1</th>\n",
              "      <td>1.0</td>\n",
              "      <td>4024.803754</td>\n",
              "      <td>36.0</td>\n",
              "      <td>secondary education</td>\n",
              "      <td>1</td>\n",
              "      <td>married</td>\n",
              "      <td>0</td>\n",
              "      <td>F</td>\n",
              "      <td>employee</td>\n",
              "      <td>0</td>\n",
              "      <td>17932.802</td>\n",
              "      <td>car purchase</td>\n",
              "    </tr>\n",
              "    <tr>\n",
              "      <th>2</th>\n",
              "      <td>0.0</td>\n",
              "      <td>5623.422610</td>\n",
              "      <td>33.0</td>\n",
              "      <td>secondary education</td>\n",
              "      <td>1</td>\n",
              "      <td>married</td>\n",
              "      <td>0</td>\n",
              "      <td>M</td>\n",
              "      <td>employee</td>\n",
              "      <td>0</td>\n",
              "      <td>23341.752</td>\n",
              "      <td>purchase of the house</td>\n",
              "    </tr>\n",
              "    <tr>\n",
              "      <th>3</th>\n",
              "      <td>3.0</td>\n",
              "      <td>4124.747207</td>\n",
              "      <td>32.0</td>\n",
              "      <td>secondary education</td>\n",
              "      <td>1</td>\n",
              "      <td>married</td>\n",
              "      <td>0</td>\n",
              "      <td>M</td>\n",
              "      <td>employee</td>\n",
              "      <td>0</td>\n",
              "      <td>42820.568</td>\n",
              "      <td>supplementary education</td>\n",
              "    </tr>\n",
              "    <tr>\n",
              "      <th>4</th>\n",
              "      <td>0.0</td>\n",
              "      <td>340266.072047</td>\n",
              "      <td>53.0</td>\n",
              "      <td>secondary education</td>\n",
              "      <td>1</td>\n",
              "      <td>civil partnership</td>\n",
              "      <td>1</td>\n",
              "      <td>F</td>\n",
              "      <td>retiree</td>\n",
              "      <td>0</td>\n",
              "      <td>25378.572</td>\n",
              "      <td>to have a wedding</td>\n",
              "    </tr>\n",
              "    <tr>\n",
              "      <th>5</th>\n",
              "      <td>0.0</td>\n",
              "      <td>926.185831</td>\n",
              "      <td>27.0</td>\n",
              "      <td>bachelor's degree</td>\n",
              "      <td>0</td>\n",
              "      <td>civil partnership</td>\n",
              "      <td>1</td>\n",
              "      <td>M</td>\n",
              "      <td>business</td>\n",
              "      <td>0</td>\n",
              "      <td>40922.170</td>\n",
              "      <td>purchase of the house</td>\n",
              "    </tr>\n",
              "    <tr>\n",
              "      <th>6</th>\n",
              "      <td>0.0</td>\n",
              "      <td>2879.202052</td>\n",
              "      <td>43.0</td>\n",
              "      <td>bachelor's degree</td>\n",
              "      <td>0</td>\n",
              "      <td>married</td>\n",
              "      <td>0</td>\n",
              "      <td>F</td>\n",
              "      <td>business</td>\n",
              "      <td>0</td>\n",
              "      <td>38484.156</td>\n",
              "      <td>housing transactions</td>\n",
              "    </tr>\n",
              "    <tr>\n",
              "      <th>7</th>\n",
              "      <td>0.0</td>\n",
              "      <td>152.779569</td>\n",
              "      <td>50.0</td>\n",
              "      <td>secondary education</td>\n",
              "      <td>1</td>\n",
              "      <td>married</td>\n",
              "      <td>0</td>\n",
              "      <td>M</td>\n",
              "      <td>employee</td>\n",
              "      <td>0</td>\n",
              "      <td>21731.829</td>\n",
              "      <td>education</td>\n",
              "    </tr>\n",
              "    <tr>\n",
              "      <th>8</th>\n",
              "      <td>2.0</td>\n",
              "      <td>6929.865299</td>\n",
              "      <td>35.0</td>\n",
              "      <td>bachelor's degree</td>\n",
              "      <td>0</td>\n",
              "      <td>civil partnership</td>\n",
              "      <td>1</td>\n",
              "      <td>F</td>\n",
              "      <td>employee</td>\n",
              "      <td>0</td>\n",
              "      <td>15337.093</td>\n",
              "      <td>having a wedding</td>\n",
              "    </tr>\n",
              "    <tr>\n",
              "      <th>9</th>\n",
              "      <td>0.0</td>\n",
              "      <td>2188.756445</td>\n",
              "      <td>41.0</td>\n",
              "      <td>secondary education</td>\n",
              "      <td>1</td>\n",
              "      <td>married</td>\n",
              "      <td>0</td>\n",
              "      <td>M</td>\n",
              "      <td>employee</td>\n",
              "      <td>0</td>\n",
              "      <td>23108.150</td>\n",
              "      <td>purchase of the house for my family</td>\n",
              "    </tr>\n",
              "    <tr>\n",
              "      <th>10</th>\n",
              "      <td>2.0</td>\n",
              "      <td>4171.483647</td>\n",
              "      <td>36.0</td>\n",
              "      <td>bachelor's degree</td>\n",
              "      <td>0</td>\n",
              "      <td>married</td>\n",
              "      <td>0</td>\n",
              "      <td>M</td>\n",
              "      <td>business</td>\n",
              "      <td>0</td>\n",
              "      <td>18230.959</td>\n",
              "      <td>buy real estate</td>\n",
              "    </tr>\n",
              "    <tr>\n",
              "      <th>11</th>\n",
              "      <td>0.0</td>\n",
              "      <td>792.701887</td>\n",
              "      <td>40.0</td>\n",
              "      <td>secondary education</td>\n",
              "      <td>1</td>\n",
              "      <td>married</td>\n",
              "      <td>0</td>\n",
              "      <td>F</td>\n",
              "      <td>employee</td>\n",
              "      <td>0</td>\n",
              "      <td>12331.077</td>\n",
              "      <td>buy commercial real estate</td>\n",
              "    </tr>\n",
              "    <tr>\n",
              "      <th>12</th>\n",
              "      <td>0.0</td>\n",
              "      <td>NaN</td>\n",
              "      <td>65.0</td>\n",
              "      <td>secondary education</td>\n",
              "      <td>1</td>\n",
              "      <td>civil partnership</td>\n",
              "      <td>1</td>\n",
              "      <td>M</td>\n",
              "      <td>retiree</td>\n",
              "      <td>0</td>\n",
              "      <td>NaN</td>\n",
              "      <td>to have a wedding</td>\n",
              "    </tr>\n",
              "    <tr>\n",
              "      <th>13</th>\n",
              "      <td>0.0</td>\n",
              "      <td>1846.641941</td>\n",
              "      <td>54.0</td>\n",
              "      <td>some college</td>\n",
              "      <td>2</td>\n",
              "      <td>married</td>\n",
              "      <td>0</td>\n",
              "      <td>F</td>\n",
              "      <td>employee</td>\n",
              "      <td>0</td>\n",
              "      <td>20873.317</td>\n",
              "      <td>car purchase</td>\n",
              "    </tr>\n",
              "    <tr>\n",
              "      <th>14</th>\n",
              "      <td>0.0</td>\n",
              "      <td>1844.956182</td>\n",
              "      <td>56.0</td>\n",
              "      <td>bachelor's degree</td>\n",
              "      <td>0</td>\n",
              "      <td>civil partnership</td>\n",
              "      <td>1</td>\n",
              "      <td>F</td>\n",
              "      <td>business</td>\n",
              "      <td>1</td>\n",
              "      <td>26420.466</td>\n",
              "      <td>buy residential real estate</td>\n",
              "    </tr>\n",
              "    <tr>\n",
              "      <th>15</th>\n",
              "      <td>1.0</td>\n",
              "      <td>972.364419</td>\n",
              "      <td>26.0</td>\n",
              "      <td>secondary education</td>\n",
              "      <td>1</td>\n",
              "      <td>married</td>\n",
              "      <td>0</td>\n",
              "      <td>F</td>\n",
              "      <td>employee</td>\n",
              "      <td>0</td>\n",
              "      <td>18691.345</td>\n",
              "      <td>construction of own property</td>\n",
              "    </tr>\n",
              "    <tr>\n",
              "      <th>16</th>\n",
              "      <td>0.0</td>\n",
              "      <td>1719.934226</td>\n",
              "      <td>35.0</td>\n",
              "      <td>secondary education</td>\n",
              "      <td>1</td>\n",
              "      <td>married</td>\n",
              "      <td>0</td>\n",
              "      <td>F</td>\n",
              "      <td>employee</td>\n",
              "      <td>0</td>\n",
              "      <td>46272.433</td>\n",
              "      <td>property</td>\n",
              "    </tr>\n",
              "    <tr>\n",
              "      <th>17</th>\n",
              "      <td>0.0</td>\n",
              "      <td>2369.999720</td>\n",
              "      <td>33.0</td>\n",
              "      <td>bachelor's degree</td>\n",
              "      <td>0</td>\n",
              "      <td>civil partnership</td>\n",
              "      <td>1</td>\n",
              "      <td>M</td>\n",
              "      <td>employee</td>\n",
              "      <td>0</td>\n",
              "      <td>14465.694</td>\n",
              "      <td>building a property</td>\n",
              "    </tr>\n",
              "    <tr>\n",
              "      <th>18</th>\n",
              "      <td>0.0</td>\n",
              "      <td>400281.136913</td>\n",
              "      <td>53.0</td>\n",
              "      <td>secondary education</td>\n",
              "      <td>1</td>\n",
              "      <td>widow / widower</td>\n",
              "      <td>2</td>\n",
              "      <td>F</td>\n",
              "      <td>retiree</td>\n",
              "      <td>0</td>\n",
              "      <td>9091.804</td>\n",
              "      <td>buying a second-hand car</td>\n",
              "    </tr>\n",
              "    <tr>\n",
              "      <th>19</th>\n",
              "      <td>0.0</td>\n",
              "      <td>10038.818549</td>\n",
              "      <td>48.0</td>\n",
              "      <td>secondary education</td>\n",
              "      <td>1</td>\n",
              "      <td>divorced</td>\n",
              "      <td>3</td>\n",
              "      <td>F</td>\n",
              "      <td>employee</td>\n",
              "      <td>0</td>\n",
              "      <td>38852.977</td>\n",
              "      <td>buying my own car</td>\n",
              "    </tr>\n",
              "  </tbody>\n",
              "</table>\n",
              "</div>"
            ],
            "text/plain": [
              "    children  days_employed  dob_years            education  education_id  \\\n",
              "0        1.0    8437.673028       42.0    bachelor's degree             0   \n",
              "1        1.0    4024.803754       36.0  secondary education             1   \n",
              "2        0.0    5623.422610       33.0  secondary education             1   \n",
              "3        3.0    4124.747207       32.0  secondary education             1   \n",
              "4        0.0  340266.072047       53.0  secondary education             1   \n",
              "5        0.0     926.185831       27.0    bachelor's degree             0   \n",
              "6        0.0    2879.202052       43.0    bachelor's degree             0   \n",
              "7        0.0     152.779569       50.0  secondary education             1   \n",
              "8        2.0    6929.865299       35.0    bachelor's degree             0   \n",
              "9        0.0    2188.756445       41.0  secondary education             1   \n",
              "10       2.0    4171.483647       36.0    bachelor's degree             0   \n",
              "11       0.0     792.701887       40.0  secondary education             1   \n",
              "12       0.0            NaN       65.0  secondary education             1   \n",
              "13       0.0    1846.641941       54.0         some college             2   \n",
              "14       0.0    1844.956182       56.0    bachelor's degree             0   \n",
              "15       1.0     972.364419       26.0  secondary education             1   \n",
              "16       0.0    1719.934226       35.0  secondary education             1   \n",
              "17       0.0    2369.999720       33.0    bachelor's degree             0   \n",
              "18       0.0  400281.136913       53.0  secondary education             1   \n",
              "19       0.0   10038.818549       48.0  secondary education             1   \n",
              "\n",
              "        family_status  family_status_id gender income_type  debt  \\\n",
              "0             married                 0      F    employee     0   \n",
              "1             married                 0      F    employee     0   \n",
              "2             married                 0      M    employee     0   \n",
              "3             married                 0      M    employee     0   \n",
              "4   civil partnership                 1      F     retiree     0   \n",
              "5   civil partnership                 1      M    business     0   \n",
              "6             married                 0      F    business     0   \n",
              "7             married                 0      M    employee     0   \n",
              "8   civil partnership                 1      F    employee     0   \n",
              "9             married                 0      M    employee     0   \n",
              "10            married                 0      M    business     0   \n",
              "11            married                 0      F    employee     0   \n",
              "12  civil partnership                 1      M     retiree     0   \n",
              "13            married                 0      F    employee     0   \n",
              "14  civil partnership                 1      F    business     1   \n",
              "15            married                 0      F    employee     0   \n",
              "16            married                 0      F    employee     0   \n",
              "17  civil partnership                 1      M    employee     0   \n",
              "18    widow / widower                 2      F     retiree     0   \n",
              "19           divorced                 3      F    employee     0   \n",
              "\n",
              "    total_income                              purpose  \n",
              "0      40620.102                purchase of the house  \n",
              "1      17932.802                         car purchase  \n",
              "2      23341.752                purchase of the house  \n",
              "3      42820.568              supplementary education  \n",
              "4      25378.572                    to have a wedding  \n",
              "5      40922.170                purchase of the house  \n",
              "6      38484.156                 housing transactions  \n",
              "7      21731.829                            education  \n",
              "8      15337.093                     having a wedding  \n",
              "9      23108.150  purchase of the house for my family  \n",
              "10     18230.959                      buy real estate  \n",
              "11     12331.077           buy commercial real estate  \n",
              "12           NaN                    to have a wedding  \n",
              "13     20873.317                         car purchase  \n",
              "14     26420.466          buy residential real estate  \n",
              "15     18691.345         construction of own property  \n",
              "16     46272.433                             property  \n",
              "17     14465.694                  building a property  \n",
              "18      9091.804             buying a second-hand car  \n",
              "19     38852.977                    buying my own car  "
            ]
          },
          "execution_count": 73,
          "metadata": {},
          "output_type": "execute_result"
        }
      ],
      "source": [
        "\n",
        "df.head(20)"
      ]
    },
    {
      "cell_type": "markdown",
      "metadata": {
        "id": "AWcnAzuEsRTG"
      },
      "source": [
        "\n",
        "\n",
        "1. the letters in the education column are uniform\n",
        "2. the -1 and 20 values in the children column have been changed to median values\n",
        "3. the XNA value in the gender column has been dropped because there is no significance\n",
        "4. duplicates have been removed to avoid repetition of calculations or double counting\n",
        "5. the value of 0 in the dob_years column has been replaced by the median value \n",
        "6. the minus value in the days_employed column has become positive to avoid miscalculation"
      ]
    },
    {
      "cell_type": "code",
      "execution_count": null,
      "metadata": {
        "id": "KeZ02OvhsRTG"
      },
      "outputs": [],
      "source": [
        "\n",
        "#df.head()"
      ]
    },
    {
      "cell_type": "code",
      "execution_count": null,
      "metadata": {
        "id": "Exct8Uc_sRTG",
        "outputId": "faaf1025-13a6-4e48-95ee-21d6aa1ad12b"
      },
      "outputs": [
        {
          "data": {
            "text/html": [
              "<div>\n",
              "<style scoped>\n",
              "    .dataframe tbody tr th:only-of-type {\n",
              "        vertical-align: middle;\n",
              "    }\n",
              "\n",
              "    .dataframe tbody tr th {\n",
              "        vertical-align: top;\n",
              "    }\n",
              "\n",
              "    .dataframe thead th {\n",
              "        text-align: right;\n",
              "    }\n",
              "</style>\n",
              "<table border=\"1\" class=\"dataframe\">\n",
              "  <thead>\n",
              "    <tr style=\"text-align: right;\">\n",
              "      <th></th>\n",
              "      <th>education</th>\n",
              "      <th>education_id</th>\n",
              "    </tr>\n",
              "  </thead>\n",
              "  <tbody>\n",
              "    <tr>\n",
              "      <th>0</th>\n",
              "      <td>bachelor's degree</td>\n",
              "      <td>0</td>\n",
              "    </tr>\n",
              "    <tr>\n",
              "      <th>1</th>\n",
              "      <td>secondary education</td>\n",
              "      <td>1</td>\n",
              "    </tr>\n",
              "    <tr>\n",
              "      <th>2</th>\n",
              "      <td>some college</td>\n",
              "      <td>2</td>\n",
              "    </tr>\n",
              "    <tr>\n",
              "      <th>3</th>\n",
              "      <td>primary education</td>\n",
              "      <td>3</td>\n",
              "    </tr>\n",
              "    <tr>\n",
              "      <th>4</th>\n",
              "      <td>graduate degree</td>\n",
              "      <td>4</td>\n",
              "    </tr>\n",
              "  </tbody>\n",
              "</table>\n",
              "</div>"
            ],
            "text/plain": [
              "             education  education_id\n",
              "0    bachelor's degree             0\n",
              "1  secondary education             1\n",
              "2         some college             2\n",
              "3    primary education             3\n",
              "4      graduate degree             4"
            ]
          },
          "execution_count": 75,
          "metadata": {},
          "output_type": "execute_result"
        }
      ],
      "source": [
        "education_dictionary=df[['education', 'education_id']].drop_duplicates().reset_index(drop=True)\n",
        "education_dictionary"
      ]
    },
    {
      "cell_type": "markdown",
      "metadata": {
        "id": "K1eaxhyEsRTG"
      },
      "source": [
        "Saya hapus df.head() "
      ]
    },
    {
      "cell_type": "code",
      "execution_count": null,
      "metadata": {
        "id": "1CkgMIObsRTG",
        "outputId": "9687d3b6-c548-48e7-c321-63c2d13a16db"
      },
      "outputs": [
        {
          "data": {
            "text/html": [
              "<div>\n",
              "<style scoped>\n",
              "    .dataframe tbody tr th:only-of-type {\n",
              "        vertical-align: middle;\n",
              "    }\n",
              "\n",
              "    .dataframe tbody tr th {\n",
              "        vertical-align: top;\n",
              "    }\n",
              "\n",
              "    .dataframe thead th {\n",
              "        text-align: right;\n",
              "    }\n",
              "</style>\n",
              "<table border=\"1\" class=\"dataframe\">\n",
              "  <thead>\n",
              "    <tr style=\"text-align: right;\">\n",
              "      <th></th>\n",
              "      <th>family_status</th>\n",
              "      <th>family_status_id</th>\n",
              "    </tr>\n",
              "  </thead>\n",
              "  <tbody>\n",
              "    <tr>\n",
              "      <th>0</th>\n",
              "      <td>married</td>\n",
              "      <td>0</td>\n",
              "    </tr>\n",
              "    <tr>\n",
              "      <th>1</th>\n",
              "      <td>civil partnership</td>\n",
              "      <td>1</td>\n",
              "    </tr>\n",
              "    <tr>\n",
              "      <th>2</th>\n",
              "      <td>widow / widower</td>\n",
              "      <td>2</td>\n",
              "    </tr>\n",
              "    <tr>\n",
              "      <th>3</th>\n",
              "      <td>divorced</td>\n",
              "      <td>3</td>\n",
              "    </tr>\n",
              "    <tr>\n",
              "      <th>4</th>\n",
              "      <td>unmarried</td>\n",
              "      <td>4</td>\n",
              "    </tr>\n",
              "  </tbody>\n",
              "</table>\n",
              "</div>"
            ],
            "text/plain": [
              "       family_status  family_status_id\n",
              "0            married                 0\n",
              "1  civil partnership                 1\n",
              "2    widow / widower                 2\n",
              "3           divorced                 3\n",
              "4          unmarried                 4"
            ]
          },
          "execution_count": 76,
          "metadata": {},
          "output_type": "execute_result"
        }
      ],
      "source": [
        "family_status_dictionary=df[['family_status', 'family_status_id']].drop_duplicates().reset_index(drop=True)\n",
        "family_status_dictionary"
      ]
    },
    {
      "cell_type": "code",
      "execution_count": null,
      "metadata": {
        "id": "LVSPWt_2sRTG",
        "outputId": "1d5ec88b-aa12-42bb-8d3a-6e6f46836eb2"
      },
      "outputs": [
        {
          "data": {
            "text/plain": [
              "count    21452.000000\n",
              "mean        43.469933\n",
              "std         12.213723\n",
              "min         19.000000\n",
              "25%         33.000000\n",
              "50%         42.000000\n",
              "75%         53.000000\n",
              "max         75.000000\n",
              "Name: dob_years, dtype: float64"
            ]
          },
          "execution_count": 77,
          "metadata": {},
          "output_type": "execute_result"
        }
      ],
      "source": [
        "df['dob_years'].describe()"
      ]
    },
    {
      "cell_type": "code",
      "execution_count": null,
      "metadata": {
        "id": "iCNbKtiTsRTG",
        "outputId": "01a14173-674f-47f6-fa7a-8ba5c5cfc845"
      },
      "outputs": [
        {
          "data": {
            "text/plain": [
              "42.0    696\n",
              "35.0    616\n",
              "40.0    607\n",
              "41.0    605\n",
              "34.0    601\n",
              "38.0    597\n",
              "33.0    581\n",
              "39.0    572\n",
              "31.0    559\n",
              "36.0    554\n",
              "44.0    545\n",
              "29.0    544\n",
              "30.0    537\n",
              "48.0    536\n",
              "37.0    536\n",
              "50.0    513\n",
              "43.0    512\n",
              "32.0    509\n",
              "49.0    508\n",
              "28.0    503\n",
              "45.0    496\n",
              "27.0    493\n",
              "52.0    484\n",
              "56.0    483\n",
              "47.0    477\n",
              "54.0    476\n",
              "46.0    472\n",
              "53.0    459\n",
              "57.0    456\n",
              "58.0    454\n",
              "51.0    446\n",
              "55.0    443\n",
              "59.0    443\n",
              "26.0    408\n",
              "60.0    374\n",
              "25.0    357\n",
              "61.0    354\n",
              "62.0    348\n",
              "63.0    269\n",
              "24.0    263\n",
              "64.0    260\n",
              "23.0    252\n",
              "65.0    193\n",
              "22.0    183\n",
              "66.0    182\n",
              "67.0    167\n",
              "21.0    111\n",
              "68.0     99\n",
              "69.0     85\n",
              "70.0     65\n",
              "71.0     56\n",
              "20.0     51\n",
              "72.0     33\n",
              "19.0     14\n",
              "73.0      8\n",
              "74.0      6\n",
              "75.0      1\n",
              "Name: dob_years, dtype: int64"
            ]
          },
          "execution_count": 78,
          "metadata": {},
          "output_type": "execute_result"
        }
      ],
      "source": [
        "df['dob_years'].value_counts()"
      ]
    },
    {
      "cell_type": "code",
      "execution_count": null,
      "metadata": {
        "id": "19K3-Ew-sRTH"
      },
      "outputs": [],
      "source": [
        "\n",
        "\n",
        "def age_group(age):\n",
        "    try:\n",
        "        if age<30:\n",
        "            return '<30'\n",
        "        if 31<=age<=40:\n",
        "            return '31-40'\n",
        "        if 41<=age<=50:\n",
        "            return '41-50'\n",
        "        if 51<=age<=60:\n",
        "            return '51-60'\n",
        "        if 61<=age<=70:\n",
        "            return '61-70'\n",
        "        else:\n",
        "            return '70+'\n",
        "    except:\n",
        "        return 0"
      ]
    },
    {
      "cell_type": "code",
      "execution_count": null,
      "metadata": {
        "id": "7hVPRMHHsRTH",
        "outputId": "f892d8e9-b48b-4d35-c46f-9c30ff004b6c"
      },
      "outputs": [
        {
          "data": {
            "text/plain": [
              "'41-50'"
            ]
          },
          "execution_count": 80,
          "metadata": {},
          "output_type": "execute_result"
        }
      ],
      "source": [
        "\n",
        "age_group(47)"
      ]
    },
    {
      "cell_type": "code",
      "execution_count": null,
      "metadata": {
        "id": "jM6d4ka2sRTH",
        "outputId": "4f186ae6-d0a1-4120-ca68-3f8341d56e4f"
      },
      "outputs": [
        {
          "data": {
            "text/html": [
              "<div>\n",
              "<style scoped>\n",
              "    .dataframe tbody tr th:only-of-type {\n",
              "        vertical-align: middle;\n",
              "    }\n",
              "\n",
              "    .dataframe tbody tr th {\n",
              "        vertical-align: top;\n",
              "    }\n",
              "\n",
              "    .dataframe thead th {\n",
              "        text-align: right;\n",
              "    }\n",
              "</style>\n",
              "<table border=\"1\" class=\"dataframe\">\n",
              "  <thead>\n",
              "    <tr style=\"text-align: right;\">\n",
              "      <th></th>\n",
              "      <th>children</th>\n",
              "      <th>days_employed</th>\n",
              "      <th>dob_years</th>\n",
              "      <th>education</th>\n",
              "      <th>education_id</th>\n",
              "      <th>family_status</th>\n",
              "      <th>family_status_id</th>\n",
              "      <th>gender</th>\n",
              "      <th>income_type</th>\n",
              "      <th>debt</th>\n",
              "      <th>total_income</th>\n",
              "      <th>purpose</th>\n",
              "      <th>age_group</th>\n",
              "    </tr>\n",
              "  </thead>\n",
              "  <tbody>\n",
              "    <tr>\n",
              "      <th>0</th>\n",
              "      <td>1.0</td>\n",
              "      <td>8437.673028</td>\n",
              "      <td>42.0</td>\n",
              "      <td>bachelor's degree</td>\n",
              "      <td>0</td>\n",
              "      <td>married</td>\n",
              "      <td>0</td>\n",
              "      <td>F</td>\n",
              "      <td>employee</td>\n",
              "      <td>0</td>\n",
              "      <td>40620.102</td>\n",
              "      <td>purchase of the house</td>\n",
              "      <td>41-50</td>\n",
              "    </tr>\n",
              "    <tr>\n",
              "      <th>1</th>\n",
              "      <td>1.0</td>\n",
              "      <td>4024.803754</td>\n",
              "      <td>36.0</td>\n",
              "      <td>secondary education</td>\n",
              "      <td>1</td>\n",
              "      <td>married</td>\n",
              "      <td>0</td>\n",
              "      <td>F</td>\n",
              "      <td>employee</td>\n",
              "      <td>0</td>\n",
              "      <td>17932.802</td>\n",
              "      <td>car purchase</td>\n",
              "      <td>31-40</td>\n",
              "    </tr>\n",
              "    <tr>\n",
              "      <th>2</th>\n",
              "      <td>0.0</td>\n",
              "      <td>5623.422610</td>\n",
              "      <td>33.0</td>\n",
              "      <td>secondary education</td>\n",
              "      <td>1</td>\n",
              "      <td>married</td>\n",
              "      <td>0</td>\n",
              "      <td>M</td>\n",
              "      <td>employee</td>\n",
              "      <td>0</td>\n",
              "      <td>23341.752</td>\n",
              "      <td>purchase of the house</td>\n",
              "      <td>31-40</td>\n",
              "    </tr>\n",
              "    <tr>\n",
              "      <th>3</th>\n",
              "      <td>3.0</td>\n",
              "      <td>4124.747207</td>\n",
              "      <td>32.0</td>\n",
              "      <td>secondary education</td>\n",
              "      <td>1</td>\n",
              "      <td>married</td>\n",
              "      <td>0</td>\n",
              "      <td>M</td>\n",
              "      <td>employee</td>\n",
              "      <td>0</td>\n",
              "      <td>42820.568</td>\n",
              "      <td>supplementary education</td>\n",
              "      <td>31-40</td>\n",
              "    </tr>\n",
              "    <tr>\n",
              "      <th>4</th>\n",
              "      <td>0.0</td>\n",
              "      <td>340266.072047</td>\n",
              "      <td>53.0</td>\n",
              "      <td>secondary education</td>\n",
              "      <td>1</td>\n",
              "      <td>civil partnership</td>\n",
              "      <td>1</td>\n",
              "      <td>F</td>\n",
              "      <td>retiree</td>\n",
              "      <td>0</td>\n",
              "      <td>25378.572</td>\n",
              "      <td>to have a wedding</td>\n",
              "      <td>51-60</td>\n",
              "    </tr>\n",
              "    <tr>\n",
              "      <th>...</th>\n",
              "      <td>...</td>\n",
              "      <td>...</td>\n",
              "      <td>...</td>\n",
              "      <td>...</td>\n",
              "      <td>...</td>\n",
              "      <td>...</td>\n",
              "      <td>...</td>\n",
              "      <td>...</td>\n",
              "      <td>...</td>\n",
              "      <td>...</td>\n",
              "      <td>...</td>\n",
              "      <td>...</td>\n",
              "      <td>...</td>\n",
              "    </tr>\n",
              "    <tr>\n",
              "      <th>21447</th>\n",
              "      <td>1.0</td>\n",
              "      <td>4529.316663</td>\n",
              "      <td>43.0</td>\n",
              "      <td>secondary education</td>\n",
              "      <td>1</td>\n",
              "      <td>civil partnership</td>\n",
              "      <td>1</td>\n",
              "      <td>F</td>\n",
              "      <td>business</td>\n",
              "      <td>0</td>\n",
              "      <td>35966.698</td>\n",
              "      <td>housing transactions</td>\n",
              "      <td>41-50</td>\n",
              "    </tr>\n",
              "    <tr>\n",
              "      <th>21448</th>\n",
              "      <td>0.0</td>\n",
              "      <td>343937.404131</td>\n",
              "      <td>67.0</td>\n",
              "      <td>secondary education</td>\n",
              "      <td>1</td>\n",
              "      <td>married</td>\n",
              "      <td>0</td>\n",
              "      <td>F</td>\n",
              "      <td>retiree</td>\n",
              "      <td>0</td>\n",
              "      <td>24959.969</td>\n",
              "      <td>purchase of a car</td>\n",
              "      <td>61-70</td>\n",
              "    </tr>\n",
              "    <tr>\n",
              "      <th>21449</th>\n",
              "      <td>1.0</td>\n",
              "      <td>2113.346888</td>\n",
              "      <td>38.0</td>\n",
              "      <td>secondary education</td>\n",
              "      <td>1</td>\n",
              "      <td>civil partnership</td>\n",
              "      <td>1</td>\n",
              "      <td>M</td>\n",
              "      <td>employee</td>\n",
              "      <td>1</td>\n",
              "      <td>14347.610</td>\n",
              "      <td>property</td>\n",
              "      <td>31-40</td>\n",
              "    </tr>\n",
              "    <tr>\n",
              "      <th>21450</th>\n",
              "      <td>3.0</td>\n",
              "      <td>3112.481705</td>\n",
              "      <td>38.0</td>\n",
              "      <td>secondary education</td>\n",
              "      <td>1</td>\n",
              "      <td>married</td>\n",
              "      <td>0</td>\n",
              "      <td>M</td>\n",
              "      <td>employee</td>\n",
              "      <td>1</td>\n",
              "      <td>39054.888</td>\n",
              "      <td>buying my own car</td>\n",
              "      <td>31-40</td>\n",
              "    </tr>\n",
              "    <tr>\n",
              "      <th>21451</th>\n",
              "      <td>2.0</td>\n",
              "      <td>1984.507589</td>\n",
              "      <td>40.0</td>\n",
              "      <td>secondary education</td>\n",
              "      <td>1</td>\n",
              "      <td>married</td>\n",
              "      <td>0</td>\n",
              "      <td>F</td>\n",
              "      <td>employee</td>\n",
              "      <td>0</td>\n",
              "      <td>13127.587</td>\n",
              "      <td>to buy a car</td>\n",
              "      <td>31-40</td>\n",
              "    </tr>\n",
              "  </tbody>\n",
              "</table>\n",
              "<p>21452 rows × 13 columns</p>\n",
              "</div>"
            ],
            "text/plain": [
              "       children  days_employed  dob_years            education  education_id  \\\n",
              "0           1.0    8437.673028       42.0    bachelor's degree             0   \n",
              "1           1.0    4024.803754       36.0  secondary education             1   \n",
              "2           0.0    5623.422610       33.0  secondary education             1   \n",
              "3           3.0    4124.747207       32.0  secondary education             1   \n",
              "4           0.0  340266.072047       53.0  secondary education             1   \n",
              "...         ...            ...        ...                  ...           ...   \n",
              "21447       1.0    4529.316663       43.0  secondary education             1   \n",
              "21448       0.0  343937.404131       67.0  secondary education             1   \n",
              "21449       1.0    2113.346888       38.0  secondary education             1   \n",
              "21450       3.0    3112.481705       38.0  secondary education             1   \n",
              "21451       2.0    1984.507589       40.0  secondary education             1   \n",
              "\n",
              "           family_status  family_status_id gender income_type  debt  \\\n",
              "0                married                 0      F    employee     0   \n",
              "1                married                 0      F    employee     0   \n",
              "2                married                 0      M    employee     0   \n",
              "3                married                 0      M    employee     0   \n",
              "4      civil partnership                 1      F     retiree     0   \n",
              "...                  ...               ...    ...         ...   ...   \n",
              "21447  civil partnership                 1      F    business     0   \n",
              "21448            married                 0      F     retiree     0   \n",
              "21449  civil partnership                 1      M    employee     1   \n",
              "21450            married                 0      M    employee     1   \n",
              "21451            married                 0      F    employee     0   \n",
              "\n",
              "       total_income                  purpose age_group  \n",
              "0         40620.102    purchase of the house     41-50  \n",
              "1         17932.802             car purchase     31-40  \n",
              "2         23341.752    purchase of the house     31-40  \n",
              "3         42820.568  supplementary education     31-40  \n",
              "4         25378.572        to have a wedding     51-60  \n",
              "...             ...                      ...       ...  \n",
              "21447     35966.698     housing transactions     41-50  \n",
              "21448     24959.969        purchase of a car     61-70  \n",
              "21449     14347.610                 property     31-40  \n",
              "21450     39054.888        buying my own car     31-40  \n",
              "21451     13127.587             to buy a car     31-40  \n",
              "\n",
              "[21452 rows x 13 columns]"
            ]
          },
          "execution_count": 81,
          "metadata": {},
          "output_type": "execute_result"
        }
      ],
      "source": [
        "\n",
        "df['age_group']=df['dob_years'].apply(age_group)\n",
        "df"
      ]
    },
    {
      "cell_type": "code",
      "execution_count": null,
      "metadata": {
        "id": "2RCS0cymsRTJ",
        "outputId": "3d34cc54-7ea8-459e-b1b1-21e61bff41f6"
      },
      "outputs": [
        {
          "data": {
            "text/html": [
              "<div>\n",
              "<style scoped>\n",
              "    .dataframe tbody tr th:only-of-type {\n",
              "        vertical-align: middle;\n",
              "    }\n",
              "\n",
              "    .dataframe tbody tr th {\n",
              "        vertical-align: top;\n",
              "    }\n",
              "\n",
              "    .dataframe thead th {\n",
              "        text-align: right;\n",
              "    }\n",
              "</style>\n",
              "<table border=\"1\" class=\"dataframe\">\n",
              "  <thead>\n",
              "    <tr style=\"text-align: right;\">\n",
              "      <th></th>\n",
              "      <th>children</th>\n",
              "      <th>days_employed</th>\n",
              "      <th>dob_years</th>\n",
              "      <th>education</th>\n",
              "      <th>education_id</th>\n",
              "      <th>family_status</th>\n",
              "      <th>family_status_id</th>\n",
              "      <th>gender</th>\n",
              "      <th>income_type</th>\n",
              "      <th>debt</th>\n",
              "      <th>total_income</th>\n",
              "      <th>purpose</th>\n",
              "      <th>age_group</th>\n",
              "    </tr>\n",
              "  </thead>\n",
              "  <tbody>\n",
              "    <tr>\n",
              "      <th>0</th>\n",
              "      <td>1.0</td>\n",
              "      <td>8437.673028</td>\n",
              "      <td>42.0</td>\n",
              "      <td>bachelor's degree</td>\n",
              "      <td>0</td>\n",
              "      <td>married</td>\n",
              "      <td>0</td>\n",
              "      <td>F</td>\n",
              "      <td>employee</td>\n",
              "      <td>0</td>\n",
              "      <td>40620.102</td>\n",
              "      <td>purchase of the house</td>\n",
              "      <td>41-50</td>\n",
              "    </tr>\n",
              "    <tr>\n",
              "      <th>1</th>\n",
              "      <td>1.0</td>\n",
              "      <td>4024.803754</td>\n",
              "      <td>36.0</td>\n",
              "      <td>secondary education</td>\n",
              "      <td>1</td>\n",
              "      <td>married</td>\n",
              "      <td>0</td>\n",
              "      <td>F</td>\n",
              "      <td>employee</td>\n",
              "      <td>0</td>\n",
              "      <td>17932.802</td>\n",
              "      <td>car purchase</td>\n",
              "      <td>31-40</td>\n",
              "    </tr>\n",
              "    <tr>\n",
              "      <th>2</th>\n",
              "      <td>0.0</td>\n",
              "      <td>5623.422610</td>\n",
              "      <td>33.0</td>\n",
              "      <td>secondary education</td>\n",
              "      <td>1</td>\n",
              "      <td>married</td>\n",
              "      <td>0</td>\n",
              "      <td>M</td>\n",
              "      <td>employee</td>\n",
              "      <td>0</td>\n",
              "      <td>23341.752</td>\n",
              "      <td>purchase of the house</td>\n",
              "      <td>31-40</td>\n",
              "    </tr>\n",
              "    <tr>\n",
              "      <th>3</th>\n",
              "      <td>3.0</td>\n",
              "      <td>4124.747207</td>\n",
              "      <td>32.0</td>\n",
              "      <td>secondary education</td>\n",
              "      <td>1</td>\n",
              "      <td>married</td>\n",
              "      <td>0</td>\n",
              "      <td>M</td>\n",
              "      <td>employee</td>\n",
              "      <td>0</td>\n",
              "      <td>42820.568</td>\n",
              "      <td>supplementary education</td>\n",
              "      <td>31-40</td>\n",
              "    </tr>\n",
              "    <tr>\n",
              "      <th>4</th>\n",
              "      <td>0.0</td>\n",
              "      <td>340266.072047</td>\n",
              "      <td>53.0</td>\n",
              "      <td>secondary education</td>\n",
              "      <td>1</td>\n",
              "      <td>civil partnership</td>\n",
              "      <td>1</td>\n",
              "      <td>F</td>\n",
              "      <td>retiree</td>\n",
              "      <td>0</td>\n",
              "      <td>25378.572</td>\n",
              "      <td>to have a wedding</td>\n",
              "      <td>51-60</td>\n",
              "    </tr>\n",
              "    <tr>\n",
              "      <th>5</th>\n",
              "      <td>0.0</td>\n",
              "      <td>926.185831</td>\n",
              "      <td>27.0</td>\n",
              "      <td>bachelor's degree</td>\n",
              "      <td>0</td>\n",
              "      <td>civil partnership</td>\n",
              "      <td>1</td>\n",
              "      <td>M</td>\n",
              "      <td>business</td>\n",
              "      <td>0</td>\n",
              "      <td>40922.170</td>\n",
              "      <td>purchase of the house</td>\n",
              "      <td>&lt;30</td>\n",
              "    </tr>\n",
              "    <tr>\n",
              "      <th>6</th>\n",
              "      <td>0.0</td>\n",
              "      <td>2879.202052</td>\n",
              "      <td>43.0</td>\n",
              "      <td>bachelor's degree</td>\n",
              "      <td>0</td>\n",
              "      <td>married</td>\n",
              "      <td>0</td>\n",
              "      <td>F</td>\n",
              "      <td>business</td>\n",
              "      <td>0</td>\n",
              "      <td>38484.156</td>\n",
              "      <td>housing transactions</td>\n",
              "      <td>41-50</td>\n",
              "    </tr>\n",
              "    <tr>\n",
              "      <th>7</th>\n",
              "      <td>0.0</td>\n",
              "      <td>152.779569</td>\n",
              "      <td>50.0</td>\n",
              "      <td>secondary education</td>\n",
              "      <td>1</td>\n",
              "      <td>married</td>\n",
              "      <td>0</td>\n",
              "      <td>M</td>\n",
              "      <td>employee</td>\n",
              "      <td>0</td>\n",
              "      <td>21731.829</td>\n",
              "      <td>education</td>\n",
              "      <td>41-50</td>\n",
              "    </tr>\n",
              "    <tr>\n",
              "      <th>8</th>\n",
              "      <td>2.0</td>\n",
              "      <td>6929.865299</td>\n",
              "      <td>35.0</td>\n",
              "      <td>bachelor's degree</td>\n",
              "      <td>0</td>\n",
              "      <td>civil partnership</td>\n",
              "      <td>1</td>\n",
              "      <td>F</td>\n",
              "      <td>employee</td>\n",
              "      <td>0</td>\n",
              "      <td>15337.093</td>\n",
              "      <td>having a wedding</td>\n",
              "      <td>31-40</td>\n",
              "    </tr>\n",
              "    <tr>\n",
              "      <th>9</th>\n",
              "      <td>0.0</td>\n",
              "      <td>2188.756445</td>\n",
              "      <td>41.0</td>\n",
              "      <td>secondary education</td>\n",
              "      <td>1</td>\n",
              "      <td>married</td>\n",
              "      <td>0</td>\n",
              "      <td>M</td>\n",
              "      <td>employee</td>\n",
              "      <td>0</td>\n",
              "      <td>23108.150</td>\n",
              "      <td>purchase of the house for my family</td>\n",
              "      <td>41-50</td>\n",
              "    </tr>\n",
              "    <tr>\n",
              "      <th>10</th>\n",
              "      <td>2.0</td>\n",
              "      <td>4171.483647</td>\n",
              "      <td>36.0</td>\n",
              "      <td>bachelor's degree</td>\n",
              "      <td>0</td>\n",
              "      <td>married</td>\n",
              "      <td>0</td>\n",
              "      <td>M</td>\n",
              "      <td>business</td>\n",
              "      <td>0</td>\n",
              "      <td>18230.959</td>\n",
              "      <td>buy real estate</td>\n",
              "      <td>31-40</td>\n",
              "    </tr>\n",
              "    <tr>\n",
              "      <th>11</th>\n",
              "      <td>0.0</td>\n",
              "      <td>792.701887</td>\n",
              "      <td>40.0</td>\n",
              "      <td>secondary education</td>\n",
              "      <td>1</td>\n",
              "      <td>married</td>\n",
              "      <td>0</td>\n",
              "      <td>F</td>\n",
              "      <td>employee</td>\n",
              "      <td>0</td>\n",
              "      <td>12331.077</td>\n",
              "      <td>buy commercial real estate</td>\n",
              "      <td>31-40</td>\n",
              "    </tr>\n",
              "    <tr>\n",
              "      <th>12</th>\n",
              "      <td>0.0</td>\n",
              "      <td>NaN</td>\n",
              "      <td>65.0</td>\n",
              "      <td>secondary education</td>\n",
              "      <td>1</td>\n",
              "      <td>civil partnership</td>\n",
              "      <td>1</td>\n",
              "      <td>M</td>\n",
              "      <td>retiree</td>\n",
              "      <td>0</td>\n",
              "      <td>NaN</td>\n",
              "      <td>to have a wedding</td>\n",
              "      <td>61-70</td>\n",
              "    </tr>\n",
              "    <tr>\n",
              "      <th>13</th>\n",
              "      <td>0.0</td>\n",
              "      <td>1846.641941</td>\n",
              "      <td>54.0</td>\n",
              "      <td>some college</td>\n",
              "      <td>2</td>\n",
              "      <td>married</td>\n",
              "      <td>0</td>\n",
              "      <td>F</td>\n",
              "      <td>employee</td>\n",
              "      <td>0</td>\n",
              "      <td>20873.317</td>\n",
              "      <td>car purchase</td>\n",
              "      <td>51-60</td>\n",
              "    </tr>\n",
              "    <tr>\n",
              "      <th>14</th>\n",
              "      <td>0.0</td>\n",
              "      <td>1844.956182</td>\n",
              "      <td>56.0</td>\n",
              "      <td>bachelor's degree</td>\n",
              "      <td>0</td>\n",
              "      <td>civil partnership</td>\n",
              "      <td>1</td>\n",
              "      <td>F</td>\n",
              "      <td>business</td>\n",
              "      <td>1</td>\n",
              "      <td>26420.466</td>\n",
              "      <td>buy residential real estate</td>\n",
              "      <td>51-60</td>\n",
              "    </tr>\n",
              "    <tr>\n",
              "      <th>15</th>\n",
              "      <td>1.0</td>\n",
              "      <td>972.364419</td>\n",
              "      <td>26.0</td>\n",
              "      <td>secondary education</td>\n",
              "      <td>1</td>\n",
              "      <td>married</td>\n",
              "      <td>0</td>\n",
              "      <td>F</td>\n",
              "      <td>employee</td>\n",
              "      <td>0</td>\n",
              "      <td>18691.345</td>\n",
              "      <td>construction of own property</td>\n",
              "      <td>&lt;30</td>\n",
              "    </tr>\n",
              "    <tr>\n",
              "      <th>16</th>\n",
              "      <td>0.0</td>\n",
              "      <td>1719.934226</td>\n",
              "      <td>35.0</td>\n",
              "      <td>secondary education</td>\n",
              "      <td>1</td>\n",
              "      <td>married</td>\n",
              "      <td>0</td>\n",
              "      <td>F</td>\n",
              "      <td>employee</td>\n",
              "      <td>0</td>\n",
              "      <td>46272.433</td>\n",
              "      <td>property</td>\n",
              "      <td>31-40</td>\n",
              "    </tr>\n",
              "    <tr>\n",
              "      <th>17</th>\n",
              "      <td>0.0</td>\n",
              "      <td>2369.999720</td>\n",
              "      <td>33.0</td>\n",
              "      <td>bachelor's degree</td>\n",
              "      <td>0</td>\n",
              "      <td>civil partnership</td>\n",
              "      <td>1</td>\n",
              "      <td>M</td>\n",
              "      <td>employee</td>\n",
              "      <td>0</td>\n",
              "      <td>14465.694</td>\n",
              "      <td>building a property</td>\n",
              "      <td>31-40</td>\n",
              "    </tr>\n",
              "    <tr>\n",
              "      <th>18</th>\n",
              "      <td>0.0</td>\n",
              "      <td>400281.136913</td>\n",
              "      <td>53.0</td>\n",
              "      <td>secondary education</td>\n",
              "      <td>1</td>\n",
              "      <td>widow / widower</td>\n",
              "      <td>2</td>\n",
              "      <td>F</td>\n",
              "      <td>retiree</td>\n",
              "      <td>0</td>\n",
              "      <td>9091.804</td>\n",
              "      <td>buying a second-hand car</td>\n",
              "      <td>51-60</td>\n",
              "    </tr>\n",
              "    <tr>\n",
              "      <th>19</th>\n",
              "      <td>0.0</td>\n",
              "      <td>10038.818549</td>\n",
              "      <td>48.0</td>\n",
              "      <td>secondary education</td>\n",
              "      <td>1</td>\n",
              "      <td>divorced</td>\n",
              "      <td>3</td>\n",
              "      <td>F</td>\n",
              "      <td>employee</td>\n",
              "      <td>0</td>\n",
              "      <td>38852.977</td>\n",
              "      <td>buying my own car</td>\n",
              "      <td>41-50</td>\n",
              "    </tr>\n",
              "  </tbody>\n",
              "</table>\n",
              "</div>"
            ],
            "text/plain": [
              "    children  days_employed  dob_years            education  education_id  \\\n",
              "0        1.0    8437.673028       42.0    bachelor's degree             0   \n",
              "1        1.0    4024.803754       36.0  secondary education             1   \n",
              "2        0.0    5623.422610       33.0  secondary education             1   \n",
              "3        3.0    4124.747207       32.0  secondary education             1   \n",
              "4        0.0  340266.072047       53.0  secondary education             1   \n",
              "5        0.0     926.185831       27.0    bachelor's degree             0   \n",
              "6        0.0    2879.202052       43.0    bachelor's degree             0   \n",
              "7        0.0     152.779569       50.0  secondary education             1   \n",
              "8        2.0    6929.865299       35.0    bachelor's degree             0   \n",
              "9        0.0    2188.756445       41.0  secondary education             1   \n",
              "10       2.0    4171.483647       36.0    bachelor's degree             0   \n",
              "11       0.0     792.701887       40.0  secondary education             1   \n",
              "12       0.0            NaN       65.0  secondary education             1   \n",
              "13       0.0    1846.641941       54.0         some college             2   \n",
              "14       0.0    1844.956182       56.0    bachelor's degree             0   \n",
              "15       1.0     972.364419       26.0  secondary education             1   \n",
              "16       0.0    1719.934226       35.0  secondary education             1   \n",
              "17       0.0    2369.999720       33.0    bachelor's degree             0   \n",
              "18       0.0  400281.136913       53.0  secondary education             1   \n",
              "19       0.0   10038.818549       48.0  secondary education             1   \n",
              "\n",
              "        family_status  family_status_id gender income_type  debt  \\\n",
              "0             married                 0      F    employee     0   \n",
              "1             married                 0      F    employee     0   \n",
              "2             married                 0      M    employee     0   \n",
              "3             married                 0      M    employee     0   \n",
              "4   civil partnership                 1      F     retiree     0   \n",
              "5   civil partnership                 1      M    business     0   \n",
              "6             married                 0      F    business     0   \n",
              "7             married                 0      M    employee     0   \n",
              "8   civil partnership                 1      F    employee     0   \n",
              "9             married                 0      M    employee     0   \n",
              "10            married                 0      M    business     0   \n",
              "11            married                 0      F    employee     0   \n",
              "12  civil partnership                 1      M     retiree     0   \n",
              "13            married                 0      F    employee     0   \n",
              "14  civil partnership                 1      F    business     1   \n",
              "15            married                 0      F    employee     0   \n",
              "16            married                 0      F    employee     0   \n",
              "17  civil partnership                 1      M    employee     0   \n",
              "18    widow / widower                 2      F     retiree     0   \n",
              "19           divorced                 3      F    employee     0   \n",
              "\n",
              "    total_income                              purpose age_group  \n",
              "0      40620.102                purchase of the house     41-50  \n",
              "1      17932.802                         car purchase     31-40  \n",
              "2      23341.752                purchase of the house     31-40  \n",
              "3      42820.568              supplementary education     31-40  \n",
              "4      25378.572                    to have a wedding     51-60  \n",
              "5      40922.170                purchase of the house       <30  \n",
              "6      38484.156                 housing transactions     41-50  \n",
              "7      21731.829                            education     41-50  \n",
              "8      15337.093                     having a wedding     31-40  \n",
              "9      23108.150  purchase of the house for my family     41-50  \n",
              "10     18230.959                      buy real estate     31-40  \n",
              "11     12331.077           buy commercial real estate     31-40  \n",
              "12           NaN                    to have a wedding     61-70  \n",
              "13     20873.317                         car purchase     51-60  \n",
              "14     26420.466          buy residential real estate     51-60  \n",
              "15     18691.345         construction of own property       <30  \n",
              "16     46272.433                             property     31-40  \n",
              "17     14465.694                  building a property     31-40  \n",
              "18      9091.804             buying a second-hand car     51-60  \n",
              "19     38852.977                    buying my own car     41-50  "
            ]
          },
          "execution_count": 83,
          "metadata": {},
          "output_type": "execute_result"
        }
      ],
      "source": [
        "\n",
        "df_clean = df[df.notna()]\n",
        "df_clean.head(20)"
      ]
    },
    {
      "cell_type": "code",
      "execution_count": null,
      "metadata": {
        "id": "3zjI_YnAsRTJ",
        "outputId": "cfab8c16-8fa6-4b02-e150-946d6af4ac52"
      },
      "outputs": [
        {
          "data": {
            "text/html": [
              "<div>\n",
              "<style scoped>\n",
              "    .dataframe tbody tr th:only-of-type {\n",
              "        vertical-align: middle;\n",
              "    }\n",
              "\n",
              "    .dataframe tbody tr th {\n",
              "        vertical-align: top;\n",
              "    }\n",
              "\n",
              "    .dataframe thead tr th {\n",
              "        text-align: left;\n",
              "    }\n",
              "\n",
              "    .dataframe thead tr:last-of-type th {\n",
              "        text-align: right;\n",
              "    }\n",
              "</style>\n",
              "<table border=\"1\" class=\"dataframe\">\n",
              "  <thead>\n",
              "    <tr>\n",
              "      <th>family_status</th>\n",
              "      <th colspan=\"6\" halign=\"left\">civil partnership</th>\n",
              "      <th colspan=\"4\" halign=\"left\">divorced</th>\n",
              "      <th>...</th>\n",
              "      <th>married</th>\n",
              "      <th colspan=\"5\" halign=\"left\">unmarried</th>\n",
              "      <th colspan=\"4\" halign=\"left\">widow / widower</th>\n",
              "    </tr>\n",
              "    <tr>\n",
              "      <th>income_type</th>\n",
              "      <th>business</th>\n",
              "      <th>civil servant</th>\n",
              "      <th>employee</th>\n",
              "      <th>entrepreneur</th>\n",
              "      <th>retiree</th>\n",
              "      <th>unemployed</th>\n",
              "      <th>business</th>\n",
              "      <th>civil servant</th>\n",
              "      <th>employee</th>\n",
              "      <th>retiree</th>\n",
              "      <th>...</th>\n",
              "      <th>unemployed</th>\n",
              "      <th>business</th>\n",
              "      <th>civil servant</th>\n",
              "      <th>employee</th>\n",
              "      <th>retiree</th>\n",
              "      <th>student</th>\n",
              "      <th>business</th>\n",
              "      <th>civil servant</th>\n",
              "      <th>employee</th>\n",
              "      <th>retiree</th>\n",
              "    </tr>\n",
              "    <tr>\n",
              "      <th>age_group</th>\n",
              "      <th></th>\n",
              "      <th></th>\n",
              "      <th></th>\n",
              "      <th></th>\n",
              "      <th></th>\n",
              "      <th></th>\n",
              "      <th></th>\n",
              "      <th></th>\n",
              "      <th></th>\n",
              "      <th></th>\n",
              "      <th></th>\n",
              "      <th></th>\n",
              "      <th></th>\n",
              "      <th></th>\n",
              "      <th></th>\n",
              "      <th></th>\n",
              "      <th></th>\n",
              "      <th></th>\n",
              "      <th></th>\n",
              "      <th></th>\n",
              "      <th></th>\n",
              "    </tr>\n",
              "  </thead>\n",
              "  <tbody>\n",
              "    <tr>\n",
              "      <th>31-40</th>\n",
              "      <td>32226.488634</td>\n",
              "      <td>27971.002465</td>\n",
              "      <td>26188.970341</td>\n",
              "      <td>NaN</td>\n",
              "      <td>17911.417273</td>\n",
              "      <td>NaN</td>\n",
              "      <td>35826.226443</td>\n",
              "      <td>28837.787048</td>\n",
              "      <td>26197.694901</td>\n",
              "      <td>19028.182000</td>\n",
              "      <td>...</td>\n",
              "      <td>9593.119</td>\n",
              "      <td>31837.347112</td>\n",
              "      <td>30505.072171</td>\n",
              "      <td>25237.303057</td>\n",
              "      <td>29331.419200</td>\n",
              "      <td>NaN</td>\n",
              "      <td>29943.028615</td>\n",
              "      <td>27335.301333</td>\n",
              "      <td>25827.418333</td>\n",
              "      <td>34632.356000</td>\n",
              "    </tr>\n",
              "    <tr>\n",
              "      <th>41-50</th>\n",
              "      <td>34674.779759</td>\n",
              "      <td>25880.232662</td>\n",
              "      <td>26348.367906</td>\n",
              "      <td>NaN</td>\n",
              "      <td>30144.495914</td>\n",
              "      <td>32435.602</td>\n",
              "      <td>29484.902216</td>\n",
              "      <td>30684.786345</td>\n",
              "      <td>27108.936197</td>\n",
              "      <td>25302.179222</td>\n",
              "      <td>...</td>\n",
              "      <td>NaN</td>\n",
              "      <td>34701.375513</td>\n",
              "      <td>30724.945242</td>\n",
              "      <td>26717.145691</td>\n",
              "      <td>26557.224632</td>\n",
              "      <td>NaN</td>\n",
              "      <td>27085.293556</td>\n",
              "      <td>26605.605083</td>\n",
              "      <td>23521.346857</td>\n",
              "      <td>21514.467300</td>\n",
              "    </tr>\n",
              "    <tr>\n",
              "      <th>51-60</th>\n",
              "      <td>29943.399358</td>\n",
              "      <td>27588.084179</td>\n",
              "      <td>25260.372509</td>\n",
              "      <td>NaN</td>\n",
              "      <td>21557.702697</td>\n",
              "      <td>NaN</td>\n",
              "      <td>36228.896422</td>\n",
              "      <td>22480.691000</td>\n",
              "      <td>24404.466161</td>\n",
              "      <td>21479.611913</td>\n",
              "      <td>...</td>\n",
              "      <td>NaN</td>\n",
              "      <td>32310.710853</td>\n",
              "      <td>25432.284000</td>\n",
              "      <td>27399.417723</td>\n",
              "      <td>23810.634551</td>\n",
              "      <td>NaN</td>\n",
              "      <td>27150.825333</td>\n",
              "      <td>22853.840421</td>\n",
              "      <td>23587.947322</td>\n",
              "      <td>20913.732735</td>\n",
              "    </tr>\n",
              "    <tr>\n",
              "      <th>61-70</th>\n",
              "      <td>25344.320333</td>\n",
              "      <td>18470.537143</td>\n",
              "      <td>25969.447000</td>\n",
              "      <td>NaN</td>\n",
              "      <td>22465.054700</td>\n",
              "      <td>NaN</td>\n",
              "      <td>53331.198625</td>\n",
              "      <td>33647.509333</td>\n",
              "      <td>27539.349944</td>\n",
              "      <td>22901.630785</td>\n",
              "      <td>...</td>\n",
              "      <td>NaN</td>\n",
              "      <td>32760.650187</td>\n",
              "      <td>35849.229500</td>\n",
              "      <td>37546.384842</td>\n",
              "      <td>20325.937656</td>\n",
              "      <td>NaN</td>\n",
              "      <td>33531.175500</td>\n",
              "      <td>30257.731667</td>\n",
              "      <td>25622.147108</td>\n",
              "      <td>21649.627017</td>\n",
              "    </tr>\n",
              "    <tr>\n",
              "      <th>70+</th>\n",
              "      <td>35580.018565</td>\n",
              "      <td>20298.131700</td>\n",
              "      <td>24875.619915</td>\n",
              "      <td>NaN</td>\n",
              "      <td>18497.191750</td>\n",
              "      <td>NaN</td>\n",
              "      <td>39187.578778</td>\n",
              "      <td>23823.804500</td>\n",
              "      <td>27081.081778</td>\n",
              "      <td>23331.503000</td>\n",
              "      <td>...</td>\n",
              "      <td>NaN</td>\n",
              "      <td>35137.774077</td>\n",
              "      <td>25056.889375</td>\n",
              "      <td>25765.274911</td>\n",
              "      <td>18989.549444</td>\n",
              "      <td>NaN</td>\n",
              "      <td>NaN</td>\n",
              "      <td>24525.224000</td>\n",
              "      <td>25674.349500</td>\n",
              "      <td>17795.521000</td>\n",
              "    </tr>\n",
              "    <tr>\n",
              "      <th>&lt;30</th>\n",
              "      <td>28728.988670</td>\n",
              "      <td>25854.964684</td>\n",
              "      <td>23844.296331</td>\n",
              "      <td>79866.103</td>\n",
              "      <td>12807.071000</td>\n",
              "      <td>NaN</td>\n",
              "      <td>32032.629348</td>\n",
              "      <td>22972.571143</td>\n",
              "      <td>23016.427966</td>\n",
              "      <td>12066.799000</td>\n",
              "      <td>...</td>\n",
              "      <td>NaN</td>\n",
              "      <td>28757.204337</td>\n",
              "      <td>25592.389711</td>\n",
              "      <td>23826.669745</td>\n",
              "      <td>11227.035000</td>\n",
              "      <td>15712.26</td>\n",
              "      <td>NaN</td>\n",
              "      <td>NaN</td>\n",
              "      <td>22915.450000</td>\n",
              "      <td>NaN</td>\n",
              "    </tr>\n",
              "  </tbody>\n",
              "</table>\n",
              "<p>6 rows × 25 columns</p>\n",
              "</div>"
            ],
            "text/plain": [
              "family_status civil partnership                                           \\\n",
              "income_type            business civil servant      employee entrepreneur   \n",
              "age_group                                                                  \n",
              "31-40              32226.488634  27971.002465  26188.970341          NaN   \n",
              "41-50              34674.779759  25880.232662  26348.367906          NaN   \n",
              "51-60              29943.399358  27588.084179  25260.372509          NaN   \n",
              "61-70              25344.320333  18470.537143  25969.447000          NaN   \n",
              "70+                35580.018565  20298.131700  24875.619915          NaN   \n",
              "<30                28728.988670  25854.964684  23844.296331    79866.103   \n",
              "\n",
              "family_status                               divorced                \\\n",
              "income_type         retiree unemployed      business civil servant   \n",
              "age_group                                                            \n",
              "31-40          17911.417273        NaN  35826.226443  28837.787048   \n",
              "41-50          30144.495914  32435.602  29484.902216  30684.786345   \n",
              "51-60          21557.702697        NaN  36228.896422  22480.691000   \n",
              "61-70          22465.054700        NaN  53331.198625  33647.509333   \n",
              "70+            18497.191750        NaN  39187.578778  23823.804500   \n",
              "<30            12807.071000        NaN  32032.629348  22972.571143   \n",
              "\n",
              "family_status                              ...    married     unmarried  \\\n",
              "income_type        employee       retiree  ... unemployed      business   \n",
              "age_group                                  ...                            \n",
              "31-40          26197.694901  19028.182000  ...   9593.119  31837.347112   \n",
              "41-50          27108.936197  25302.179222  ...        NaN  34701.375513   \n",
              "51-60          24404.466161  21479.611913  ...        NaN  32310.710853   \n",
              "61-70          27539.349944  22901.630785  ...        NaN  32760.650187   \n",
              "70+            27081.081778  23331.503000  ...        NaN  35137.774077   \n",
              "<30            23016.427966  12066.799000  ...        NaN  28757.204337   \n",
              "\n",
              "family_status                                                      \\\n",
              "income_type   civil servant      employee       retiree   student   \n",
              "age_group                                                           \n",
              "31-40          30505.072171  25237.303057  29331.419200       NaN   \n",
              "41-50          30724.945242  26717.145691  26557.224632       NaN   \n",
              "51-60          25432.284000  27399.417723  23810.634551       NaN   \n",
              "61-70          35849.229500  37546.384842  20325.937656       NaN   \n",
              "70+            25056.889375  25765.274911  18989.549444       NaN   \n",
              "<30            25592.389711  23826.669745  11227.035000  15712.26   \n",
              "\n",
              "family_status widow / widower                                            \n",
              "income_type          business civil servant      employee       retiree  \n",
              "age_group                                                                \n",
              "31-40            29943.028615  27335.301333  25827.418333  34632.356000  \n",
              "41-50            27085.293556  26605.605083  23521.346857  21514.467300  \n",
              "51-60            27150.825333  22853.840421  23587.947322  20913.732735  \n",
              "61-70            33531.175500  30257.731667  25622.147108  21649.627017  \n",
              "70+                       NaN  24525.224000  25674.349500  17795.521000  \n",
              "<30                       NaN           NaN  22915.450000           NaN  \n",
              "\n",
              "[6 rows x 25 columns]"
            ]
          },
          "execution_count": 84,
          "metadata": {},
          "output_type": "execute_result"
        }
      ],
      "source": [
        "\n",
        "total_income_mean=df.pivot_table(index='age_group', values='total_income', columns=['family_status','income_type'], aggfunc='mean')\n",
        "total_income_mean"
      ]
    },
    {
      "cell_type": "code",
      "execution_count": null,
      "metadata": {
        "scrolled": true,
        "id": "Ddno_dDOsRTJ",
        "outputId": "45bef318-c925-4522-8261-4763c33a8fa8"
      },
      "outputs": [
        {
          "data": {
            "text/html": [
              "<div>\n",
              "<style scoped>\n",
              "    .dataframe tbody tr th:only-of-type {\n",
              "        vertical-align: middle;\n",
              "    }\n",
              "\n",
              "    .dataframe tbody tr th {\n",
              "        vertical-align: top;\n",
              "    }\n",
              "\n",
              "    .dataframe thead th {\n",
              "        text-align: right;\n",
              "    }\n",
              "</style>\n",
              "<table border=\"1\" class=\"dataframe\">\n",
              "  <thead>\n",
              "    <tr style=\"text-align: right;\">\n",
              "      <th></th>\n",
              "      <th>total_income</th>\n",
              "    </tr>\n",
              "    <tr>\n",
              "      <th>age_group</th>\n",
              "      <th></th>\n",
              "    </tr>\n",
              "  </thead>\n",
              "  <tbody>\n",
              "    <tr>\n",
              "      <th>31-40</th>\n",
              "      <td>24825.1865</td>\n",
              "    </tr>\n",
              "    <tr>\n",
              "      <th>41-50</th>\n",
              "      <td>24563.6500</td>\n",
              "    </tr>\n",
              "    <tr>\n",
              "      <th>51-60</th>\n",
              "      <td>22056.7710</td>\n",
              "    </tr>\n",
              "    <tr>\n",
              "      <th>61-70</th>\n",
              "      <td>19705.8550</td>\n",
              "    </tr>\n",
              "    <tr>\n",
              "      <th>70+</th>\n",
              "      <td>23083.2645</td>\n",
              "    </tr>\n",
              "    <tr>\n",
              "      <th>&lt;30</th>\n",
              "      <td>22735.9110</td>\n",
              "    </tr>\n",
              "  </tbody>\n",
              "</table>\n",
              "</div>"
            ],
            "text/plain": [
              "           total_income\n",
              "age_group              \n",
              "31-40        24825.1865\n",
              "41-50        24563.6500\n",
              "51-60        22056.7710\n",
              "61-70        19705.8550\n",
              "70+          23083.2645\n",
              "<30          22735.9110"
            ]
          },
          "execution_count": 85,
          "metadata": {},
          "output_type": "execute_result"
        }
      ],
      "source": [
        "\n",
        "total_income_median=df.pivot_table(index='age_group', values='total_income', aggfunc='median')\n",
        "total_income_median"
      ]
    },
    {
      "cell_type": "code",
      "execution_count": null,
      "metadata": {
        "id": "LdPkdcJDsRTJ"
      },
      "outputs": [],
      "source": [
        "\n",
        "df['total_income'] = df.groupby(['age_group'])['total_income'].transform(lambda x: x.fillna(x.median()))\n",
        "        "
      ]
    },
    {
      "cell_type": "code",
      "execution_count": null,
      "metadata": {
        "id": "rSVSWaR8sRTJ",
        "outputId": "0ab910ca-c167-4621-e742-d12bb78ea03a"
      },
      "outputs": [
        {
          "data": {
            "text/plain": [
              "(0, 13)"
            ]
          },
          "execution_count": 87,
          "metadata": {},
          "output_type": "execute_result"
        }
      ],
      "source": [
        "\n",
        "df.loc[(df['total_income'].isna())].shape"
      ]
    },
    {
      "cell_type": "code",
      "execution_count": null,
      "metadata": {
        "id": "jAia9OyOsRTJ",
        "outputId": "fb4c1dd1-af0b-46a5-c0b5-40d21d3e20fd"
      },
      "outputs": [
        {
          "data": {
            "text/plain": [
              "children               0\n",
              "days_employed       2102\n",
              "dob_years              0\n",
              "education              0\n",
              "education_id           0\n",
              "family_status          0\n",
              "family_status_id       0\n",
              "gender                 0\n",
              "income_type            0\n",
              "debt                   0\n",
              "total_income           0\n",
              "purpose                0\n",
              "age_group              0\n",
              "dtype: int64"
            ]
          },
          "execution_count": 90,
          "metadata": {},
          "output_type": "execute_result"
        }
      ],
      "source": [
        "\n",
        "df.isna().sum()"
      ]
    },
    {
      "cell_type": "code",
      "execution_count": null,
      "metadata": {
        "id": "ZlJ-3UzmsRTJ",
        "outputId": "df4e29e3-b496-4663-d3a9-92d706105efe"
      },
      "outputs": [
        {
          "data": {
            "text/html": [
              "<div>\n",
              "<style scoped>\n",
              "    .dataframe tbody tr th:only-of-type {\n",
              "        vertical-align: middle;\n",
              "    }\n",
              "\n",
              "    .dataframe tbody tr th {\n",
              "        vertical-align: top;\n",
              "    }\n",
              "\n",
              "    .dataframe thead th {\n",
              "        text-align: right;\n",
              "    }\n",
              "</style>\n",
              "<table border=\"1\" class=\"dataframe\">\n",
              "  <thead>\n",
              "    <tr style=\"text-align: right;\">\n",
              "      <th></th>\n",
              "      <th>children</th>\n",
              "      <th>days_employed</th>\n",
              "      <th>dob_years</th>\n",
              "      <th>education_id</th>\n",
              "      <th>family_status_id</th>\n",
              "      <th>debt</th>\n",
              "      <th>total_income</th>\n",
              "    </tr>\n",
              "  </thead>\n",
              "  <tbody>\n",
              "    <tr>\n",
              "      <th>count</th>\n",
              "      <td>21452.000000</td>\n",
              "      <td>19350.000000</td>\n",
              "      <td>21452.000000</td>\n",
              "      <td>21452.000000</td>\n",
              "      <td>21452.000000</td>\n",
              "      <td>21452.000000</td>\n",
              "      <td>21452.000000</td>\n",
              "    </tr>\n",
              "    <tr>\n",
              "      <th>mean</th>\n",
              "      <td>0.471331</td>\n",
              "      <td>66918.065141</td>\n",
              "      <td>43.469933</td>\n",
              "      <td>0.817033</td>\n",
              "      <td>0.973895</td>\n",
              "      <td>0.081158</td>\n",
              "      <td>26446.496403</td>\n",
              "    </tr>\n",
              "    <tr>\n",
              "      <th>std</th>\n",
              "      <td>0.751093</td>\n",
              "      <td>139033.698578</td>\n",
              "      <td>12.213723</td>\n",
              "      <td>0.548639</td>\n",
              "      <td>1.421634</td>\n",
              "      <td>0.273084</td>\n",
              "      <td>15690.170869</td>\n",
              "    </tr>\n",
              "    <tr>\n",
              "      <th>min</th>\n",
              "      <td>0.000000</td>\n",
              "      <td>24.141633</td>\n",
              "      <td>19.000000</td>\n",
              "      <td>0.000000</td>\n",
              "      <td>0.000000</td>\n",
              "      <td>0.000000</td>\n",
              "      <td>3306.762000</td>\n",
              "    </tr>\n",
              "    <tr>\n",
              "      <th>25%</th>\n",
              "      <td>0.000000</td>\n",
              "      <td>926.990457</td>\n",
              "      <td>33.000000</td>\n",
              "      <td>1.000000</td>\n",
              "      <td>0.000000</td>\n",
              "      <td>0.000000</td>\n",
              "      <td>17217.441750</td>\n",
              "    </tr>\n",
              "    <tr>\n",
              "      <th>50%</th>\n",
              "      <td>0.000000</td>\n",
              "      <td>2194.218768</td>\n",
              "      <td>42.000000</td>\n",
              "      <td>1.000000</td>\n",
              "      <td>0.000000</td>\n",
              "      <td>0.000000</td>\n",
              "      <td>23234.038000</td>\n",
              "    </tr>\n",
              "    <tr>\n",
              "      <th>75%</th>\n",
              "      <td>1.000000</td>\n",
              "      <td>5538.423086</td>\n",
              "      <td>53.000000</td>\n",
              "      <td>1.000000</td>\n",
              "      <td>1.000000</td>\n",
              "      <td>0.000000</td>\n",
              "      <td>31328.693750</td>\n",
              "    </tr>\n",
              "    <tr>\n",
              "      <th>max</th>\n",
              "      <td>5.000000</td>\n",
              "      <td>401755.400475</td>\n",
              "      <td>75.000000</td>\n",
              "      <td>4.000000</td>\n",
              "      <td>4.000000</td>\n",
              "      <td>1.000000</td>\n",
              "      <td>362496.645000</td>\n",
              "    </tr>\n",
              "  </tbody>\n",
              "</table>\n",
              "</div>"
            ],
            "text/plain": [
              "           children  days_employed     dob_years  education_id  \\\n",
              "count  21452.000000   19350.000000  21452.000000  21452.000000   \n",
              "mean       0.471331   66918.065141     43.469933      0.817033   \n",
              "std        0.751093  139033.698578     12.213723      0.548639   \n",
              "min        0.000000      24.141633     19.000000      0.000000   \n",
              "25%        0.000000     926.990457     33.000000      1.000000   \n",
              "50%        0.000000    2194.218768     42.000000      1.000000   \n",
              "75%        1.000000    5538.423086     53.000000      1.000000   \n",
              "max        5.000000  401755.400475     75.000000      4.000000   \n",
              "\n",
              "       family_status_id          debt   total_income  \n",
              "count      21452.000000  21452.000000   21452.000000  \n",
              "mean           0.973895      0.081158   26446.496403  \n",
              "std            1.421634      0.273084   15690.170869  \n",
              "min            0.000000      0.000000    3306.762000  \n",
              "25%            0.000000      0.000000   17217.441750  \n",
              "50%            0.000000      0.000000   23234.038000  \n",
              "75%            1.000000      0.000000   31328.693750  \n",
              "max            4.000000      1.000000  362496.645000  "
            ]
          },
          "execution_count": 91,
          "metadata": {},
          "output_type": "execute_result"
        }
      ],
      "source": [
        "\n",
        "df.describe()\n"
      ]
    },
    {
      "cell_type": "code",
      "execution_count": null,
      "metadata": {
        "id": "ZaiJE54qsRTJ",
        "outputId": "edb265d5-fa2a-4507-9771-ce5807c70b2c"
      },
      "outputs": [
        {
          "name": "stdout",
          "output_type": "stream",
          "text": [
            "<class 'pandas.core.frame.DataFrame'>\n",
            "RangeIndex: 21452 entries, 0 to 21451\n",
            "Data columns (total 13 columns):\n",
            " #   Column            Non-Null Count  Dtype  \n",
            "---  ------            --------------  -----  \n",
            " 0   children          21452 non-null  float64\n",
            " 1   days_employed     19350 non-null  float64\n",
            " 2   dob_years         21452 non-null  float64\n",
            " 3   education         21452 non-null  object \n",
            " 4   education_id      21452 non-null  int64  \n",
            " 5   family_status     21452 non-null  object \n",
            " 6   family_status_id  21452 non-null  int64  \n",
            " 7   gender            21452 non-null  object \n",
            " 8   income_type       21452 non-null  object \n",
            " 9   debt              21452 non-null  int64  \n",
            " 10  total_income      21452 non-null  float64\n",
            " 11  purpose           21452 non-null  object \n",
            " 12  age_group         21452 non-null  object \n",
            "dtypes: float64(4), int64(3), object(6)\n",
            "memory usage: 2.1+ MB\n"
          ]
        }
      ],
      "source": [
        "df.info()"
      ]
    },
    {
      "cell_type": "code",
      "execution_count": null,
      "metadata": {
        "pycharm": {
          "name": "#%%\n"
        },
        "id": "6BdEijbAsRTK",
        "outputId": "9e23b2e6-5c85-4fee-b231-5ae3025cfb5a"
      },
      "outputs": [
        {
          "data": {
            "text/html": [
              "<div>\n",
              "<style scoped>\n",
              "    .dataframe tbody tr th:only-of-type {\n",
              "        vertical-align: middle;\n",
              "    }\n",
              "\n",
              "    .dataframe tbody tr th {\n",
              "        vertical-align: top;\n",
              "    }\n",
              "\n",
              "    .dataframe thead th {\n",
              "        text-align: right;\n",
              "    }\n",
              "</style>\n",
              "<table border=\"1\" class=\"dataframe\">\n",
              "  <thead>\n",
              "    <tr style=\"text-align: right;\">\n",
              "      <th></th>\n",
              "      <th>days_employed</th>\n",
              "    </tr>\n",
              "    <tr>\n",
              "      <th>age_group</th>\n",
              "      <th></th>\n",
              "    </tr>\n",
              "  </thead>\n",
              "  <tbody>\n",
              "    <tr>\n",
              "      <th>31-40</th>\n",
              "      <td>1630.193189</td>\n",
              "    </tr>\n",
              "    <tr>\n",
              "      <th>41-50</th>\n",
              "      <td>2199.733119</td>\n",
              "    </tr>\n",
              "    <tr>\n",
              "      <th>51-60</th>\n",
              "      <td>6481.039027</td>\n",
              "    </tr>\n",
              "    <tr>\n",
              "      <th>61-70</th>\n",
              "      <td>356081.013729</td>\n",
              "    </tr>\n",
              "    <tr>\n",
              "      <th>70+</th>\n",
              "      <td>1799.537390</td>\n",
              "    </tr>\n",
              "    <tr>\n",
              "      <th>&lt;30</th>\n",
              "      <td>998.961907</td>\n",
              "    </tr>\n",
              "  </tbody>\n",
              "</table>\n",
              "</div>"
            ],
            "text/plain": [
              "           days_employed\n",
              "age_group               \n",
              "31-40        1630.193189\n",
              "41-50        2199.733119\n",
              "51-60        6481.039027\n",
              "61-70      356081.013729\n",
              "70+          1799.537390\n",
              "<30           998.961907"
            ]
          },
          "execution_count": 93,
          "metadata": {},
          "output_type": "execute_result"
        }
      ],
      "source": [
        "\n",
        "days_employed_median=df.pivot_table(index='age_group', values='days_employed', aggfunc='median')\n",
        "days_employed_median"
      ]
    },
    {
      "cell_type": "code",
      "execution_count": null,
      "metadata": {
        "id": "gGn_bruUsRTK",
        "outputId": "986f97fc-5f50-46e9-ba08-c6a947168227"
      },
      "outputs": [
        {
          "data": {
            "text/html": [
              "<div>\n",
              "<style scoped>\n",
              "    .dataframe tbody tr th:only-of-type {\n",
              "        vertical-align: middle;\n",
              "    }\n",
              "\n",
              "    .dataframe tbody tr th {\n",
              "        vertical-align: top;\n",
              "    }\n",
              "\n",
              "    .dataframe thead th {\n",
              "        text-align: right;\n",
              "    }\n",
              "</style>\n",
              "<table border=\"1\" class=\"dataframe\">\n",
              "  <thead>\n",
              "    <tr style=\"text-align: right;\">\n",
              "      <th></th>\n",
              "      <th>days_employed</th>\n",
              "    </tr>\n",
              "    <tr>\n",
              "      <th>age_group</th>\n",
              "      <th></th>\n",
              "    </tr>\n",
              "  </thead>\n",
              "  <tbody>\n",
              "    <tr>\n",
              "      <th>31-40</th>\n",
              "      <td>4691.122800</td>\n",
              "    </tr>\n",
              "    <tr>\n",
              "      <th>41-50</th>\n",
              "      <td>17693.274606</td>\n",
              "    </tr>\n",
              "    <tr>\n",
              "      <th>51-60</th>\n",
              "      <td>153165.111212</td>\n",
              "    </tr>\n",
              "    <tr>\n",
              "      <th>61-70</th>\n",
              "      <td>288992.710281</td>\n",
              "    </tr>\n",
              "    <tr>\n",
              "      <th>70+</th>\n",
              "      <td>55910.432052</td>\n",
              "    </tr>\n",
              "    <tr>\n",
              "      <th>&lt;30</th>\n",
              "      <td>2082.398127</td>\n",
              "    </tr>\n",
              "  </tbody>\n",
              "</table>\n",
              "</div>"
            ],
            "text/plain": [
              "           days_employed\n",
              "age_group               \n",
              "31-40        4691.122800\n",
              "41-50       17693.274606\n",
              "51-60      153165.111212\n",
              "61-70      288992.710281\n",
              "70+         55910.432052\n",
              "<30          2082.398127"
            ]
          },
          "execution_count": 94,
          "metadata": {},
          "output_type": "execute_result"
        }
      ],
      "source": [
        "\n",
        "days_employed_mean=df.pivot_table(index='age_group', values='days_employed', aggfunc='mean')\n",
        "days_employed_mean"
      ]
    },
    {
      "cell_type": "markdown",
      "metadata": {
        "id": "-BkBVvKAsRTK"
      },
      "source": [
        "The median makes more sense because the distribution of the data (weighted scores) is not clearly known (it would be easier with a visual graph)."
      ]
    },
    {
      "cell_type": "code",
      "execution_count": null,
      "metadata": {
        "id": "TiJkPhIqsRTK"
      },
      "outputs": [],
      "source": [
        "\n",
        "df['days_employed'] = df.groupby(['age_group'])['days_employed'].transform(lambda x: x.fillna(x.median()))\n"
      ]
    },
    {
      "cell_type": "code",
      "execution_count": null,
      "metadata": {
        "id": "SCfq2vS0sRTK",
        "outputId": "bb61b4ab-3c9b-437f-fe52-9e7e43c38e99"
      },
      "outputs": [
        {
          "data": {
            "text/plain": [
              "count     21452.000000\n",
              "mean      63985.511143\n",
              "std      136316.866892\n",
              "min          24.141633\n",
              "25%         998.961907\n",
              "50%        2199.733119\n",
              "75%        5798.185967\n",
              "max      401755.400475\n",
              "Name: days_employed, dtype: float64"
            ]
          },
          "execution_count": 96,
          "metadata": {},
          "output_type": "execute_result"
        }
      ],
      "source": [
        "df['days_employed'].describe()"
      ]
    },
    {
      "cell_type": "code",
      "execution_count": null,
      "metadata": {
        "id": "cLTBC_FKsRTK",
        "outputId": "f1320733-fcde-4b7d-bc43-1a4b7217fbb2"
      },
      "outputs": [
        {
          "data": {
            "text/plain": [
              "0       8437.673028\n",
              "1       4024.803754\n",
              "2       5623.422610\n",
              "3       4124.747207\n",
              "4     340266.072047\n",
              "5        926.185831\n",
              "6       2879.202052\n",
              "7        152.779569\n",
              "8       6929.865299\n",
              "9       2188.756445\n",
              "10      4171.483647\n",
              "11       792.701887\n",
              "12    356081.013729\n",
              "13      1846.641941\n",
              "14      1844.956182\n",
              "15       972.364419\n",
              "16      1719.934226\n",
              "17      2369.999720\n",
              "18    400281.136913\n",
              "19     10038.818549\n",
              "20      1311.604166\n",
              "21       253.685166\n",
              "22      1766.644138\n",
              "23       272.981385\n",
              "24    338551.952911\n",
              "25    363548.489348\n",
              "26      2199.733119\n",
              "27       529.191635\n",
              "28       717.274324\n",
              "29    356081.013729\n",
              "30    335581.668515\n",
              "31      1682.083438\n",
              "32      4649.910832\n",
              "33      1548.637544\n",
              "34      4488.067031\n",
              "35    394021.072184\n",
              "36       176.216688\n",
              "37      6448.810860\n",
              "38       597.881827\n",
              "39       650.587796\n",
              "40      1030.362606\n",
              "41      2199.733119\n",
              "42      1257.496190\n",
              "43      4375.681384\n",
              "44      1362.041728\n",
              "45      1039.451741\n",
              "46      2262.712304\n",
              "47      2689.137274\n",
              "48      3341.067886\n",
              "49      1181.443228\n",
              "Name: days_employed, dtype: float64"
            ]
          },
          "execution_count": 97,
          "metadata": {},
          "output_type": "execute_result"
        }
      ],
      "source": [
        "# Periksa apakah fungsi Anda dapat bekerja\n",
        "df['days_employed'].head(50)\n"
      ]
    },
    {
      "cell_type": "code",
      "execution_count": null,
      "metadata": {
        "id": "dY_CqjjAsRTK",
        "outputId": "2136ff77-c4a7-4fcb-f1c8-c3b074f88102"
      },
      "outputs": [
        {
          "data": {
            "text/plain": [
              "children            0\n",
              "days_employed       0\n",
              "dob_years           0\n",
              "education           0\n",
              "education_id        0\n",
              "family_status       0\n",
              "family_status_id    0\n",
              "gender              0\n",
              "income_type         0\n",
              "debt                0\n",
              "total_income        0\n",
              "purpose             0\n",
              "age_group           0\n",
              "dtype: int64"
            ]
          },
          "execution_count": 99,
          "metadata": {},
          "output_type": "execute_result"
        }
      ],
      "source": [
        "\n",
        "df.isna().sum()"
      ]
    },
    {
      "cell_type": "code",
      "execution_count": null,
      "metadata": {
        "id": "uS07E_v2sRTK",
        "outputId": "a3818902-d4bb-449d-a80b-9b6de01b9e3b"
      },
      "outputs": [
        {
          "data": {
            "text/plain": [
              "children            0\n",
              "days_employed       0\n",
              "dob_years           0\n",
              "education           0\n",
              "education_id        0\n",
              "family_status       0\n",
              "family_status_id    0\n",
              "gender              0\n",
              "income_type         0\n",
              "debt                0\n",
              "total_income        0\n",
              "purpose             0\n",
              "age_group           0\n",
              "dtype: int64"
            ]
          },
          "execution_count": 101,
          "metadata": {},
          "output_type": "execute_result"
        }
      ],
      "source": [
        "\n",
        "df.isna().sum()"
      ]
    },
    {
      "cell_type": "code",
      "execution_count": null,
      "metadata": {
        "id": "KWZgKVVWsRTK",
        "outputId": "6776adaa-683a-405b-ac0e-50e3998c1c13"
      },
      "outputs": [
        {
          "name": "stdout",
          "output_type": "stream",
          "text": [
            "<class 'pandas.core.frame.DataFrame'>\n",
            "RangeIndex: 21452 entries, 0 to 21451\n",
            "Data columns (total 13 columns):\n",
            " #   Column            Non-Null Count  Dtype  \n",
            "---  ------            --------------  -----  \n",
            " 0   children          21452 non-null  float64\n",
            " 1   days_employed     21452 non-null  float64\n",
            " 2   dob_years         21452 non-null  float64\n",
            " 3   education         21452 non-null  object \n",
            " 4   education_id      21452 non-null  int64  \n",
            " 5   family_status     21452 non-null  object \n",
            " 6   family_status_id  21452 non-null  int64  \n",
            " 7   gender            21452 non-null  object \n",
            " 8   income_type       21452 non-null  object \n",
            " 9   debt              21452 non-null  int64  \n",
            " 10  total_income      21452 non-null  float64\n",
            " 11  purpose           21452 non-null  object \n",
            " 12  age_group         21452 non-null  object \n",
            "dtypes: float64(4), int64(3), object(6)\n",
            "memory usage: 2.1+ MB\n"
          ]
        }
      ],
      "source": [
        "df.info()"
      ]
    },
    {
      "cell_type": "code",
      "execution_count": null,
      "metadata": {
        "scrolled": true,
        "id": "gM1cYuYLsRTL",
        "outputId": "b84d3aa3-a7c8-4dff-c925-1d0ad9d0ddaf"
      },
      "outputs": [
        {
          "data": {
            "text/plain": [
              "wedding ceremony                            791\n",
              "having a wedding                            767\n",
              "to have a wedding                           765\n",
              "real estate transactions                    675\n",
              "buy commercial real estate                  661\n",
              "housing transactions                        652\n",
              "buying property for renting out             651\n",
              "transactions with commercial real estate    650\n",
              "housing                                     646\n",
              "purchase of the house                       646\n",
              "purchase of the house for my family         638\n",
              "construction of own property                635\n",
              "property                                    633\n",
              "transactions with my real estate            627\n",
              "building a real estate                      624\n",
              "purchase of my own house                    620\n",
              "buy real estate                             620\n",
              "building a property                         619\n",
              "housing renovation                          607\n",
              "buy residential real estate                 606\n",
              "buying my own car                           505\n",
              "going to university                         496\n",
              "car                                         494\n",
              "second-hand car purchase                    486\n",
              "buying a second-hand car                    478\n",
              "cars                                        478\n",
              "to own a car                                478\n",
              "to buy a car                                471\n",
              "car purchase                                461\n",
              "supplementary education                     460\n",
              "purchase of a car                           455\n",
              "university education                        452\n",
              "education                                   447\n",
              "to get a supplementary education            446\n",
              "getting an education                        442\n",
              "profile education                           436\n",
              "getting higher education                    426\n",
              "to become educated                          408\n",
              "Name: purpose, dtype: int64"
            ]
          },
          "execution_count": 103,
          "metadata": {},
          "output_type": "execute_result"
        }
      ],
      "source": [
        "\n",
        "df['purpose'].value_counts()\n"
      ]
    },
    {
      "cell_type": "code",
      "execution_count": null,
      "metadata": {
        "id": "BsMmQ3WNsRTL",
        "outputId": "e391494d-63a2-4c48-86d4-79ca62c5f2dc"
      },
      "outputs": [
        {
          "data": {
            "text/plain": [
              "array(['building a property', 'building a real estate',\n",
              "       'buy commercial real estate', 'buy real estate',\n",
              "       'buy residential real estate', 'buying a second-hand car',\n",
              "       'buying my own car', 'buying property for renting out', 'car',\n",
              "       'car purchase', 'cars', 'construction of own property',\n",
              "       'education', 'getting an education', 'getting higher education',\n",
              "       'going to university', 'having a wedding', 'housing',\n",
              "       'housing renovation', 'housing transactions', 'profile education',\n",
              "       'property', 'purchase of a car', 'purchase of my own house',\n",
              "       'purchase of the house', 'purchase of the house for my family',\n",
              "       'real estate transactions', 'second-hand car purchase',\n",
              "       'supplementary education', 'to become educated', 'to buy a car',\n",
              "       'to get a supplementary education', 'to have a wedding',\n",
              "       'to own a car', 'transactions with commercial real estate',\n",
              "       'transactions with my real estate', 'university education',\n",
              "       'wedding ceremony'], dtype=object)"
            ]
          },
          "execution_count": 104,
          "metadata": {},
          "output_type": "execute_result"
        }
      ],
      "source": [
        "\n",
        "df['purpose'].sort_values().unique()"
      ]
    },
    {
      "cell_type": "code",
      "execution_count": null,
      "metadata": {
        "id": "TNE5VUKKsRTL"
      },
      "outputs": [],
      "source": [
        "\n",
        "def purpose_common(purpose):\n",
        "    \n",
        "    if 'property' in purpose:\n",
        "        return 'property'\n",
        "    elif 'estate' in purpose:\n",
        "        return 'property'\n",
        "    elif 'hous' in purpose:\n",
        "        return 'property'\n",
        "    elif 'car' in purpose:\n",
        "        return 'car'\n",
        "    elif 'educ' in purpose:\n",
        "        return 'education'\n",
        "    elif 'univ' in purpose:\n",
        "        return 'education'\n",
        "    elif 'wedd' in purpose:\n",
        "        return 'wedding'"
      ]
    },
    {
      "cell_type": "code",
      "execution_count": null,
      "metadata": {
        "id": "bSW_7qWAsRTL",
        "outputId": "205c4808-3e78-481a-c17f-04f0b1a452b2"
      },
      "outputs": [
        {
          "name": "stdout",
          "output_type": "stream",
          "text": [
            "property     10810\n",
            "car           4306\n",
            "education     4013\n",
            "wedding       2323\n",
            "Name: general_purpose, dtype: int64\n",
            "\n"
          ]
        },
        {
          "data": {
            "text/plain": [
              "21452"
            ]
          },
          "execution_count": 106,
          "metadata": {},
          "output_type": "execute_result"
        }
      ],
      "source": [
        "\n",
        "df['general_purpose'] = df['purpose'].apply(purpose_common)\n",
        "print(df['general_purpose'].value_counts())\n",
        "print()\n",
        "df['general_purpose'].count()\n"
      ]
    },
    {
      "cell_type": "code",
      "execution_count": null,
      "metadata": {
        "id": "x7J20eu6sRTL",
        "outputId": "57d7ded5-f863-43a2-d0df-16ea243a0e3c"
      },
      "outputs": [
        {
          "data": {
            "text/html": [
              "<div>\n",
              "<style scoped>\n",
              "    .dataframe tbody tr th:only-of-type {\n",
              "        vertical-align: middle;\n",
              "    }\n",
              "\n",
              "    .dataframe tbody tr th {\n",
              "        vertical-align: top;\n",
              "    }\n",
              "\n",
              "    .dataframe thead th {\n",
              "        text-align: right;\n",
              "    }\n",
              "</style>\n",
              "<table border=\"1\" class=\"dataframe\">\n",
              "  <thead>\n",
              "    <tr style=\"text-align: right;\">\n",
              "      <th></th>\n",
              "      <th>children</th>\n",
              "      <th>days_employed</th>\n",
              "      <th>dob_years</th>\n",
              "      <th>education</th>\n",
              "      <th>education_id</th>\n",
              "      <th>family_status</th>\n",
              "      <th>family_status_id</th>\n",
              "      <th>gender</th>\n",
              "      <th>income_type</th>\n",
              "      <th>debt</th>\n",
              "      <th>total_income</th>\n",
              "      <th>purpose</th>\n",
              "      <th>age_group</th>\n",
              "      <th>general_purpose</th>\n",
              "    </tr>\n",
              "  </thead>\n",
              "  <tbody>\n",
              "    <tr>\n",
              "      <th>0</th>\n",
              "      <td>1.0</td>\n",
              "      <td>8437.673028</td>\n",
              "      <td>42.0</td>\n",
              "      <td>bachelor's degree</td>\n",
              "      <td>0</td>\n",
              "      <td>married</td>\n",
              "      <td>0</td>\n",
              "      <td>F</td>\n",
              "      <td>employee</td>\n",
              "      <td>0</td>\n",
              "      <td>40620.102</td>\n",
              "      <td>purchase of the house</td>\n",
              "      <td>41-50</td>\n",
              "      <td>property</td>\n",
              "    </tr>\n",
              "    <tr>\n",
              "      <th>1</th>\n",
              "      <td>1.0</td>\n",
              "      <td>4024.803754</td>\n",
              "      <td>36.0</td>\n",
              "      <td>secondary education</td>\n",
              "      <td>1</td>\n",
              "      <td>married</td>\n",
              "      <td>0</td>\n",
              "      <td>F</td>\n",
              "      <td>employee</td>\n",
              "      <td>0</td>\n",
              "      <td>17932.802</td>\n",
              "      <td>car purchase</td>\n",
              "      <td>31-40</td>\n",
              "      <td>car</td>\n",
              "    </tr>\n",
              "    <tr>\n",
              "      <th>2</th>\n",
              "      <td>0.0</td>\n",
              "      <td>5623.422610</td>\n",
              "      <td>33.0</td>\n",
              "      <td>secondary education</td>\n",
              "      <td>1</td>\n",
              "      <td>married</td>\n",
              "      <td>0</td>\n",
              "      <td>M</td>\n",
              "      <td>employee</td>\n",
              "      <td>0</td>\n",
              "      <td>23341.752</td>\n",
              "      <td>purchase of the house</td>\n",
              "      <td>31-40</td>\n",
              "      <td>property</td>\n",
              "    </tr>\n",
              "    <tr>\n",
              "      <th>3</th>\n",
              "      <td>3.0</td>\n",
              "      <td>4124.747207</td>\n",
              "      <td>32.0</td>\n",
              "      <td>secondary education</td>\n",
              "      <td>1</td>\n",
              "      <td>married</td>\n",
              "      <td>0</td>\n",
              "      <td>M</td>\n",
              "      <td>employee</td>\n",
              "      <td>0</td>\n",
              "      <td>42820.568</td>\n",
              "      <td>supplementary education</td>\n",
              "      <td>31-40</td>\n",
              "      <td>education</td>\n",
              "    </tr>\n",
              "    <tr>\n",
              "      <th>4</th>\n",
              "      <td>0.0</td>\n",
              "      <td>340266.072047</td>\n",
              "      <td>53.0</td>\n",
              "      <td>secondary education</td>\n",
              "      <td>1</td>\n",
              "      <td>civil partnership</td>\n",
              "      <td>1</td>\n",
              "      <td>F</td>\n",
              "      <td>retiree</td>\n",
              "      <td>0</td>\n",
              "      <td>25378.572</td>\n",
              "      <td>to have a wedding</td>\n",
              "      <td>51-60</td>\n",
              "      <td>wedding</td>\n",
              "    </tr>\n",
              "    <tr>\n",
              "      <th>...</th>\n",
              "      <td>...</td>\n",
              "      <td>...</td>\n",
              "      <td>...</td>\n",
              "      <td>...</td>\n",
              "      <td>...</td>\n",
              "      <td>...</td>\n",
              "      <td>...</td>\n",
              "      <td>...</td>\n",
              "      <td>...</td>\n",
              "      <td>...</td>\n",
              "      <td>...</td>\n",
              "      <td>...</td>\n",
              "      <td>...</td>\n",
              "      <td>...</td>\n",
              "    </tr>\n",
              "    <tr>\n",
              "      <th>21447</th>\n",
              "      <td>1.0</td>\n",
              "      <td>4529.316663</td>\n",
              "      <td>43.0</td>\n",
              "      <td>secondary education</td>\n",
              "      <td>1</td>\n",
              "      <td>civil partnership</td>\n",
              "      <td>1</td>\n",
              "      <td>F</td>\n",
              "      <td>business</td>\n",
              "      <td>0</td>\n",
              "      <td>35966.698</td>\n",
              "      <td>housing transactions</td>\n",
              "      <td>41-50</td>\n",
              "      <td>property</td>\n",
              "    </tr>\n",
              "    <tr>\n",
              "      <th>21448</th>\n",
              "      <td>0.0</td>\n",
              "      <td>343937.404131</td>\n",
              "      <td>67.0</td>\n",
              "      <td>secondary education</td>\n",
              "      <td>1</td>\n",
              "      <td>married</td>\n",
              "      <td>0</td>\n",
              "      <td>F</td>\n",
              "      <td>retiree</td>\n",
              "      <td>0</td>\n",
              "      <td>24959.969</td>\n",
              "      <td>purchase of a car</td>\n",
              "      <td>61-70</td>\n",
              "      <td>car</td>\n",
              "    </tr>\n",
              "    <tr>\n",
              "      <th>21449</th>\n",
              "      <td>1.0</td>\n",
              "      <td>2113.346888</td>\n",
              "      <td>38.0</td>\n",
              "      <td>secondary education</td>\n",
              "      <td>1</td>\n",
              "      <td>civil partnership</td>\n",
              "      <td>1</td>\n",
              "      <td>M</td>\n",
              "      <td>employee</td>\n",
              "      <td>1</td>\n",
              "      <td>14347.610</td>\n",
              "      <td>property</td>\n",
              "      <td>31-40</td>\n",
              "      <td>property</td>\n",
              "    </tr>\n",
              "    <tr>\n",
              "      <th>21450</th>\n",
              "      <td>3.0</td>\n",
              "      <td>3112.481705</td>\n",
              "      <td>38.0</td>\n",
              "      <td>secondary education</td>\n",
              "      <td>1</td>\n",
              "      <td>married</td>\n",
              "      <td>0</td>\n",
              "      <td>M</td>\n",
              "      <td>employee</td>\n",
              "      <td>1</td>\n",
              "      <td>39054.888</td>\n",
              "      <td>buying my own car</td>\n",
              "      <td>31-40</td>\n",
              "      <td>car</td>\n",
              "    </tr>\n",
              "    <tr>\n",
              "      <th>21451</th>\n",
              "      <td>2.0</td>\n",
              "      <td>1984.507589</td>\n",
              "      <td>40.0</td>\n",
              "      <td>secondary education</td>\n",
              "      <td>1</td>\n",
              "      <td>married</td>\n",
              "      <td>0</td>\n",
              "      <td>F</td>\n",
              "      <td>employee</td>\n",
              "      <td>0</td>\n",
              "      <td>13127.587</td>\n",
              "      <td>to buy a car</td>\n",
              "      <td>31-40</td>\n",
              "      <td>car</td>\n",
              "    </tr>\n",
              "  </tbody>\n",
              "</table>\n",
              "<p>21452 rows × 14 columns</p>\n",
              "</div>"
            ],
            "text/plain": [
              "       children  days_employed  dob_years            education  education_id  \\\n",
              "0           1.0    8437.673028       42.0    bachelor's degree             0   \n",
              "1           1.0    4024.803754       36.0  secondary education             1   \n",
              "2           0.0    5623.422610       33.0  secondary education             1   \n",
              "3           3.0    4124.747207       32.0  secondary education             1   \n",
              "4           0.0  340266.072047       53.0  secondary education             1   \n",
              "...         ...            ...        ...                  ...           ...   \n",
              "21447       1.0    4529.316663       43.0  secondary education             1   \n",
              "21448       0.0  343937.404131       67.0  secondary education             1   \n",
              "21449       1.0    2113.346888       38.0  secondary education             1   \n",
              "21450       3.0    3112.481705       38.0  secondary education             1   \n",
              "21451       2.0    1984.507589       40.0  secondary education             1   \n",
              "\n",
              "           family_status  family_status_id gender income_type  debt  \\\n",
              "0                married                 0      F    employee     0   \n",
              "1                married                 0      F    employee     0   \n",
              "2                married                 0      M    employee     0   \n",
              "3                married                 0      M    employee     0   \n",
              "4      civil partnership                 1      F     retiree     0   \n",
              "...                  ...               ...    ...         ...   ...   \n",
              "21447  civil partnership                 1      F    business     0   \n",
              "21448            married                 0      F     retiree     0   \n",
              "21449  civil partnership                 1      M    employee     1   \n",
              "21450            married                 0      M    employee     1   \n",
              "21451            married                 0      F    employee     0   \n",
              "\n",
              "       total_income                  purpose age_group general_purpose  \n",
              "0         40620.102    purchase of the house     41-50        property  \n",
              "1         17932.802             car purchase     31-40             car  \n",
              "2         23341.752    purchase of the house     31-40        property  \n",
              "3         42820.568  supplementary education     31-40       education  \n",
              "4         25378.572        to have a wedding     51-60         wedding  \n",
              "...             ...                      ...       ...             ...  \n",
              "21447     35966.698     housing transactions     41-50        property  \n",
              "21448     24959.969        purchase of a car     61-70             car  \n",
              "21449     14347.610                 property     31-40        property  \n",
              "21450     39054.888        buying my own car     31-40             car  \n",
              "21451     13127.587             to buy a car     31-40             car  \n",
              "\n",
              "[21452 rows x 14 columns]"
            ]
          },
          "execution_count": 110,
          "metadata": {},
          "output_type": "execute_result"
        }
      ],
      "source": [
        "\n",
        "df"
      ]
    },
    {
      "cell_type": "code",
      "execution_count": null,
      "metadata": {
        "id": "hB6dKmaCsRTL"
      },
      "outputs": [],
      "source": [
        "def income_class(total_income):\n",
        " \n",
        "    if total_income <= 32000:\n",
        "        return 'poor'\n",
        "    elif total_income <= 53000:\n",
        "        return 'lower middle class'\n",
        "    elif total_income <= 106000:\n",
        "        return 'middle class'\n",
        "    elif total_income <= 373000:\n",
        "        return 'upper middle class'\n",
        "    else:\n",
        "        return 'rich'"
      ]
    },
    {
      "cell_type": "markdown",
      "metadata": {
        "id": "745TNDRnsRTL"
      },
      "source": [
        "I categorized total_income into several category classes based on the economic level classification, namely poor, lower middle class, middle class, upper middle class and rich. This is intended to categorize the categories only so as to facilitate the decision-making process."
      ]
    },
    {
      "cell_type": "code",
      "execution_count": null,
      "metadata": {
        "id": "jw6W_6-8sRTM"
      },
      "outputs": [],
      "source": [
        "df['economic_class'] = df['total_income'].apply(income_class)"
      ]
    },
    {
      "cell_type": "code",
      "execution_count": null,
      "metadata": {
        "id": "sUIt6r8TsRTM",
        "outputId": "1759ad6c-68d7-40a5-edae-4a1ef122cd25"
      },
      "outputs": [
        {
          "data": {
            "text/plain": [
              "poor                  16387\n",
              "lower middle class     3985\n",
              "middle class           1000\n",
              "upper middle class       80\n",
              "Name: economic_class, dtype: int64"
            ]
          },
          "execution_count": 113,
          "metadata": {},
          "output_type": "execute_result"
        }
      ],
      "source": [
        "df['economic_class'].value_counts()\n",
        "\n"
      ]
    },
    {
      "cell_type": "code",
      "execution_count": null,
      "metadata": {
        "scrolled": true,
        "id": "LZEYF2j7sRTM",
        "outputId": "2f7f7713-d611-4715-da22-6bd770fb0cdb"
      },
      "outputs": [
        {
          "data": {
            "text/html": [
              "<div>\n",
              "<style scoped>\n",
              "    .dataframe tbody tr th:only-of-type {\n",
              "        vertical-align: middle;\n",
              "    }\n",
              "\n",
              "    .dataframe tbody tr th {\n",
              "        vertical-align: top;\n",
              "    }\n",
              "\n",
              "    .dataframe thead th {\n",
              "        text-align: right;\n",
              "    }\n",
              "</style>\n",
              "<table border=\"1\" class=\"dataframe\">\n",
              "  <thead>\n",
              "    <tr style=\"text-align: right;\">\n",
              "      <th></th>\n",
              "      <th>children</th>\n",
              "      <th>days_employed</th>\n",
              "      <th>dob_years</th>\n",
              "      <th>education</th>\n",
              "      <th>education_id</th>\n",
              "      <th>family_status</th>\n",
              "      <th>family_status_id</th>\n",
              "      <th>gender</th>\n",
              "      <th>income_type</th>\n",
              "      <th>debt</th>\n",
              "      <th>total_income</th>\n",
              "      <th>purpose</th>\n",
              "      <th>age_group</th>\n",
              "      <th>general_purpose</th>\n",
              "      <th>economic_class</th>\n",
              "    </tr>\n",
              "  </thead>\n",
              "  <tbody>\n",
              "    <tr>\n",
              "      <th>0</th>\n",
              "      <td>1.0</td>\n",
              "      <td>8437.673028</td>\n",
              "      <td>42.0</td>\n",
              "      <td>bachelor's degree</td>\n",
              "      <td>0</td>\n",
              "      <td>married</td>\n",
              "      <td>0</td>\n",
              "      <td>F</td>\n",
              "      <td>employee</td>\n",
              "      <td>0</td>\n",
              "      <td>40620.102</td>\n",
              "      <td>purchase of the house</td>\n",
              "      <td>41-50</td>\n",
              "      <td>property</td>\n",
              "      <td>lower middle class</td>\n",
              "    </tr>\n",
              "    <tr>\n",
              "      <th>1</th>\n",
              "      <td>1.0</td>\n",
              "      <td>4024.803754</td>\n",
              "      <td>36.0</td>\n",
              "      <td>secondary education</td>\n",
              "      <td>1</td>\n",
              "      <td>married</td>\n",
              "      <td>0</td>\n",
              "      <td>F</td>\n",
              "      <td>employee</td>\n",
              "      <td>0</td>\n",
              "      <td>17932.802</td>\n",
              "      <td>car purchase</td>\n",
              "      <td>31-40</td>\n",
              "      <td>car</td>\n",
              "      <td>poor</td>\n",
              "    </tr>\n",
              "    <tr>\n",
              "      <th>2</th>\n",
              "      <td>0.0</td>\n",
              "      <td>5623.422610</td>\n",
              "      <td>33.0</td>\n",
              "      <td>secondary education</td>\n",
              "      <td>1</td>\n",
              "      <td>married</td>\n",
              "      <td>0</td>\n",
              "      <td>M</td>\n",
              "      <td>employee</td>\n",
              "      <td>0</td>\n",
              "      <td>23341.752</td>\n",
              "      <td>purchase of the house</td>\n",
              "      <td>31-40</td>\n",
              "      <td>property</td>\n",
              "      <td>poor</td>\n",
              "    </tr>\n",
              "    <tr>\n",
              "      <th>3</th>\n",
              "      <td>3.0</td>\n",
              "      <td>4124.747207</td>\n",
              "      <td>32.0</td>\n",
              "      <td>secondary education</td>\n",
              "      <td>1</td>\n",
              "      <td>married</td>\n",
              "      <td>0</td>\n",
              "      <td>M</td>\n",
              "      <td>employee</td>\n",
              "      <td>0</td>\n",
              "      <td>42820.568</td>\n",
              "      <td>supplementary education</td>\n",
              "      <td>31-40</td>\n",
              "      <td>education</td>\n",
              "      <td>lower middle class</td>\n",
              "    </tr>\n",
              "    <tr>\n",
              "      <th>4</th>\n",
              "      <td>0.0</td>\n",
              "      <td>340266.072047</td>\n",
              "      <td>53.0</td>\n",
              "      <td>secondary education</td>\n",
              "      <td>1</td>\n",
              "      <td>civil partnership</td>\n",
              "      <td>1</td>\n",
              "      <td>F</td>\n",
              "      <td>retiree</td>\n",
              "      <td>0</td>\n",
              "      <td>25378.572</td>\n",
              "      <td>to have a wedding</td>\n",
              "      <td>51-60</td>\n",
              "      <td>wedding</td>\n",
              "      <td>poor</td>\n",
              "    </tr>\n",
              "    <tr>\n",
              "      <th>...</th>\n",
              "      <td>...</td>\n",
              "      <td>...</td>\n",
              "      <td>...</td>\n",
              "      <td>...</td>\n",
              "      <td>...</td>\n",
              "      <td>...</td>\n",
              "      <td>...</td>\n",
              "      <td>...</td>\n",
              "      <td>...</td>\n",
              "      <td>...</td>\n",
              "      <td>...</td>\n",
              "      <td>...</td>\n",
              "      <td>...</td>\n",
              "      <td>...</td>\n",
              "      <td>...</td>\n",
              "    </tr>\n",
              "    <tr>\n",
              "      <th>21447</th>\n",
              "      <td>1.0</td>\n",
              "      <td>4529.316663</td>\n",
              "      <td>43.0</td>\n",
              "      <td>secondary education</td>\n",
              "      <td>1</td>\n",
              "      <td>civil partnership</td>\n",
              "      <td>1</td>\n",
              "      <td>F</td>\n",
              "      <td>business</td>\n",
              "      <td>0</td>\n",
              "      <td>35966.698</td>\n",
              "      <td>housing transactions</td>\n",
              "      <td>41-50</td>\n",
              "      <td>property</td>\n",
              "      <td>lower middle class</td>\n",
              "    </tr>\n",
              "    <tr>\n",
              "      <th>21448</th>\n",
              "      <td>0.0</td>\n",
              "      <td>343937.404131</td>\n",
              "      <td>67.0</td>\n",
              "      <td>secondary education</td>\n",
              "      <td>1</td>\n",
              "      <td>married</td>\n",
              "      <td>0</td>\n",
              "      <td>F</td>\n",
              "      <td>retiree</td>\n",
              "      <td>0</td>\n",
              "      <td>24959.969</td>\n",
              "      <td>purchase of a car</td>\n",
              "      <td>61-70</td>\n",
              "      <td>car</td>\n",
              "      <td>poor</td>\n",
              "    </tr>\n",
              "    <tr>\n",
              "      <th>21449</th>\n",
              "      <td>1.0</td>\n",
              "      <td>2113.346888</td>\n",
              "      <td>38.0</td>\n",
              "      <td>secondary education</td>\n",
              "      <td>1</td>\n",
              "      <td>civil partnership</td>\n",
              "      <td>1</td>\n",
              "      <td>M</td>\n",
              "      <td>employee</td>\n",
              "      <td>1</td>\n",
              "      <td>14347.610</td>\n",
              "      <td>property</td>\n",
              "      <td>31-40</td>\n",
              "      <td>property</td>\n",
              "      <td>poor</td>\n",
              "    </tr>\n",
              "    <tr>\n",
              "      <th>21450</th>\n",
              "      <td>3.0</td>\n",
              "      <td>3112.481705</td>\n",
              "      <td>38.0</td>\n",
              "      <td>secondary education</td>\n",
              "      <td>1</td>\n",
              "      <td>married</td>\n",
              "      <td>0</td>\n",
              "      <td>M</td>\n",
              "      <td>employee</td>\n",
              "      <td>1</td>\n",
              "      <td>39054.888</td>\n",
              "      <td>buying my own car</td>\n",
              "      <td>31-40</td>\n",
              "      <td>car</td>\n",
              "      <td>lower middle class</td>\n",
              "    </tr>\n",
              "    <tr>\n",
              "      <th>21451</th>\n",
              "      <td>2.0</td>\n",
              "      <td>1984.507589</td>\n",
              "      <td>40.0</td>\n",
              "      <td>secondary education</td>\n",
              "      <td>1</td>\n",
              "      <td>married</td>\n",
              "      <td>0</td>\n",
              "      <td>F</td>\n",
              "      <td>employee</td>\n",
              "      <td>0</td>\n",
              "      <td>13127.587</td>\n",
              "      <td>to buy a car</td>\n",
              "      <td>31-40</td>\n",
              "      <td>car</td>\n",
              "      <td>poor</td>\n",
              "    </tr>\n",
              "  </tbody>\n",
              "</table>\n",
              "<p>21452 rows × 15 columns</p>\n",
              "</div>"
            ],
            "text/plain": [
              "       children  days_employed  dob_years            education  education_id  \\\n",
              "0           1.0    8437.673028       42.0    bachelor's degree             0   \n",
              "1           1.0    4024.803754       36.0  secondary education             1   \n",
              "2           0.0    5623.422610       33.0  secondary education             1   \n",
              "3           3.0    4124.747207       32.0  secondary education             1   \n",
              "4           0.0  340266.072047       53.0  secondary education             1   \n",
              "...         ...            ...        ...                  ...           ...   \n",
              "21447       1.0    4529.316663       43.0  secondary education             1   \n",
              "21448       0.0  343937.404131       67.0  secondary education             1   \n",
              "21449       1.0    2113.346888       38.0  secondary education             1   \n",
              "21450       3.0    3112.481705       38.0  secondary education             1   \n",
              "21451       2.0    1984.507589       40.0  secondary education             1   \n",
              "\n",
              "           family_status  family_status_id gender income_type  debt  \\\n",
              "0                married                 0      F    employee     0   \n",
              "1                married                 0      F    employee     0   \n",
              "2                married                 0      M    employee     0   \n",
              "3                married                 0      M    employee     0   \n",
              "4      civil partnership                 1      F     retiree     0   \n",
              "...                  ...               ...    ...         ...   ...   \n",
              "21447  civil partnership                 1      F    business     0   \n",
              "21448            married                 0      F     retiree     0   \n",
              "21449  civil partnership                 1      M    employee     1   \n",
              "21450            married                 0      M    employee     1   \n",
              "21451            married                 0      F    employee     0   \n",
              "\n",
              "       total_income                  purpose age_group general_purpose  \\\n",
              "0         40620.102    purchase of the house     41-50        property   \n",
              "1         17932.802             car purchase     31-40             car   \n",
              "2         23341.752    purchase of the house     31-40        property   \n",
              "3         42820.568  supplementary education     31-40       education   \n",
              "4         25378.572        to have a wedding     51-60         wedding   \n",
              "...             ...                      ...       ...             ...   \n",
              "21447     35966.698     housing transactions     41-50        property   \n",
              "21448     24959.969        purchase of a car     61-70             car   \n",
              "21449     14347.610                 property     31-40        property   \n",
              "21450     39054.888        buying my own car     31-40             car   \n",
              "21451     13127.587             to buy a car     31-40             car   \n",
              "\n",
              "           economic_class  \n",
              "0      lower middle class  \n",
              "1                    poor  \n",
              "2                    poor  \n",
              "3      lower middle class  \n",
              "4                    poor  \n",
              "...                   ...  \n",
              "21447  lower middle class  \n",
              "21448                poor  \n",
              "21449                poor  \n",
              "21450  lower middle class  \n",
              "21451                poor  \n",
              "\n",
              "[21452 rows x 15 columns]"
            ]
          },
          "execution_count": 114,
          "metadata": {},
          "output_type": "execute_result"
        }
      ],
      "source": [
        "\n",
        "df"
      ]
    },
    {
      "cell_type": "code",
      "execution_count": null,
      "metadata": {
        "id": "nlyJBdL6sRTM",
        "outputId": "5f44db87-ba59-444d-e312-4629cc307945"
      },
      "outputs": [
        {
          "data": {
            "text/html": [
              "<div>\n",
              "<style scoped>\n",
              "    .dataframe tbody tr th:only-of-type {\n",
              "        vertical-align: middle;\n",
              "    }\n",
              "\n",
              "    .dataframe tbody tr th {\n",
              "        vertical-align: top;\n",
              "    }\n",
              "\n",
              "    .dataframe thead th {\n",
              "        text-align: right;\n",
              "    }\n",
              "</style>\n",
              "<table border=\"1\" class=\"dataframe\">\n",
              "  <thead>\n",
              "    <tr style=\"text-align: right;\">\n",
              "      <th>debt</th>\n",
              "      <th>0</th>\n",
              "      <th>1</th>\n",
              "    </tr>\n",
              "    <tr>\n",
              "      <th>children</th>\n",
              "      <th></th>\n",
              "      <th></th>\n",
              "    </tr>\n",
              "  </thead>\n",
              "  <tbody>\n",
              "    <tr>\n",
              "      <th>0.0</th>\n",
              "      <td>13140.0</td>\n",
              "      <td>1072.0</td>\n",
              "    </tr>\n",
              "    <tr>\n",
              "      <th>1.0</th>\n",
              "      <td>4364.0</td>\n",
              "      <td>444.0</td>\n",
              "    </tr>\n",
              "    <tr>\n",
              "      <th>2.0</th>\n",
              "      <td>1858.0</td>\n",
              "      <td>194.0</td>\n",
              "    </tr>\n",
              "    <tr>\n",
              "      <th>3.0</th>\n",
              "      <td>303.0</td>\n",
              "      <td>27.0</td>\n",
              "    </tr>\n",
              "    <tr>\n",
              "      <th>4.0</th>\n",
              "      <td>37.0</td>\n",
              "      <td>4.0</td>\n",
              "    </tr>\n",
              "    <tr>\n",
              "      <th>5.0</th>\n",
              "      <td>9.0</td>\n",
              "      <td>NaN</td>\n",
              "    </tr>\n",
              "  </tbody>\n",
              "</table>\n",
              "</div>"
            ],
            "text/plain": [
              "debt            0       1\n",
              "children                 \n",
              "0.0       13140.0  1072.0\n",
              "1.0        4364.0   444.0\n",
              "2.0        1858.0   194.0\n",
              "3.0         303.0    27.0\n",
              "4.0          37.0     4.0\n",
              "5.0           9.0     NaN"
            ]
          },
          "execution_count": 115,
          "metadata": {},
          "output_type": "execute_result"
        }
      ],
      "source": [
        "\n",
        "pivot_table_children = df.pivot_table(index='children', columns= 'debt', values='days_employed', aggfunc='count')\n",
        "pivot_table_children"
      ]
    },
    {
      "cell_type": "code",
      "execution_count": null,
      "metadata": {
        "id": "rKkmCHpmsRTM",
        "outputId": "83daa339-08c4-43d0-8e2b-e1a2de58d029"
      },
      "outputs": [
        {
          "data": {
            "text/plain": [
              "0    19711\n",
              "1     1741\n",
              "Name: debt, dtype: int64"
            ]
          },
          "execution_count": 116,
          "metadata": {},
          "output_type": "execute_result"
        }
      ],
      "source": [
        "df['debt'].value_counts()"
      ]
    },
    {
      "cell_type": "code",
      "execution_count": null,
      "metadata": {
        "id": "rgzyAloLsRTM",
        "outputId": "78295f6b-c2ad-4a98-f064-74d28a4c0191"
      },
      "outputs": [
        {
          "data": {
            "text/html": [
              "<div>\n",
              "<style scoped>\n",
              "    .dataframe tbody tr th:only-of-type {\n",
              "        vertical-align: middle;\n",
              "    }\n",
              "\n",
              "    .dataframe tbody tr th {\n",
              "        vertical-align: top;\n",
              "    }\n",
              "\n",
              "    .dataframe thead th {\n",
              "        text-align: right;\n",
              "    }\n",
              "</style>\n",
              "<table border=\"1\" class=\"dataframe\">\n",
              "  <thead>\n",
              "    <tr style=\"text-align: right;\">\n",
              "      <th>debt</th>\n",
              "      <th>0</th>\n",
              "      <th>1</th>\n",
              "      <th>percentage</th>\n",
              "    </tr>\n",
              "    <tr>\n",
              "      <th>children</th>\n",
              "      <th></th>\n",
              "      <th></th>\n",
              "      <th></th>\n",
              "    </tr>\n",
              "  </thead>\n",
              "  <tbody>\n",
              "    <tr>\n",
              "      <th>0.0</th>\n",
              "      <td>13140.0</td>\n",
              "      <td>1072.0</td>\n",
              "      <td>7.542921</td>\n",
              "    </tr>\n",
              "    <tr>\n",
              "      <th>1.0</th>\n",
              "      <td>4364.0</td>\n",
              "      <td>444.0</td>\n",
              "      <td>9.234609</td>\n",
              "    </tr>\n",
              "    <tr>\n",
              "      <th>2.0</th>\n",
              "      <td>1858.0</td>\n",
              "      <td>194.0</td>\n",
              "      <td>9.454191</td>\n",
              "    </tr>\n",
              "    <tr>\n",
              "      <th>3.0</th>\n",
              "      <td>303.0</td>\n",
              "      <td>27.0</td>\n",
              "      <td>8.181818</td>\n",
              "    </tr>\n",
              "    <tr>\n",
              "      <th>4.0</th>\n",
              "      <td>37.0</td>\n",
              "      <td>4.0</td>\n",
              "      <td>9.756098</td>\n",
              "    </tr>\n",
              "    <tr>\n",
              "      <th>5.0</th>\n",
              "      <td>9.0</td>\n",
              "      <td>NaN</td>\n",
              "      <td>NaN</td>\n",
              "    </tr>\n",
              "  </tbody>\n",
              "</table>\n",
              "</div>"
            ],
            "text/plain": [
              "debt            0       1  percentage\n",
              "children                             \n",
              "0.0       13140.0  1072.0    7.542921\n",
              "1.0        4364.0   444.0    9.234609\n",
              "2.0        1858.0   194.0    9.454191\n",
              "3.0         303.0    27.0    8.181818\n",
              "4.0          37.0     4.0    9.756098\n",
              "5.0           9.0     NaN         NaN"
            ]
          },
          "execution_count": 117,
          "metadata": {},
          "output_type": "execute_result"
        }
      ],
      "source": [
        "pivot_table_children['percentage'] = pivot_table_children[1] / (pivot_table_children[1] + pivot_table_children[0]) * 100\n",
        "pivot_table_children"
      ]
    },
    {
      "cell_type": "markdown",
      "metadata": {
        "id": "U0V-t1-WsRTM"
      },
      "source": [
        "\n",
        "1.prospective debtors who do not have children, will have a 'only' 7.5% chance of defaulting / being burdened with debt\n",
        "2.prospective debtors who have 1 to 4 children will have a chance of defaulting 8-9.7% "
      ]
    },
    {
      "cell_type": "code",
      "execution_count": null,
      "metadata": {
        "id": "Fphtm4iysRTM",
        "outputId": "733aec8f-13a8-4428-b271-0f9d73eb4160"
      },
      "outputs": [
        {
          "data": {
            "text/html": [
              "<div>\n",
              "<style scoped>\n",
              "    .dataframe tbody tr th:only-of-type {\n",
              "        vertical-align: middle;\n",
              "    }\n",
              "\n",
              "    .dataframe tbody tr th {\n",
              "        vertical-align: top;\n",
              "    }\n",
              "\n",
              "    .dataframe thead th {\n",
              "        text-align: right;\n",
              "    }\n",
              "</style>\n",
              "<table border=\"1\" class=\"dataframe\">\n",
              "  <thead>\n",
              "    <tr style=\"text-align: right;\">\n",
              "      <th>debt</th>\n",
              "      <th>0</th>\n",
              "      <th>1</th>\n",
              "    </tr>\n",
              "    <tr>\n",
              "      <th>family_status</th>\n",
              "      <th></th>\n",
              "      <th></th>\n",
              "    </tr>\n",
              "  </thead>\n",
              "  <tbody>\n",
              "    <tr>\n",
              "      <th>civil partnership</th>\n",
              "      <td>3761</td>\n",
              "      <td>388</td>\n",
              "    </tr>\n",
              "    <tr>\n",
              "      <th>divorced</th>\n",
              "      <td>1110</td>\n",
              "      <td>85</td>\n",
              "    </tr>\n",
              "    <tr>\n",
              "      <th>married</th>\n",
              "      <td>11408</td>\n",
              "      <td>931</td>\n",
              "    </tr>\n",
              "    <tr>\n",
              "      <th>unmarried</th>\n",
              "      <td>2536</td>\n",
              "      <td>274</td>\n",
              "    </tr>\n",
              "    <tr>\n",
              "      <th>widow / widower</th>\n",
              "      <td>896</td>\n",
              "      <td>63</td>\n",
              "    </tr>\n",
              "  </tbody>\n",
              "</table>\n",
              "</div>"
            ],
            "text/plain": [
              "debt                   0    1\n",
              "family_status                \n",
              "civil partnership   3761  388\n",
              "divorced            1110   85\n",
              "married            11408  931\n",
              "unmarried           2536  274\n",
              "widow / widower      896   63"
            ]
          },
          "execution_count": 118,
          "metadata": {},
          "output_type": "execute_result"
        }
      ],
      "source": [
        "\n",
        "pivot_table_family_status = df.pivot_table(index='family_status', columns= 'debt', values='days_employed', aggfunc='count')\n",
        "pivot_table_family_status\n",
        "\n"
      ]
    },
    {
      "cell_type": "code",
      "execution_count": null,
      "metadata": {
        "id": "PC2E__RUsRTM",
        "outputId": "934dd16a-86e5-4683-a02e-48adbb357415"
      },
      "outputs": [
        {
          "data": {
            "text/html": [
              "<div>\n",
              "<style scoped>\n",
              "    .dataframe tbody tr th:only-of-type {\n",
              "        vertical-align: middle;\n",
              "    }\n",
              "\n",
              "    .dataframe tbody tr th {\n",
              "        vertical-align: top;\n",
              "    }\n",
              "\n",
              "    .dataframe thead th {\n",
              "        text-align: right;\n",
              "    }\n",
              "</style>\n",
              "<table border=\"1\" class=\"dataframe\">\n",
              "  <thead>\n",
              "    <tr style=\"text-align: right;\">\n",
              "      <th>debt</th>\n",
              "      <th>0</th>\n",
              "      <th>1</th>\n",
              "      <th>percentage</th>\n",
              "    </tr>\n",
              "    <tr>\n",
              "      <th>family_status</th>\n",
              "      <th></th>\n",
              "      <th></th>\n",
              "      <th></th>\n",
              "    </tr>\n",
              "  </thead>\n",
              "  <tbody>\n",
              "    <tr>\n",
              "      <th>civil partnership</th>\n",
              "      <td>3761</td>\n",
              "      <td>388</td>\n",
              "      <td>9.351651</td>\n",
              "    </tr>\n",
              "    <tr>\n",
              "      <th>divorced</th>\n",
              "      <td>1110</td>\n",
              "      <td>85</td>\n",
              "      <td>7.112971</td>\n",
              "    </tr>\n",
              "    <tr>\n",
              "      <th>married</th>\n",
              "      <td>11408</td>\n",
              "      <td>931</td>\n",
              "      <td>7.545182</td>\n",
              "    </tr>\n",
              "    <tr>\n",
              "      <th>unmarried</th>\n",
              "      <td>2536</td>\n",
              "      <td>274</td>\n",
              "      <td>9.750890</td>\n",
              "    </tr>\n",
              "    <tr>\n",
              "      <th>widow / widower</th>\n",
              "      <td>896</td>\n",
              "      <td>63</td>\n",
              "      <td>6.569343</td>\n",
              "    </tr>\n",
              "  </tbody>\n",
              "</table>\n",
              "</div>"
            ],
            "text/plain": [
              "debt                   0    1  percentage\n",
              "family_status                            \n",
              "civil partnership   3761  388    9.351651\n",
              "divorced            1110   85    7.112971\n",
              "married            11408  931    7.545182\n",
              "unmarried           2536  274    9.750890\n",
              "widow / widower      896   63    6.569343"
            ]
          },
          "execution_count": 119,
          "metadata": {},
          "output_type": "execute_result"
        }
      ],
      "source": [
        "pivot_table_family_status['percentage'] = pivot_table_family_status[1] / (pivot_table_family_status[1] + pivot_table_family_status[0]) * 100\n",
        "pivot_table_family_status"
      ]
    },
    {
      "cell_type": "markdown",
      "metadata": {
        "id": "r3lIrmQtsRTM"
      },
      "source": [
        "\n",
        "1. prospective debtors with the condition of unmarried and civil partnership (spouse) will have the highest probability of default (9.8% and 9.4%)\n",
        "2. while prospective debtors with widow/widower conditions 'only' have the lowest chance of default (7%)\n",
        "\n"
      ]
    },
    {
      "cell_type": "code",
      "execution_count": null,
      "metadata": {
        "id": "-k3uW8ZRsRTM",
        "outputId": "38b0529e-4e5f-4dc9-a6ec-d087eb7d1be2"
      },
      "outputs": [
        {
          "data": {
            "text/html": [
              "<div>\n",
              "<style scoped>\n",
              "    .dataframe tbody tr th:only-of-type {\n",
              "        vertical-align: middle;\n",
              "    }\n",
              "\n",
              "    .dataframe tbody tr th {\n",
              "        vertical-align: top;\n",
              "    }\n",
              "\n",
              "    .dataframe thead th {\n",
              "        text-align: right;\n",
              "    }\n",
              "</style>\n",
              "<table border=\"1\" class=\"dataframe\">\n",
              "  <thead>\n",
              "    <tr style=\"text-align: right;\">\n",
              "      <th>debt</th>\n",
              "      <th>0</th>\n",
              "      <th>1</th>\n",
              "    </tr>\n",
              "    <tr>\n",
              "      <th>economic_class</th>\n",
              "      <th></th>\n",
              "      <th></th>\n",
              "    </tr>\n",
              "  </thead>\n",
              "  <tbody>\n",
              "    <tr>\n",
              "      <th>lower middle class</th>\n",
              "      <td>3704</td>\n",
              "      <td>281</td>\n",
              "    </tr>\n",
              "    <tr>\n",
              "      <th>middle class</th>\n",
              "      <td>928</td>\n",
              "      <td>72</td>\n",
              "    </tr>\n",
              "    <tr>\n",
              "      <th>poor</th>\n",
              "      <td>15004</td>\n",
              "      <td>1383</td>\n",
              "    </tr>\n",
              "    <tr>\n",
              "      <th>upper middle class</th>\n",
              "      <td>75</td>\n",
              "      <td>5</td>\n",
              "    </tr>\n",
              "  </tbody>\n",
              "</table>\n",
              "</div>"
            ],
            "text/plain": [
              "debt                    0     1\n",
              "economic_class                 \n",
              "lower middle class   3704   281\n",
              "middle class          928    72\n",
              "poor                15004  1383\n",
              "upper middle class     75     5"
            ]
          },
          "execution_count": 120,
          "metadata": {},
          "output_type": "execute_result"
        }
      ],
      "source": [
        "\n",
        "pivot_table_economic_class = df.pivot_table(index='economic_class', columns= 'debt', values='days_employed', aggfunc='count')\n",
        "pivot_table_economic_class\n"
      ]
    },
    {
      "cell_type": "code",
      "execution_count": null,
      "metadata": {
        "id": "paca-5sIsRTN",
        "outputId": "96b92fca-0ed5-4e99-e241-3ccff4a7cc4d"
      },
      "outputs": [
        {
          "data": {
            "text/html": [
              "<div>\n",
              "<style scoped>\n",
              "    .dataframe tbody tr th:only-of-type {\n",
              "        vertical-align: middle;\n",
              "    }\n",
              "\n",
              "    .dataframe tbody tr th {\n",
              "        vertical-align: top;\n",
              "    }\n",
              "\n",
              "    .dataframe thead th {\n",
              "        text-align: right;\n",
              "    }\n",
              "</style>\n",
              "<table border=\"1\" class=\"dataframe\">\n",
              "  <thead>\n",
              "    <tr style=\"text-align: right;\">\n",
              "      <th>debt</th>\n",
              "      <th>0</th>\n",
              "      <th>1</th>\n",
              "      <th>percentage</th>\n",
              "    </tr>\n",
              "    <tr>\n",
              "      <th>economic_class</th>\n",
              "      <th></th>\n",
              "      <th></th>\n",
              "      <th></th>\n",
              "    </tr>\n",
              "  </thead>\n",
              "  <tbody>\n",
              "    <tr>\n",
              "      <th>lower middle class</th>\n",
              "      <td>3704</td>\n",
              "      <td>281</td>\n",
              "      <td>7.051443</td>\n",
              "    </tr>\n",
              "    <tr>\n",
              "      <th>middle class</th>\n",
              "      <td>928</td>\n",
              "      <td>72</td>\n",
              "      <td>7.200000</td>\n",
              "    </tr>\n",
              "    <tr>\n",
              "      <th>poor</th>\n",
              "      <td>15004</td>\n",
              "      <td>1383</td>\n",
              "      <td>8.439617</td>\n",
              "    </tr>\n",
              "    <tr>\n",
              "      <th>upper middle class</th>\n",
              "      <td>75</td>\n",
              "      <td>5</td>\n",
              "      <td>6.250000</td>\n",
              "    </tr>\n",
              "  </tbody>\n",
              "</table>\n",
              "</div>"
            ],
            "text/plain": [
              "debt                    0     1  percentage\n",
              "economic_class                             \n",
              "lower middle class   3704   281    7.051443\n",
              "middle class          928    72    7.200000\n",
              "poor                15004  1383    8.439617\n",
              "upper middle class     75     5    6.250000"
            ]
          },
          "execution_count": 121,
          "metadata": {},
          "output_type": "execute_result"
        }
      ],
      "source": [
        "pivot_table_economic_class['percentage'] = pivot_table_economic_class[1] / (pivot_table_economic_class[1] + pivot_table_economic_class[0]) * 100\n",
        "pivot_table_economic_class\n"
      ]
    },
    {
      "cell_type": "markdown",
      "metadata": {
        "id": "RIZAgLRRsRTN"
      },
      "source": [
        "1. the more the category is 'poor', the greater the chance of default."
      ]
    },
    {
      "cell_type": "code",
      "execution_count": null,
      "metadata": {
        "id": "CHeG9BBXsRTN",
        "outputId": "35d3b97e-b676-41dc-d968-ab23a5575572"
      },
      "outputs": [
        {
          "data": {
            "text/html": [
              "<div>\n",
              "<style scoped>\n",
              "    .dataframe tbody tr th:only-of-type {\n",
              "        vertical-align: middle;\n",
              "    }\n",
              "\n",
              "    .dataframe tbody tr th {\n",
              "        vertical-align: top;\n",
              "    }\n",
              "\n",
              "    .dataframe thead th {\n",
              "        text-align: right;\n",
              "    }\n",
              "</style>\n",
              "<table border=\"1\" class=\"dataframe\">\n",
              "  <thead>\n",
              "    <tr style=\"text-align: right;\">\n",
              "      <th>debt</th>\n",
              "      <th>0</th>\n",
              "      <th>1</th>\n",
              "      <th>percentage</th>\n",
              "    </tr>\n",
              "    <tr>\n",
              "      <th>general_purpose</th>\n",
              "      <th></th>\n",
              "      <th></th>\n",
              "      <th></th>\n",
              "    </tr>\n",
              "  </thead>\n",
              "  <tbody>\n",
              "    <tr>\n",
              "      <th>car</th>\n",
              "      <td>3903</td>\n",
              "      <td>403</td>\n",
              "      <td>9.359034</td>\n",
              "    </tr>\n",
              "    <tr>\n",
              "      <th>education</th>\n",
              "      <td>3643</td>\n",
              "      <td>370</td>\n",
              "      <td>9.220035</td>\n",
              "    </tr>\n",
              "    <tr>\n",
              "      <th>property</th>\n",
              "      <td>10028</td>\n",
              "      <td>782</td>\n",
              "      <td>7.234043</td>\n",
              "    </tr>\n",
              "    <tr>\n",
              "      <th>wedding</th>\n",
              "      <td>2137</td>\n",
              "      <td>186</td>\n",
              "      <td>8.006888</td>\n",
              "    </tr>\n",
              "  </tbody>\n",
              "</table>\n",
              "</div>"
            ],
            "text/plain": [
              "debt                 0    1  percentage\n",
              "general_purpose                        \n",
              "car               3903  403    9.359034\n",
              "education         3643  370    9.220035\n",
              "property         10028  782    7.234043\n",
              "wedding           2137  186    8.006888"
            ]
          },
          "execution_count": 122,
          "metadata": {},
          "output_type": "execute_result"
        }
      ],
      "source": [
        "\n",
        "pivot_table_general_purpose = df.pivot_table(index='general_purpose', columns= 'debt', values='days_employed', aggfunc='count')\n",
        "pivot_table_general_purpose['percentage'] = pivot_table_general_purpose[1] / (pivot_table_general_purpose[1] + pivot_table_general_purpose[0]) * 100\n",
        "pivot_table_general_purpose\n"
      ]
    },
    {
      "cell_type": "markdown",
      "metadata": {
        "id": "JT28660BsRTN"
      },
      "source": [
        "\n",
        "1. the highest probability of default based on the data above, it can be concluded that prospective debtors with the aim of buying or renting a car and or financing education (>9%)\n",
        "2. while those who aim to buy or rent property have the lowest chance of default. \n",
        "\n",
        "\n"
      ]
    },
    {
      "cell_type": "markdown",
      "metadata": {
        "id": "W5GVEGGosRTN"
      },
      "source": [
        "Conclusion:\n",
        "1. There are missing values in this dataset that exist randomly without a pattern. In overcoming this missing data, it is done by filling in the data from the median value of the available data.\n",
        "2. Duplicate data in this dataset is fixed by changing the way of writing to lowercase letters.\n",
        "3. There is also a strange data value in the 'children' column that has children totaling -1 and 20. The data is fixed by changing the negative value to positive and not deleting the existing data value due to the lack of convincing information to delete the data value. \n",
        "4. In the 'dob_years' column, there was an odd data value of 0. The data was corrected by replacing the value with the median of 42. \n",
        "5. The new corrected data is checked for duplicates. The duplicate drop process is performed.\n",
        "6. The dictionary data is dropped because it is an easy way to fix the data.\n",
        "7. The missing value in the 'total_income' column is fixed by creating an age category for the customer. Then filled with the median value of 'total_income'.\n",
        "8. Missing values in the 'days_employed' column are fixed by filling in the blank values with the available median data.\n",
        "9. Data categorization to facilitate decision making and hypothesis checking.\n",
        "10. From the results of the hypothesis checking data, it is known that the probability of customers having children, family status, total income, and purpose of purchase (can be said not to affect customer default because it is known in the data that 90% and above of customers successfully pay the loan.\n"
      ]
    }
  ],
  "metadata": {
    "ExecuteTimeLog": [
      {
        "duration": 2741,
        "start_time": "2021-10-21T01:08:49.480Z"
      },
      {
        "duration": 52,
        "start_time": "2021-10-21T01:08:53.315Z"
      },
      {
        "duration": 49,
        "start_time": "2021-10-21T01:08:57.432Z"
      },
      {
        "duration": 70,
        "start_time": "2021-10-21T01:09:07.706Z"
      }
    ],
    "kernelspec": {
      "display_name": "Python 3 (ipykernel)",
      "language": "python",
      "name": "python3"
    },
    "language_info": {
      "codemirror_mode": {
        "name": "ipython",
        "version": 3
      },
      "file_extension": ".py",
      "mimetype": "text/x-python",
      "name": "python",
      "nbconvert_exporter": "python",
      "pygments_lexer": "ipython3",
      "version": "3.9.5"
    },
    "toc": {
      "base_numbering": 1,
      "nav_menu": {},
      "number_sections": true,
      "sideBar": true,
      "skip_h1_title": true,
      "title_cell": "Table of Contents",
      "title_sidebar": "Contents",
      "toc_cell": false,
      "toc_position": {},
      "toc_section_display": true,
      "toc_window_display": false
    },
    "vscode": {
      "interpreter": {
        "hash": "ef1728426330606e01c1da091626d7dbd7604032247e9790b44969d857c4f729"
      }
    },
    "colab": {
      "provenance": []
    }
  },
  "nbformat": 4,
  "nbformat_minor": 0
}